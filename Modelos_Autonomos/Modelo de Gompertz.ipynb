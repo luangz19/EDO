{
 "cells": [
  {
   "cell_type": "code",
   "execution_count": 1,
   "id": "8977e796-ca36-4cd7-9915-3b8b46339b01",
   "metadata": {},
   "outputs": [],
   "source": [
    "import plotly.graph_objects as go\n",
    "import numpy as np\n",
    "from scipy.integrate import solve_ivp"
   ]
  },
  {
   "cell_type": "markdown",
   "id": "3aee0d12-c296-474e-9ad2-413aba8e3bc2",
   "metadata": {},
   "source": [
    "### Modelo de Dinâmica Populacional\n",
    "- Modelo de Gompertz\n",
    "\n",
    "O modelo de Gompertz é dado pelo PVI:\n",
    "\n",
    "$$\\begin{cases}  \\dfrac{dP}{dt} = rP \\displaystyle \\ln{\\left( \\frac{K}{P} \\right)} \\\\\\\\\n",
    "P(0) = P_0\n",
    "\\end{cases}$$\n",
    "\n",
    "onde\n",
    "- $P(t)$ é o número de indivíduos no tempo $t$;\n",
    "- $r$ é a taxa de crescimento intrínseco;\n",
    "- $K$ é a capacidade de carga, ou seja, o número máximo de indivíduos que o ambiente\n",
    "suporta."
   ]
  },
  {
   "cell_type": "code",
   "execution_count": 4,
   "id": "da623df9-38ae-4b8c-86a1-a0ef5c8246e6",
   "metadata": {},
   "outputs": [
    {
     "data": {
      "application/vnd.plotly.v1+json": {
       "config": {
        "plotlyServerURL": "https://plot.ly"
       },
       "data": [
        {
         "name": "y0 = 1",
         "type": "scatter",
         "x": {
          "bdata": "AAAAAAAAAABlk0022WTjP2WTTTbZZPM/GF100UUX/T9lk0022WQDQD744IMPPghAGF100UUXDUD44IMPPvgQQGWTTTbZZBNA0kUXXXTRFUA++OCDDz4YQKuqqqqqqhpAGF100UUXHUCEDz744IMfQPjggw8++CBAL7rooosuIkBlk0022WQjQJtssskmmyRA0kUXXXTRJUAIH3zwwQcnQD744IMPPihAddFFF110KUCrqqqqqqoqQOGDDz744CtAGF100UUXLUBONtlkk00uQIQPPvjggy9AXXTRRRddMED44IMPPvgwQJRNNtlkkzFAL7rooosuMkDKJptssskyQGWTTTbZZDNAAAAAAAAANECbbLLJJps0QDbZZJNNNjVA0kUXXXTRNUBtsskmm2w2QAgffPDBBzdAo4suuuiiN0A++OCDDz44QNlkk0022ThAddFFF110OUAQPvjggw86QKuqqqqqqjpARhdddNFFO0Dhgw8++OA7QHzwwQcffDxAGF100UUXPUCzySabbLI9QE422WSTTT5A6aKLLrroPkCEDz744IM/QBA++OCDD0BAXXTRRRddQECrqqqqqqpAQPjggw8++EBARhdddNFFQUCUTTbZZJNBQOGDDz744EFAL7rooosuQkB88MEHH3xCQMomm2yyyUJAF1100UUXQ0Blk0022WRDQLPJJptsskNAAAAAAAAAREBONtlkk01EQJtssskmm0RA6aKLLrroREA22WSTTTZFQIQPPvjgg0VA0kUXXXTRRUAffPDBBx9GQG2yySabbEZAuuiiiy66RkAIH3zwwQdHQFZVVVVVVUdAo4suuuiiR0DxwQcffPBHQD744IMPPkhAjC666KKLSEDZZJNNNtlIQCebbLLJJklAddFFF110SUDCBx988MFJQBA++OCDD0pAXXTRRRddSkCrqqqqqqpKQPjggw8++EpARhdddNFFS0CUTTbZZJNLQOGDDz744EtAL7rooosuTEB88MEHH3xMQMomm2yyyUxAGF100UUXTUBlk0022WRNQLPJJptssk1AAAAAAAAATkA=",
          "dtype": "f8"
         },
         "y": {
          "bdata": "AAAAAAAA8D9SiVrllwT4P9RQIzQMmgFAGeF6gbc4CUD20Od6GLIRQCpCkWSvVxhAX1C5wmVtIED2eJZiJ8klQMHPPA89bCxAV/G0BtNAMkAA6Rda8xg3QMBqRyqb0jxAHOCfaeHAQUDvmkuySZtFQPlwCkWV/klABNJfSM3uTkBxfalRMzdSQBfMf7dmP1VAAXmsF8OPWEAVr6iGECdcQBGQtnWOAWBAbgK5/10QYkBljlen4z1kQEWIbqiZh2ZA5NvzlkzraEBzQuGqJ2ZrQFgnXKAS9W1ABEoPbYFKcEAKmLuwfaFxQJGgJHMG/nJAblWG36pedECJ92b0AMJ1QNQWl4OlJndASJIxMjyLeEDql5t4b+55QFggXKXtTntAvHWaMlqrfEDraFE62AJ+QO9GH9e4VH9AcfEojC1QgED2SvMAlvKAQKMfRUZTkYFAHqLM0iksgkASyI8X5cKCQDNK7H9XVYNAP6SXcVrjg0D6FJ9MzmyEQDOeZ2ua8YRAvgSuIq1xhUB20IbB++yFQEBMXpGCY4ZADYb41UTVhkDPTnHNTEKHQIU6PLCrqodAMqAksXkOiEDlmU391W2IQLIEMrzmyIhAuoCkD9kfiUDt55K833KJQIi+/u0ZwolA9Hzc0qANikAO+zjekFWKQBIVj68GmopAlKvHEh/bikCDozkA9xiLQCfmqZyrU4tAJGFLOVqLi0B4Br9TIMCLQHvME5Yb8otA4K3G1mkhjECyqcIYKU6MQFvDYIt3eIxAmgJoinOgjECMcw2eO8aMQKgm9Hru6YxAvTAtAqsLjUD3qjdBkCuNQNyyAHK9SY1ASmrj+lFmjUCrE+YzaYGNQPVtNRcRm41AlR0PM1ezjUCHhb8hScqNQI9a83f0341ANqO3xGb0jUDSt3mRrQeOQHxCB2LWGY5AFz+OtO4qjkBO+5wBBDuOQJMWIrwjSo5AIIJsUVtYjkD3gCspuGWOQOGnbqVHco5Acd2lIhd+jkD+WaH3M4mOQKunkXWrk45AYKIH6IqdjkDNd/SU36aOQGunqby2r45AYKLICxy4jkA=",
          "dtype": "f8"
         }
        },
        {
         "name": "y0 = 2",
         "type": "scatter",
         "x": {
          "bdata": "AAAAAAAAAABlk0022WTjP2WTTTbZZPM/GF100UUX/T9lk0022WQDQD744IMPPghAGF100UUXDUD44IMPPvgQQGWTTTbZZBNA0kUXXXTRFUA++OCDDz4YQKuqqqqqqhpAGF100UUXHUCEDz744IMfQPjggw8++CBAL7rooosuIkBlk0022WQjQJtssskmmyRA0kUXXXTRJUAIH3zwwQcnQD744IMPPihAddFFF110KUCrqqqqqqoqQOGDDz744CtAGF100UUXLUBONtlkk00uQIQPPvjggy9AXXTRRRddMED44IMPPvgwQJRNNtlkkzFAL7rooosuMkDKJptssskyQGWTTTbZZDNAAAAAAAAANECbbLLJJps0QDbZZJNNNjVA0kUXXXTRNUBtsskmm2w2QAgffPDBBzdAo4suuuiiN0A++OCDDz44QNlkk0022ThAddFFF110OUAQPvjggw86QKuqqqqqqjpARhdddNFFO0Dhgw8++OA7QHzwwQcffDxAGF100UUXPUCzySabbLI9QE422WSTTT5A6aKLLrroPkCEDz744IM/QBA++OCDD0BAXXTRRRddQECrqqqqqqpAQPjggw8++EBARhdddNFFQUCUTTbZZJNBQOGDDz744EFAL7rooosuQkB88MEHH3xCQMomm2yyyUJAF1100UUXQ0Blk0022WRDQLPJJptsskNAAAAAAAAAREBONtlkk01EQJtssskmm0RA6aKLLrroREA22WSTTTZFQIQPPvjgg0VA0kUXXXTRRUAffPDBBx9GQG2yySabbEZAuuiiiy66RkAIH3zwwQdHQFZVVVVVVUdAo4suuuiiR0DxwQcffPBHQD744IMPPkhAjC666KKLSEDZZJNNNtlIQCebbLLJJklAddFFF110SUDCBx988MFJQBA++OCDD0pAXXTRRRddSkCrqqqqqqpKQPjggw8++EpARhdddNFFS0CUTTbZZJNLQOGDDz744EtAL7rooosuTEB88MEHH3xMQMomm2yyyUxAGF100UUXTUBlk0022WRNQLPJJptssk1AAAAAAAAATkA=",
          "dtype": "f8"
         },
         "y": {
          "bdata": "AAAAAAAAAEDzn1mGBQ8HQMCiY0E8QxBAQY3R1wF6FkC30QegBnweQOzS9wq/TiRABPa7enSZKkDjc/P1wCQxQA0IZkJtxjVAopdHvmpGO0CPeoGmVdtAQCJOwB4pk0RALFaa1oPRSECy+khqaJxNQBpdti3Ne1FAWbzvkkVyVEDCP9ofLbFXQFhfZWbrNltAPw+HHIUBX0DDgU3nEIdhQAZebel1rGNA/Alkas7uZUDUoJbqvktoQGhrDpWzwGpANOB4P+BKbUBQoydqQOdvQD5DCKBLSXFAblEyLsakckCYqZsOsgR0QIT7/4OTZ3VAoEIAT/jLdkChB4hqhTB4QHxgzQv3k3lAaPBQoiD1ekDf593X7FJ8QJwEipBdrH1AnpG16osAf0CSs4UfVCeAQFZ1QBD9yoBAfwcrLvBqgUAPqgp96AaCQKrjyZ2snoJAloF4zg4yg0A5G/j/6sCDQOKAlkkoS4RAH7JcncHQhEAofuGrtVGFQBYbAa8FzoVA4iXdabVFhkBgotwoy7iGQEj7q8FPJ4dALgI9k06Rh0CF78aF1faHQKRixgr1V4hAuGH9HMC0iEDXWXNATA2JQO4edYKxYYlA0OuUeQqyiUAqYqpFdP6JQIiK0o8OR4pAW9RvivuLikDsFSrxX82KQGeM7ghjC4tA1tvvny5Gi0AkD6YN732LQBiYzjLTsotAWk9seQzli0BqflHNzhSMQDKISH8/QoxAGVUFY21tjECB8nzKaZaMQMICT0dGvYxAI73FqhTijEDi7dUF5wSNQC72HqnPJY1AKczqJOFEjUDo+i1JLmKNQHSihyXKfY1AxndBCciXjUDPxE+DO7CNQG1oUWI4x41Ad9aPtNLcjUCxF//HHvGNQNfJPSoxBI5AlR+VqB4WjkCK4PhP/CaOQEppB23fNo5AWqsJjN1FjkAyLfN4DFSOQD8KYj+CYY5A3/KeKlVujkDVIkOBgnqOQGz/Xzj9hY5AfP7NA8+QjkD6HFk2AZuOQHGcBb+cpI5ABgMQKaqtjkByG+2bMbaOQAb1Sds6vo5AreMLR83FjkA=",
          "dtype": "f8"
         }
        },
        {
         "name": "y0 = 3",
         "type": "scatter",
         "x": {
          "bdata": "AAAAAAAAAABlk0022WTjP2WTTTbZZPM/GF100UUX/T9lk0022WQDQD744IMPPghAGF100UUXDUD44IMPPvgQQGWTTTbZZBNA0kUXXXTRFUA++OCDDz4YQKuqqqqqqhpAGF100UUXHUCEDz744IMfQPjggw8++CBAL7rooosuIkBlk0022WQjQJtssskmmyRA0kUXXXTRJUAIH3zwwQcnQD744IMPPihAddFFF110KUCrqqqqqqoqQOGDDz744CtAGF100UUXLUBONtlkk00uQIQPPvjggy9AXXTRRRddMED44IMPPvgwQJRNNtlkkzFAL7rooosuMkDKJptssskyQGWTTTbZZDNAAAAAAAAANECbbLLJJps0QDbZZJNNNjVA0kUXXXTRNUBtsskmm2w2QAgffPDBBzdAo4suuuiiN0A++OCDDz44QNlkk0022ThAddFFF110OUAQPvjggw86QKuqqqqqqjpARhdddNFFO0Dhgw8++OA7QHzwwQcffDxAGF100UUXPUCzySabbLI9QE422WSTTT5A6aKLLrroPkCEDz744IM/QBA++OCDD0BAXXTRRRddQECrqqqqqqpAQPjggw8++EBARhdddNFFQUCUTTbZZJNBQOGDDz744EFAL7rooosuQkB88MEHH3xCQMomm2yyyUJAF1100UUXQ0Blk0022WRDQLPJJptsskNAAAAAAAAAREBONtlkk01EQJtssskmm0RA6aKLLrroREA22WSTTTZFQIQPPvjgg0VA0kUXXXTRRUAffPDBBx9GQG2yySabbEZAuuiiiy66RkAIH3zwwQdHQFZVVVVVVUdAo4suuuiiR0DxwQcffPBHQD744IMPPkhAjC666KKLSEDZZJNNNtlIQCebbLLJJklAddFFF110SUDCBx988MFJQBA++OCDD0pAXXTRRRddSkCrqqqqqqpKQPjggw8++EpARhdddNFFS0CUTTbZZJNLQOGDDz744EtAL7rooosuTEB88MEHH3xMQMomm2yyyUxAGF100UUXTUBlk0022WRNQLPJJptssk1AAAAAAAAATkA=",
          "dtype": "f8"
         },
         "y": {
          "bdata": "AAAAAAAACEC4OeOp9OIQQFB0qYZiShdADiCpKHWEH0AEW692svMkQPM7nrKsZStAkT9baXmhMUCu8a6MWFo2QCapi5808ztANr7ul7E/QUBce8QwTAdFQAuMNXdzVklAsLng1YkxTkBRgHxcD85RQFv7niwIzFRAsEf6P4oSWEDksBEuXKBbQHZUSUEwc19A4xBzO9LDYUA2oIEf1uxjQH+9WUu3MmZA+AdnIMCSaEBA0V+eIQprQI4bBx4Elm1A1EyWqMMZcEB0V1Yh4W9xQJw3OKvhy3JAjM+2JEgsdEDOWdMYk491QDJpFb889HZAlwVXZ75YeED/wNXuybt5QOkfq/tNHHtABgQ6k015fEByJm/G3tF9QLQXwbEqJX9A4R+YvjY5gED6biMue9yAQIqEDMcTfIFArFeiLrsXgkAuy/iPNa+CQJit6JtQQoNAIrkPiePQg0C+k9ATz1qEQBDPUn7934RAdOiCkGJghUD+SBKY+9uFQHBFd2jPUoZASh7tWu7EhkCQC6NJcjKHQFopkhB2m4dAynXATw8AiEASjSEfVmCIQNeP+WRjvIhALiPd1VAUiUCgcLH0OGiJQCUmrBI3uIlAKnZTT2cEikCKF36Y5kyKQJNFU6rSkYpAB8BKD0rTikAXyywgbBGLQGYvEgRZTItACzpksDGEi0CLvNzoF7mLQOAMhj8u64tAdAW7FJgajEAiBSeXeUeMQDjvxcP3cYxAdyvkZTiajEAOph4XYsCMQKS+54uX5IxAbBtljOwGjUATI8sPcieNQLEkqxE5Ro1AKCbRkVJjjUAl5EOUz36NQCPSRCHBmI1AZxpQRTixjUACnhwRRsiNQM/0m5n73Y1AeG3692nyjUBvDZ9JogWOQPSQK7C1F45AEmt8UbUojkCexahXsjiOQDuBAvG9R45AVjUWUOlVjkAoMKurRWOOQLV2wz7kb45AzsSbSNZ7jkAPjasMLYeOQDR0JuXskY5A4rqCqw6cjkCPc2ntmqWOQHXSyQaaro5AE5O18xO3jkAs+GBQEL+OQMzLIlmWxo5AQV906qzNjkA=",
          "dtype": "f8"
         }
        },
        {
         "name": "y0 = 4",
         "type": "scatter",
         "x": {
          "bdata": "AAAAAAAAAABlk0022WTjP2WTTTbZZPM/GF100UUX/T9lk0022WQDQD744IMPPghAGF100UUXDUD44IMPPvgQQGWTTTbZZBNA0kUXXXTRFUA++OCDDz4YQKuqqqqqqhpAGF100UUXHUCEDz744IMfQPjggw8++CBAL7rooosuIkBlk0022WQjQJtssskmmyRA0kUXXXTRJUAIH3zwwQcnQD744IMPPihAddFFF110KUCrqqqqqqoqQOGDDz744CtAGF100UUXLUBONtlkk00uQIQPPvjggy9AXXTRRRddMED44IMPPvgwQJRNNtlkkzFAL7rooosuMkDKJptssskyQGWTTTbZZDNAAAAAAAAANECbbLLJJps0QDbZZJNNNjVA0kUXXXTRNUBtsskmm2w2QAgffPDBBzdAo4suuuiiN0A++OCDDz44QNlkk0022ThAddFFF110OUAQPvjggw86QKuqqqqqqjpARhdddNFFO0Dhgw8++OA7QHzwwQcffDxAGF100UUXPUCzySabbLI9QE422WSTTT5A6aKLLrroPkCEDz744IM/QBA++OCDD0BAXXTRRRddQECrqqqqqqpAQPjggw8++EBARhdddNFFQUCUTTbZZJNBQOGDDz744EFAL7rooosuQkB88MEHH3xCQMomm2yyyUJAF1100UUXQ0Blk0022WRDQLPJJptsskNAAAAAAAAAREBONtlkk01EQJtssskmm0RA6aKLLrroREA22WSTTTZFQIQPPvjgg0VA0kUXXXTRRUAffPDBBx9GQG2yySabbEZAuuiiiy66RkAIH3zwwQdHQFZVVVVVVUdAo4suuuiiR0DxwQcffPBHQD744IMPPkhAjC666KKLSEDZZJNNNtlIQCebbLLJJklAddFFF110SUDCBx988MFJQBA++OCDD0pAXXTRRRddSkCrqqqqqqpKQPjggw8++EpARhdddNFFS0CUTTbZZJNLQOGDDz744EtAL7rooosuTEB88MEHH3xMQMomm2yyyUxAGF100UUXTUBlk0022WRNQLPJJptssk1AAAAAAAAATkA=",
          "dtype": "f8"
         },
         "y": {
          "bdata": "AAAAAAAAEED6FKKxQCMWQAJDn3wBDR5ALejIn84HJECio5XmDUIqQKhg5VLy8DBAh82iE7aINUAwRwt6y/s6QOxf4zYCr0BABi4H559gREC6yl9Rm5lIQHpaVYu9Xk1Ah1ADEGNZUUDYgTdvnEtUQFznfL0ShldA/gVTl9gHW0AKMtdwEc9eQJhH4sp4bGFASAi6FN+QY0BMPG6TZtJlQLQLj/tgLmhAIxqdt4OiakAW50RCxCttQFs9PyP9xm9AlpyXZY44cUARJNHJkpNyQKAUiN8W83NAfHZtvK9VdUCKeqdq/Ll2QGx60eilHnhAcPj7KV+CeUCYn6wV5eN6QAw/KKT9QXxA9yy70UubfUBWgUON8O5+QKSDSHEsHoBA1ZPe6n7BgECJdJUxMmGBQOx3w78O/YFABr/jC+OUgkDBOZaIgyiDQOKmn6TKt4NAD5TpyphChEDJXYJi1MiEQHIvnc5pSoVATAOSbkvHhUB0ot2dcT+GQOikIbTasoZAgnEkBYshh0D+PdHgjIuHQPIOOJPw8IdA1reNZMxRiEAB2yuZPK6IQKXpkHFjBolA1CNgKmlaiUCAmGH8e6qJQHglghzQ9olAzIf7mZw/ikByPyYm+ISKQLI6Xxn6xopADuXfhb4Fi0BfL+iDYUGLQN2PvjH/eYtAFAKws7Ovi0DxBhA0m+KLQLikOOPREoxACWeK93NAjEDfXmytnWuMQI8iTEdrlIxAyM2dDfm6jECVAdxOY9+MQFzkh1/GAY1A3CEpmj4ijUAv601f6ECNQMz2ihXgXY1AgoB7KUJ5jUB7ScENK5ONQMXyV+C2q41AenUf8/bCjUBhBvh89tiNQBGYxODB7Y1AS58ad2UBjkDzEkKO7ROOQBFsNWpmJY5A1aWhRNw1jkCTPeZMW0WOQMQyFajvU45ACAfzcKVhjkAjvva3iG6OQP/dSYOleo5Aq27IzgeGjkBb+gCMu5COQGmNNKLMmo5AVbZW7kakjkDDhQ1DNq2OQH2OsWimtY5Ac+VNHaO9jkBpbe3mN8WOQJ/jieBizI5AhmAZeCPTjkA=",
          "dtype": "f8"
         }
        },
        {
         "name": "y0 = 5",
         "type": "scatter",
         "x": {
          "bdata": "AAAAAAAAAABlk0022WTjP2WTTTbZZPM/GF100UUX/T9lk0022WQDQD744IMPPghAGF100UUXDUD44IMPPvgQQGWTTTbZZBNA0kUXXXTRFUA++OCDDz4YQKuqqqqqqhpAGF100UUXHUCEDz744IMfQPjggw8++CBAL7rooosuIkBlk0022WQjQJtssskmmyRA0kUXXXTRJUAIH3zwwQcnQD744IMPPihAddFFF110KUCrqqqqqqoqQOGDDz744CtAGF100UUXLUBONtlkk00uQIQPPvjggy9AXXTRRRddMED44IMPPvgwQJRNNtlkkzFAL7rooosuMkDKJptssskyQGWTTTbZZDNAAAAAAAAANECbbLLJJps0QDbZZJNNNjVA0kUXXXTRNUBtsskmm2w2QAgffPDBBzdAo4suuuiiN0A++OCDDz44QNlkk0022ThAddFFF110OUAQPvjggw86QKuqqqqqqjpARhdddNFFO0Dhgw8++OA7QHzwwQcffDxAGF100UUXPUCzySabbLI9QE422WSTTT5A6aKLLrroPkCEDz744IM/QBA++OCDD0BAXXTRRRddQECrqqqqqqpAQPjggw8++EBARhdddNFFQUCUTTbZZJNBQOGDDz744EFAL7rooosuQkB88MEHH3xCQMomm2yyyUJAF1100UUXQ0Blk0022WRDQLPJJptsskNAAAAAAAAAREBONtlkk01EQJtssskmm0RA6aKLLrroREA22WSTTTZFQIQPPvjgg0VA0kUXXXTRRUAffPDBBx9GQG2yySabbEZAuuiiiy66RkAIH3zwwQdHQFZVVVVVVUdAo4suuuiiR0DxwQcffPBHQD744IMPPkhAjC666KKLSEDZZJNNNtlIQCebbLLJJklAddFFF110SUDCBx988MFJQBA++OCDD0pAXXTRRRddSkCrqqqqqqpKQPjggw8++EpARhdddNFFS0CUTTbZZJNLQOGDDz744EtAL7rooosuTEB88MEHH3xMQMomm2yyyUxAGF100UUXTUBlk0022WRNQLPJJptssk1AAAAAAAAATkA=",
          "dtype": "f8"
         },
         "y": {
          "bdata": "AAAAAAAAFEDuNkmBt08bQI7dmjIyTyJAEjhjXl8gKEDBtwpBakgvQO4dnfXm+TNAcpwfF7MlOUDsE6sY+Dk/QA6Rj1U5JENATqv2T7cwR0DAaPihbMhLQKakX6KLd1BAWF4ZQh5TU0B9yn2o1nZWQOUV6SkQ4llAI2C8jRyTXUC5YwPmwsNgQPILJMAH3mJAqGW4dFsWZUCuBPF0WWpnQLnTtgM612lAViPGsupZbEDN4jaY4O9uQBhxJob6ynBABfyOlnYkckAAJkfr2IJzQHQrKNGn5HRAX3Hyc3tIdkBQhU3e/ax3QG0dyPnqEHlAahjYjhBzekCUfdpETtJ7QMZ8E6KVLX1AdG6uC+qDfkCi073FYNR/QPU7l+YFj4BALkEqIR8wgUClf+crTM2BQGrR5mViZoJA9z8kTDz7gkAyBIB5uYuDQGuGvqa+F4RAYF6IqjWfhEA2U2p5DSKFQIRb1SU6oIVARp0e4LQZhkDobX/2e46GQD9SFdWS/oZAj/7hBQJqh0CBVssw19CHQDBtmxslM4hAIIUAqgORiEA/EI3dj+qIQOivt9XrP4lA4jTbzz6RiUBgnzYntd6JQPse7VSAKIpAhXPo2NZuikBgc2OB5bGKQJiJ2VnE8YpAf3OS24oui0DinU3IUGiLQBAlQioun4tA0tQeVDvTi0B0KArhkASMQL1KorRHM4xA8hX9+nhfjEDYE6goPomMQLB9qPqwsIxAPjx7duvVjEC95xTqB/mMQO3H4esgGo1AB9TFWlE5jUDGshxetFaNQGG6uWVlco1AjvDnKYCMjUCCCmqrIKWNQO5sejNjvI1AAyzLU2TSjUBwC4bmQOeNQKjizdsT+41AeIhTE9sNjkDAw/Yzmx+OQMvwPvheMI5ASbhlBzFAjkBVD1f1G0+OQHQ3sUIqXY5AkL7EXGZqjkD+fpSd2naOQHyf1UuRgo5ALpPvmpSNjkClGfyq7peOQNY+x4ipoY5AIVvPLc+qjkBOE0WAabOOQI9YC1OCu45AfGi3ZSPDjkAZzZBkVsqOQM9ckegk0Y5Acjpld5jXjkA=",
          "dtype": "f8"
         }
        },
        {
         "name": "y0 = 6",
         "type": "scatter",
         "x": {
          "bdata": "AAAAAAAAAABlk0022WTjP2WTTTbZZPM/GF100UUX/T9lk0022WQDQD744IMPPghAGF100UUXDUD44IMPPvgQQGWTTTbZZBNA0kUXXXTRFUA++OCDDz4YQKuqqqqqqhpAGF100UUXHUCEDz744IMfQPjggw8++CBAL7rooosuIkBlk0022WQjQJtssskmmyRA0kUXXXTRJUAIH3zwwQcnQD744IMPPihAddFFF110KUCrqqqqqqoqQOGDDz744CtAGF100UUXLUBONtlkk00uQIQPPvjggy9AXXTRRRddMED44IMPPvgwQJRNNtlkkzFAL7rooosuMkDKJptssskyQGWTTTbZZDNAAAAAAAAANECbbLLJJps0QDbZZJNNNjVA0kUXXXTRNUBtsskmm2w2QAgffPDBBzdAo4suuuiiN0A++OCDDz44QNlkk0022ThAddFFF110OUAQPvjggw86QKuqqqqqqjpARhdddNFFO0Dhgw8++OA7QHzwwQcffDxAGF100UUXPUCzySabbLI9QE422WSTTT5A6aKLLrroPkCEDz744IM/QBA++OCDD0BAXXTRRRddQECrqqqqqqpAQPjggw8++EBARhdddNFFQUCUTTbZZJNBQOGDDz744EFAL7rooosuQkB88MEHH3xCQMomm2yyyUJAF1100UUXQ0Blk0022WRDQLPJJptsskNAAAAAAAAAREBONtlkk01EQJtssskmm0RA6aKLLrroREA22WSTTTZFQIQPPvjgg0VA0kUXXXTRRUAffPDBBx9GQG2yySabbEZAuuiiiy66RkAIH3zwwQdHQFZVVVVVVUdAo4suuuiiR0DxwQcffPBHQD744IMPPkhAjC666KKLSEDZZJNNNtlIQCebbLLJJklAddFFF110SUDCBx988MFJQBA++OCDD0pAXXTRRRddSkCrqqqqqqpKQPjggw8++EpARhdddNFFS0CUTTbZZJNLQOGDDz744EtAL7rooosuTEB88MEHH3xMQMomm2yyyUxAGF100UUXTUBlk0022WRNQLPJJptssk1AAAAAAAAATkA=",
          "dtype": "f8"
         },
         "y": {
          "bdata": "AAAAAAAAGEDTQ4YzSzYgQI8NH0THhCVAsX0NyGgWLEBsc57FFQwyQFoQ8sP32jZAF5B1a4iLPEA52lzYg5dBQBMQrqSaakVANni/KVnGSUB4HYLN4K9OQIOnrhAEFVJANlAXca0aVUBSyostIWhYQGuvrV0y/FtANugTW5jUX0A1QwS5I/dhQHRwQ6HKImRA1skdYBxrZkDpP0IZpc1oQMplOJqhR2tAKHFgWv/VbUCsQUufvDpwQHwRu52xkXFA21ZLcEzuckBovq06+050QD3YbuJBsnVA6Bf2DroWd0Bs1IUpE3t4QERIO10S3nlAWZEOl5I+e0AOsdKFhJt8QD6MNZru831ANOu/Bu1Gf0DavOrf2EmAQHpj2j3C7IBA1KI7WeGLgUDT8sR95yaCQFRncRefvYJAbaKMY/JPg0DiPyg8z92DQL3f6tgmZ4RAViYQz+3rhEBJvGgRHGyFQIFOWvCs54VANI7fGZ9ehkDeMIiZ9NCGQEfweNiyPodAg4prneKnh0Dswa4MkAyIQCpdJqjKbIhALidLT6XIiEAx7yo/NiCJQLiIaBKXc4lAkss7weTCiUDak3GhPw6KQO7Ba2bLVYpAgDohIa+ZikCF5h1AFdqKQD6zgo8rF4tAOJIFOSNRi0BHefHDMIiLQIxiJhWMvItApR9TxG/ui0CyIWdK/B2MQCLQ1sU8S4xA1A5qhz92jEC/2ZRmE5+MQOZEd8HHxYxAX3zdfGzqjEBTxD8EEg2NQPx4wknJLY1Apg42xqNMjUCsERd5s2mNQH8mjugKhY1AoAlwIb2ejUCgjz233baNQCOlI8SAzY1A30776LrijUCcqUlNofaNQDLqP59JCY5AjF27E8oajkCoaEVmOSuOQJGIE9muOo5AalIHNUJJjkBhc67JC1eOQLywQm0kZI5Az+epfKVwjkDQrB7to3yOQBVfur7/h45AcS1M4LSSjkBNX0MwzJyOQB9qbT1Opo5AZ/H1RkOvjkC2xmY8s7eOQKTpp72lv45A2of/GiLHjkAK/RFVL86OQPXS4RzU1I5AZsHP0xbbjkA=",
          "dtype": "f8"
         }
        },
        {
         "name": "y0 = 7",
         "type": "scatter",
         "x": {
          "bdata": "AAAAAAAAAABlk0022WTjP2WTTTbZZPM/GF100UUX/T9lk0022WQDQD744IMPPghAGF100UUXDUD44IMPPvgQQGWTTTbZZBNA0kUXXXTRFUA++OCDDz4YQKuqqqqqqhpAGF100UUXHUCEDz744IMfQPjggw8++CBAL7rooosuIkBlk0022WQjQJtssskmmyRA0kUXXXTRJUAIH3zwwQcnQD744IMPPihAddFFF110KUCrqqqqqqoqQOGDDz744CtAGF100UUXLUBONtlkk00uQIQPPvjggy9AXXTRRRddMED44IMPPvgwQJRNNtlkkzFAL7rooosuMkDKJptssskyQGWTTTbZZDNAAAAAAAAANECbbLLJJps0QDbZZJNNNjVA0kUXXXTRNUBtsskmm2w2QAgffPDBBzdAo4suuuiiN0A++OCDDz44QNlkk0022ThAddFFF110OUAQPvjggw86QKuqqqqqqjpARhdddNFFO0Dhgw8++OA7QHzwwQcffDxAGF100UUXPUCzySabbLI9QE422WSTTT5A6aKLLrroPkCEDz744IM/QBA++OCDD0BAXXTRRRddQECrqqqqqqpAQPjggw8++EBARhdddNFFQUCUTTbZZJNBQOGDDz744EFAL7rooosuQkB88MEHH3xCQMomm2yyyUJAF1100UUXQ0Blk0022WRDQLPJJptsskNAAAAAAAAAREBONtlkk01EQJtssskmm0RA6aKLLrroREA22WSTTTZFQIQPPvjgg0VA0kUXXXTRRUAffPDBBx9GQG2yySabbEZAuuiiiy66RkAIH3zwwQdHQFZVVVVVVUdAo4suuuiiR0DxwQcffPBHQD744IMPPkhAjC666KKLSEDZZJNNNtlIQCebbLLJJklAddFFF110SUDCBx988MFJQBA++OCDD0pAXXTRRRddSkCrqqqqqqpKQPjggw8++EpARhdddNFFS0CUTTbZZJNLQOGDDz744EtAL7rooosuTEB88MEHH3xMQMomm2yyyUxAGF100UUXTUBlk0022WRNQLPJJptssk1AAAAAAAAATkA=",
          "dtype": "f8"
         },
         "y": {
          "bdata": "AAAAAAAAHEAASjjSUL4iQAcEVB7NqihATm1X2prwL0DGrJ8GJl40QEEvyUdvnDlAQyqXHwbGP0ATc06thXVDQL5t5/W1jEdAwqjSRQgvTEDqadBjarBQQA7pPc8RklNAGF0Tc1a8VkD58WFg7C1aQJUCu0ME5V1AYyN7IobvYEDyxP+BMwxjQJw9mZV+RmVA+Fattx6cZ0CKzNlHjgpqQM9L9KoKj2xAOnQKS5Qmb0CU67BL9+ZwQKj+11bkQHJAsD1xkbafc0Dqk76U6QF1QKZFFS4FZnZAItzMT6jKd0COJT8RiS55QA41yK50kHpArGLGiU/ve0BsS5ooFUp9QEDRpjbYn35AChtRhMLvf0BOSoCDipyAQF13j+yTPYFAjg8MHbXagUAuMC1HsXOCQAwZqy9XCINA0mn3M3yYg0AeV1LKCSSEQPX6YIT5qoRAiRtsr0cthUBpdBRR86qFQI22Uif+I4ZAT4h3qGyYhkBvhSsDRgiHQA8/bx6Uc4dAtzubmWPah0BQ91/MwzyIQCvjxcbGmohA+mUtUYH0iEDV207sCkqJQDiWOtF9m4lAANxY8fboiUBz6Wn2lTKKQDfwhUJ9eIpAWhcd8NG6ikBIe/fRu/mKQNgtNXNlNYtAQTZOF/xti0AekRK6r6OLQHIwqg+z1otASMRzOzsHjECrrYabajWMQDqor/xPYYxARhGWdPyKjEBHguRjgbKMQNTQSHbw14xAqw50olv7jECpiRoq1RyNQNHL85lvPI1ASpu6yT1ajUBa+izcUnaNQG8nDD/CkI1AFp0cq5+pjUAEEiYk/8CNQAt58/j01o1AJQFTw5XrjUBuFRZo9v6NQCRdERcsEY5AqLscS0wijkCBUBPKbDKOQFZ306SjQY5A8sc+NwdQjkBFFjoorl2OQF9yrWmvao5A9VZRhhF3jkByrahJwIKOQIzjW8vDjY5A7mod/iSYjkCPKUiM7KGOQLV539ciq45A8ymP+s+zjkAnfavF+7uOQIAqMcKtw45AdV3FMO3KjkDPtbUJwdGOQKJH+Pwv2I5ATpsrckDejkA=",
          "dtype": "f8"
         }
        },
        {
         "name": "y0 = 8",
         "type": "scatter",
         "x": {
          "bdata": "AAAAAAAAAABlk0022WTjP2WTTTbZZPM/GF100UUX/T9lk0022WQDQD744IMPPghAGF100UUXDUD44IMPPvgQQGWTTTbZZBNA0kUXXXTRFUA++OCDDz4YQKuqqqqqqhpAGF100UUXHUCEDz744IMfQPjggw8++CBAL7rooosuIkBlk0022WQjQJtssskmmyRA0kUXXXTRJUAIH3zwwQcnQD744IMPPihAddFFF110KUCrqqqqqqoqQOGDDz744CtAGF100UUXLUBONtlkk00uQIQPPvjggy9AXXTRRRddMED44IMPPvgwQJRNNtlkkzFAL7rooosuMkDKJptssskyQGWTTTbZZDNAAAAAAAAANECbbLLJJps0QDbZZJNNNjVA0kUXXXTRNUBtsskmm2w2QAgffPDBBzdAo4suuuiiN0A++OCDDz44QNlkk0022ThAddFFF110OUAQPvjggw86QKuqqqqqqjpARhdddNFFO0Dhgw8++OA7QHzwwQcffDxAGF100UUXPUCzySabbLI9QE422WSTTT5A6aKLLrroPkCEDz744IM/QBA++OCDD0BAXXTRRRddQECrqqqqqqpAQPjggw8++EBARhdddNFFQUCUTTbZZJNBQOGDDz744EFAL7rooosuQkB88MEHH3xCQMomm2yyyUJAF1100UUXQ0Blk0022WRDQLPJJptsskNAAAAAAAAAREBONtlkk01EQJtssskmm0RA6aKLLrroREA22WSTTTZFQIQPPvjgg0VA0kUXXXTRRUAffPDBBx9GQG2yySabbEZAuuiiiy66RkAIH3zwwQdHQFZVVVVVVUdAo4suuuiiR0DxwQcffPBHQD744IMPPkhAjC666KKLSEDZZJNNNtlIQCebbLLJJklAddFFF110SUDCBx988MFJQBA++OCDD0pAXXTRRRddSkCrqqqqqqpKQPjggw8++EpARhdddNFFS0CUTTbZZJNLQOGDDz744EtAL7rooosuTEB88MEHH3xMQMomm2yyyUxAGF100UUXTUBlk0022WRNQLPJJptssk1AAAAAAAAATkA=",
          "dtype": "f8"
         },
         "y": {
          "bdata": "AAAAAAAAIEAP9NvA5UAlQHsssEW9wytAULWF4MnZMUASF77tJ542QNoPlCzvQzxAyb18aJFuQUBMA5TcYjxFQAztYD2QkUlAQ6GKyq9zTkCc26rALPNRQD9KPJls9VRAdrYNQRdAWEBNIexzhtFbQKS9hmk5p19AbBvZQ0HfYUAGJ8wFqAlkQJy2xNqPUGZAtOZhMouxaEBWu7kLACprQCAgWfUnt21AGfShBggrcEAcZ3qAzIFxQDW6roY73nJAGJFdJLY+dED9EYdu5aF1QDm3wABfBndALKj7bMxqeED2/RlH7s15QHPD7iScLntAN/U9nsSLfECYgbxMbeR9QKpIEMyyN39AHA7oXGRCgEDq38HafOWAQGD0UbDThIFAAh9NLyUggkAyrGAqObeCQC5hMvXiSYNAFnxgZAHYg0DBX7/EfmGEQKNwW+BO5oRA1BdnqnFmhUB35YxY7OGFQABpdjXGWIZAKDHMoAjLhkD6yzUPvziHQMXGWQr3oYdAKa7dMMAGiEAMDmY2LGeIQKJxluNOw4hAamMRFj4biUAtbXjAEW+JQP8XbOrjvolAPuyLsNAKikCYcXZE9lKKQP8uyex0l4pAtqogBW/YikBGahj+CBaLQIbySl1pUItAmMdRvbiHi0DpbMXNIbyLQDFlPVPR7YtAcDJQJ/YcjED2VZM4wUmMQNRFnExZdIxAxxK2P8ycjEB5CmtlK8OMQHD9RUuI54xAY0zYp/QJjUA06LlagiqNQPNRiWxDSY1A2prrDkpmjUBTZIycqIGNQPTfHZlxm41Afc9YsbezjUDghPy6jcqNQDbizrQG4I1AyVmcxjX0jUAP7jdBLgeOQKkxe54DGY5AZkdGgckpjkBC4n+1kzmOQGdFFTB2SI5AJ0T6DoVWjkAHQimZ1GOOQLUyoz55cI5AKd8SWYJ8jkD4D7Wk4IeOQOUvCk+Yko5Abw5zD7KcjkCSSntVNqaOQMNS2Ugtr45A9WRuyZ63jkCTjkZvkr+OQIesmIoPx45AMmvGIx3OjkB0Rlz7wdSOQKeJEYoE245AoE/IAOvgjkA=",
          "dtype": "f8"
         }
        },
        {
         "name": "y0 = 9",
         "type": "scatter",
         "x": {
          "bdata": "AAAAAAAAAABlk0022WTjP2WTTTbZZPM/GF100UUX/T9lk0022WQDQD744IMPPghAGF100UUXDUD44IMPPvgQQGWTTTbZZBNA0kUXXXTRFUA++OCDDz4YQKuqqqqqqhpAGF100UUXHUCEDz744IMfQPjggw8++CBAL7rooosuIkBlk0022WQjQJtssskmmyRA0kUXXXTRJUAIH3zwwQcnQD744IMPPihAddFFF110KUCrqqqqqqoqQOGDDz744CtAGF100UUXLUBONtlkk00uQIQPPvjggy9AXXTRRRddMED44IMPPvgwQJRNNtlkkzFAL7rooosuMkDKJptssskyQGWTTTbZZDNAAAAAAAAANECbbLLJJps0QDbZZJNNNjVA0kUXXXTRNUBtsskmm2w2QAgffPDBBzdAo4suuuiiN0A++OCDDz44QNlkk0022ThAddFFF110OUAQPvjggw86QKuqqqqqqjpARhdddNFFO0Dhgw8++OA7QHzwwQcffDxAGF100UUXPUCzySabbLI9QE422WSTTT5A6aKLLrroPkCEDz744IM/QBA++OCDD0BAXXTRRRddQECrqqqqqqpAQPjggw8++EBARhdddNFFQUCUTTbZZJNBQOGDDz744EFAL7rooosuQkB88MEHH3xCQMomm2yyyUJAF1100UUXQ0Blk0022WRDQLPJJptsskNAAAAAAAAAREBONtlkk01EQJtssskmm0RA6aKLLrroREA22WSTTTZFQIQPPvjgg0VA0kUXXXTRRUAffPDBBx9GQG2yySabbEZAuuiiiy66RkAIH3zwwQdHQFZVVVVVVUdAo4suuuiiR0DxwQcffPBHQD744IMPPkhAjC666KKLSEDZZJNNNtlIQCebbLLJJklAddFFF110SUDCBx988MFJQBA++OCDD0pAXXTRRRddSkCrqqqqqqpKQPjggw8++EpARhdddNFFS0CUTTbZZJNLQOGDDz744EtAL7rooosuTEB88MEHH3xMQMomm2yyyUxAGF100UUXTUBlk0022WRNQLPJJptssk1AAAAAAAAATkA=",
          "dtype": "f8"
         },
         "y": {
          "bdata": "AAAAAAAAIkC2anGtwr4nQPbX/YVp0S5AyAMGBFmxM0BWhfVZ1M44QBjEfLeE1T5A9OeS/UfrQkAuCZLy7u9GQNnw/v8efktAkrcDkElNUED2gnogFSRTQIIbLbjAQ1ZAIEKJ7XmrWUC0N6FmTVldQJ40dCIcpWBAq2rVrKG9YkDbQSpCF/RkQGzb6SgIRmdASjhs4eGwaUAQOeol9DFsQAmefepwxm5AmoOQLra1cEAc+tdy7g5yQDhi85JNbXNAdlux/DDPdEDR9wRNDjN2QIi0Snyal3dAR2hr+477eECDL0Udu116QBoxdCoEvXtARJ5SYWUYfUCosvj1725+QEy0PBLLv39AznnZ6hmFgEC05daqviaBQHPQnk6IxIFA2HGYVjZegkDgBgo+k/OCQLzRGHt0hINA0RnJfroQhEC0K/60UJiEQCpZeoQtG4VAFufajVKZhUCfXXiczRKGQPnZcLyrh4ZAz8b+Cfr3hkBRE5M1x2OHQC4z1YMjy4dAoB6jzSAuiEBbUhGA0oyIQJ7PapxN54hAKBwxuKg9iUA8Qhz9+4+JQKLQGilh3olAodpRjvMoikAJ+BwT0G+KQCpFDjIVs4pA2GLu+eLyikBrdrwNWy+LQL4prqSgaItAMKsvitiei0CireMdKdKLQHpoo1O6AoxAopd+s7UwjECEe7tZRlyMQBHZ1vaYhYxAxAdmg9usjEAbRUsSJ9KMQLYITCeH9YxATr0uZgwXjUB5nZeIxzaNQKyzCF7JVI1AONrhyyJxjUBNu2DN5IuNQPjQoHMgpY1AJGWb5ea8jUCZkSdgSdONQPw/+jVZ6I1A0immzyf8jUB82Jurxg6OQDelKV5HII5AIrl7kbswjkA0DZwFNUCOQEhqcpDFTo5AEWnEHX9cjkAicjWvc2mOQOy9Rly1dY5AvFRXUlaBjkCdSogzZoyOQLvyfQjalo5ALkkWL7SgjkBqScHb/KmOQIzV3fi7so5AWba5Jvm6jkA9m5G7u8KOQEsakcMKyo5APLDSAO3QjkBzwF/raNeOQPeUMLGE3Y5Ael4sNkbjjkA=",
          "dtype": "f8"
         }
        }
       ],
       "layout": {
        "height": 500,
        "template": {
         "data": {
          "bar": [
           {
            "error_x": {
             "color": "#f2f5fa"
            },
            "error_y": {
             "color": "#f2f5fa"
            },
            "marker": {
             "line": {
              "color": "rgb(17,17,17)",
              "width": 0.5
             },
             "pattern": {
              "fillmode": "overlay",
              "size": 10,
              "solidity": 0.2
             }
            },
            "type": "bar"
           }
          ],
          "barpolar": [
           {
            "marker": {
             "line": {
              "color": "rgb(17,17,17)",
              "width": 0.5
             },
             "pattern": {
              "fillmode": "overlay",
              "size": 10,
              "solidity": 0.2
             }
            },
            "type": "barpolar"
           }
          ],
          "carpet": [
           {
            "aaxis": {
             "endlinecolor": "#A2B1C6",
             "gridcolor": "#506784",
             "linecolor": "#506784",
             "minorgridcolor": "#506784",
             "startlinecolor": "#A2B1C6"
            },
            "baxis": {
             "endlinecolor": "#A2B1C6",
             "gridcolor": "#506784",
             "linecolor": "#506784",
             "minorgridcolor": "#506784",
             "startlinecolor": "#A2B1C6"
            },
            "type": "carpet"
           }
          ],
          "choropleth": [
           {
            "colorbar": {
             "outlinewidth": 0,
             "ticks": ""
            },
            "type": "choropleth"
           }
          ],
          "contour": [
           {
            "colorbar": {
             "outlinewidth": 0,
             "ticks": ""
            },
            "colorscale": [
             [
              0,
              "#0d0887"
             ],
             [
              0.1111111111111111,
              "#46039f"
             ],
             [
              0.2222222222222222,
              "#7201a8"
             ],
             [
              0.3333333333333333,
              "#9c179e"
             ],
             [
              0.4444444444444444,
              "#bd3786"
             ],
             [
              0.5555555555555556,
              "#d8576b"
             ],
             [
              0.6666666666666666,
              "#ed7953"
             ],
             [
              0.7777777777777778,
              "#fb9f3a"
             ],
             [
              0.8888888888888888,
              "#fdca26"
             ],
             [
              1,
              "#f0f921"
             ]
            ],
            "type": "contour"
           }
          ],
          "contourcarpet": [
           {
            "colorbar": {
             "outlinewidth": 0,
             "ticks": ""
            },
            "type": "contourcarpet"
           }
          ],
          "heatmap": [
           {
            "colorbar": {
             "outlinewidth": 0,
             "ticks": ""
            },
            "colorscale": [
             [
              0,
              "#0d0887"
             ],
             [
              0.1111111111111111,
              "#46039f"
             ],
             [
              0.2222222222222222,
              "#7201a8"
             ],
             [
              0.3333333333333333,
              "#9c179e"
             ],
             [
              0.4444444444444444,
              "#bd3786"
             ],
             [
              0.5555555555555556,
              "#d8576b"
             ],
             [
              0.6666666666666666,
              "#ed7953"
             ],
             [
              0.7777777777777778,
              "#fb9f3a"
             ],
             [
              0.8888888888888888,
              "#fdca26"
             ],
             [
              1,
              "#f0f921"
             ]
            ],
            "type": "heatmap"
           }
          ],
          "histogram": [
           {
            "marker": {
             "pattern": {
              "fillmode": "overlay",
              "size": 10,
              "solidity": 0.2
             }
            },
            "type": "histogram"
           }
          ],
          "histogram2d": [
           {
            "colorbar": {
             "outlinewidth": 0,
             "ticks": ""
            },
            "colorscale": [
             [
              0,
              "#0d0887"
             ],
             [
              0.1111111111111111,
              "#46039f"
             ],
             [
              0.2222222222222222,
              "#7201a8"
             ],
             [
              0.3333333333333333,
              "#9c179e"
             ],
             [
              0.4444444444444444,
              "#bd3786"
             ],
             [
              0.5555555555555556,
              "#d8576b"
             ],
             [
              0.6666666666666666,
              "#ed7953"
             ],
             [
              0.7777777777777778,
              "#fb9f3a"
             ],
             [
              0.8888888888888888,
              "#fdca26"
             ],
             [
              1,
              "#f0f921"
             ]
            ],
            "type": "histogram2d"
           }
          ],
          "histogram2dcontour": [
           {
            "colorbar": {
             "outlinewidth": 0,
             "ticks": ""
            },
            "colorscale": [
             [
              0,
              "#0d0887"
             ],
             [
              0.1111111111111111,
              "#46039f"
             ],
             [
              0.2222222222222222,
              "#7201a8"
             ],
             [
              0.3333333333333333,
              "#9c179e"
             ],
             [
              0.4444444444444444,
              "#bd3786"
             ],
             [
              0.5555555555555556,
              "#d8576b"
             ],
             [
              0.6666666666666666,
              "#ed7953"
             ],
             [
              0.7777777777777778,
              "#fb9f3a"
             ],
             [
              0.8888888888888888,
              "#fdca26"
             ],
             [
              1,
              "#f0f921"
             ]
            ],
            "type": "histogram2dcontour"
           }
          ],
          "mesh3d": [
           {
            "colorbar": {
             "outlinewidth": 0,
             "ticks": ""
            },
            "type": "mesh3d"
           }
          ],
          "parcoords": [
           {
            "line": {
             "colorbar": {
              "outlinewidth": 0,
              "ticks": ""
             }
            },
            "type": "parcoords"
           }
          ],
          "pie": [
           {
            "automargin": true,
            "type": "pie"
           }
          ],
          "scatter": [
           {
            "marker": {
             "line": {
              "color": "#283442"
             }
            },
            "type": "scatter"
           }
          ],
          "scatter3d": [
           {
            "line": {
             "colorbar": {
              "outlinewidth": 0,
              "ticks": ""
             }
            },
            "marker": {
             "colorbar": {
              "outlinewidth": 0,
              "ticks": ""
             }
            },
            "type": "scatter3d"
           }
          ],
          "scattercarpet": [
           {
            "marker": {
             "colorbar": {
              "outlinewidth": 0,
              "ticks": ""
             }
            },
            "type": "scattercarpet"
           }
          ],
          "scattergeo": [
           {
            "marker": {
             "colorbar": {
              "outlinewidth": 0,
              "ticks": ""
             }
            },
            "type": "scattergeo"
           }
          ],
          "scattergl": [
           {
            "marker": {
             "line": {
              "color": "#283442"
             }
            },
            "type": "scattergl"
           }
          ],
          "scattermap": [
           {
            "marker": {
             "colorbar": {
              "outlinewidth": 0,
              "ticks": ""
             }
            },
            "type": "scattermap"
           }
          ],
          "scattermapbox": [
           {
            "marker": {
             "colorbar": {
              "outlinewidth": 0,
              "ticks": ""
             }
            },
            "type": "scattermapbox"
           }
          ],
          "scatterpolar": [
           {
            "marker": {
             "colorbar": {
              "outlinewidth": 0,
              "ticks": ""
             }
            },
            "type": "scatterpolar"
           }
          ],
          "scatterpolargl": [
           {
            "marker": {
             "colorbar": {
              "outlinewidth": 0,
              "ticks": ""
             }
            },
            "type": "scatterpolargl"
           }
          ],
          "scatterternary": [
           {
            "marker": {
             "colorbar": {
              "outlinewidth": 0,
              "ticks": ""
             }
            },
            "type": "scatterternary"
           }
          ],
          "surface": [
           {
            "colorbar": {
             "outlinewidth": 0,
             "ticks": ""
            },
            "colorscale": [
             [
              0,
              "#0d0887"
             ],
             [
              0.1111111111111111,
              "#46039f"
             ],
             [
              0.2222222222222222,
              "#7201a8"
             ],
             [
              0.3333333333333333,
              "#9c179e"
             ],
             [
              0.4444444444444444,
              "#bd3786"
             ],
             [
              0.5555555555555556,
              "#d8576b"
             ],
             [
              0.6666666666666666,
              "#ed7953"
             ],
             [
              0.7777777777777778,
              "#fb9f3a"
             ],
             [
              0.8888888888888888,
              "#fdca26"
             ],
             [
              1,
              "#f0f921"
             ]
            ],
            "type": "surface"
           }
          ],
          "table": [
           {
            "cells": {
             "fill": {
              "color": "#506784"
             },
             "line": {
              "color": "rgb(17,17,17)"
             }
            },
            "header": {
             "fill": {
              "color": "#2a3f5f"
             },
             "line": {
              "color": "rgb(17,17,17)"
             }
            },
            "type": "table"
           }
          ]
         },
         "layout": {
          "annotationdefaults": {
           "arrowcolor": "#f2f5fa",
           "arrowhead": 0,
           "arrowwidth": 1
          },
          "autotypenumbers": "strict",
          "coloraxis": {
           "colorbar": {
            "outlinewidth": 0,
            "ticks": ""
           }
          },
          "colorscale": {
           "diverging": [
            [
             0,
             "#8e0152"
            ],
            [
             0.1,
             "#c51b7d"
            ],
            [
             0.2,
             "#de77ae"
            ],
            [
             0.3,
             "#f1b6da"
            ],
            [
             0.4,
             "#fde0ef"
            ],
            [
             0.5,
             "#f7f7f7"
            ],
            [
             0.6,
             "#e6f5d0"
            ],
            [
             0.7,
             "#b8e186"
            ],
            [
             0.8,
             "#7fbc41"
            ],
            [
             0.9,
             "#4d9221"
            ],
            [
             1,
             "#276419"
            ]
           ],
           "sequential": [
            [
             0,
             "#0d0887"
            ],
            [
             0.1111111111111111,
             "#46039f"
            ],
            [
             0.2222222222222222,
             "#7201a8"
            ],
            [
             0.3333333333333333,
             "#9c179e"
            ],
            [
             0.4444444444444444,
             "#bd3786"
            ],
            [
             0.5555555555555556,
             "#d8576b"
            ],
            [
             0.6666666666666666,
             "#ed7953"
            ],
            [
             0.7777777777777778,
             "#fb9f3a"
            ],
            [
             0.8888888888888888,
             "#fdca26"
            ],
            [
             1,
             "#f0f921"
            ]
           ],
           "sequentialminus": [
            [
             0,
             "#0d0887"
            ],
            [
             0.1111111111111111,
             "#46039f"
            ],
            [
             0.2222222222222222,
             "#7201a8"
            ],
            [
             0.3333333333333333,
             "#9c179e"
            ],
            [
             0.4444444444444444,
             "#bd3786"
            ],
            [
             0.5555555555555556,
             "#d8576b"
            ],
            [
             0.6666666666666666,
             "#ed7953"
            ],
            [
             0.7777777777777778,
             "#fb9f3a"
            ],
            [
             0.8888888888888888,
             "#fdca26"
            ],
            [
             1,
             "#f0f921"
            ]
           ]
          },
          "colorway": [
           "#636efa",
           "#EF553B",
           "#00cc96",
           "#ab63fa",
           "#FFA15A",
           "#19d3f3",
           "#FF6692",
           "#B6E880",
           "#FF97FF",
           "#FECB52"
          ],
          "font": {
           "color": "#f2f5fa"
          },
          "geo": {
           "bgcolor": "rgb(17,17,17)",
           "lakecolor": "rgb(17,17,17)",
           "landcolor": "rgb(17,17,17)",
           "showlakes": true,
           "showland": true,
           "subunitcolor": "#506784"
          },
          "hoverlabel": {
           "align": "left"
          },
          "hovermode": "closest",
          "mapbox": {
           "style": "dark"
          },
          "paper_bgcolor": "rgb(17,17,17)",
          "plot_bgcolor": "rgb(17,17,17)",
          "polar": {
           "angularaxis": {
            "gridcolor": "#506784",
            "linecolor": "#506784",
            "ticks": ""
           },
           "bgcolor": "rgb(17,17,17)",
           "radialaxis": {
            "gridcolor": "#506784",
            "linecolor": "#506784",
            "ticks": ""
           }
          },
          "scene": {
           "xaxis": {
            "backgroundcolor": "rgb(17,17,17)",
            "gridcolor": "#506784",
            "gridwidth": 2,
            "linecolor": "#506784",
            "showbackground": true,
            "ticks": "",
            "zerolinecolor": "#C8D4E3"
           },
           "yaxis": {
            "backgroundcolor": "rgb(17,17,17)",
            "gridcolor": "#506784",
            "gridwidth": 2,
            "linecolor": "#506784",
            "showbackground": true,
            "ticks": "",
            "zerolinecolor": "#C8D4E3"
           },
           "zaxis": {
            "backgroundcolor": "rgb(17,17,17)",
            "gridcolor": "#506784",
            "gridwidth": 2,
            "linecolor": "#506784",
            "showbackground": true,
            "ticks": "",
            "zerolinecolor": "#C8D4E3"
           }
          },
          "shapedefaults": {
           "line": {
            "color": "#f2f5fa"
           }
          },
          "sliderdefaults": {
           "bgcolor": "#C8D4E3",
           "bordercolor": "rgb(17,17,17)",
           "borderwidth": 1,
           "tickwidth": 0
          },
          "ternary": {
           "aaxis": {
            "gridcolor": "#506784",
            "linecolor": "#506784",
            "ticks": ""
           },
           "baxis": {
            "gridcolor": "#506784",
            "linecolor": "#506784",
            "ticks": ""
           },
           "bgcolor": "rgb(17,17,17)",
           "caxis": {
            "gridcolor": "#506784",
            "linecolor": "#506784",
            "ticks": ""
           }
          },
          "title": {
           "x": 0.05
          },
          "updatemenudefaults": {
           "bgcolor": "#506784",
           "borderwidth": 0
          },
          "xaxis": {
           "automargin": true,
           "gridcolor": "#283442",
           "linecolor": "#506784",
           "ticks": "",
           "title": {
            "standoff": 15
           },
           "zerolinecolor": "#283442",
           "zerolinewidth": 2
          },
          "yaxis": {
           "automargin": true,
           "gridcolor": "#283442",
           "linecolor": "#506784",
           "ticks": "",
           "title": {
            "standoff": 15
           },
           "zerolinecolor": "#283442",
           "zerolinewidth": 2
          }
         }
        },
        "title": {
         "text": "Gompertz"
        }
       }
      }
     },
     "metadata": {},
     "output_type": "display_data"
    }
   ],
   "source": [
    "#Definindo a Modelo\n",
    "K = 1000\n",
    "r = 0.1\n",
    "def Gomp(t,P):\n",
    "    return r*P*np.log(K/P)\n",
    "    \n",
    "# Vetor de tempo\n",
    "t = np.linspace(0,60,100)\n",
    "\n",
    "# Figura\n",
    "fig = go.Figure()\n",
    "\n",
    "# Definindo as condições inicias\n",
    "for yi in range(1,10):\n",
    "    sol = solve_ivp(Gomp, [0,60], [yi], t_eval=t)\n",
    "    fig.add_trace(go.Scatter(\n",
    "        x = sol.t,\n",
    "        y = sol.y[0],\n",
    "        name = f\"y0 = {yi}\"\n",
    "    ))\n",
    "\n",
    "fig.update_layout(\n",
    "    title=\"Gompertz\",\n",
    "    height=500,\n",
    "    template=\"plotly_dark\")\n",
    "fig.show()"
   ]
  },
  {
   "cell_type": "code",
   "execution_count": 5,
   "id": "3ff73654-1607-4652-8033-779e8394eefb",
   "metadata": {},
   "outputs": [
    {
     "data": {
      "application/vnd.plotly.v1+json": {
       "config": {
        "plotlyServerURL": "https://plot.ly"
       },
       "data": [
        {
         "name": "y0 = 1",
         "type": "scatter",
         "x": {
          "bdata": "AAAAAAAAAACWArV+pUA5QJYCtX6lQElA8MEHH3zwUkCWArV+pUBZQDxDYt7OkF9A8MEHH3zwYkBDYt7OkBhmQJYCtX6lQGlA6aKLLrpobEA8Q2LezpBvQMdxHMdxXHFA8MEHH3zwckAaEvN2hoR0QENi3s6QGHZAbbLJJpusd0CWArV+pUB5QL9SoNav1HpA6aKLLrpofEAS83aGxPx9QDxDYt7OkH9Asskmm2ySgEDHcRzHcVyBQNwZEvN2JoJA8MEHH3zwgkAFav1KgbqDQBoS83aGhIRAL7roootOhUBDYt7OkBiGQFgK1PqV4oZAbbLJJpush0CBWr9SoHaIQJYCtX6lQIlAq6qqqqoKikC/UqDWr9SKQNT6lQK1notA6aKLLrpojED9SoFavzKNQBLzdobE/I1AJ5tsssnGjkA8Q2LezpCPQKj1KwVqLZBAsskmm2ySkEC9nSExb/eQQMdxHMdxXJFA0UUXXXTBkUDcGRLzdiaSQObtDIl5i5JA8MEHH3zwkkD7lQK1flWTQAVq/UqBupNAED744IMflEAaEvN2hoSUQCTm7QyJ6ZRAL7roootOlUA5juM4jrOVQENi3s6QGJZATjbZZJN9lkBYCtT6leKWQGLezpCYR5dAbbLJJpusl0B3hsS8nRGYQIFav1KgdphAjC666KLbmECWArV+pUCZQKDWrxSopZlAq6qqqqoKmkC1fqVArW+aQL9SoNav1JpAyiabbLI5m0DU+pUCtZ6bQN7OkJi3A5xA6aKLLrponEDzdobEvM2cQP1KgVq/Mp1ACB988MGXnUAS83aGxPydQBzHcRzHYZ5AJ5tsssnGnkAxb2dIzCufQDxDYt7OkJ9ARhdddNH1n0Co9SsFai2gQK1fKVDrX6BAsskmm2ySoEC4MyTm7cSgQL2dITFv96BAwgcffPApoUDHcRzHcVyhQMzbGRLzjqFA0UUXXXTBoUDXrxSo9fOhQNwZEvN2JqJA4YMPPvhYokDm7QyJeYuiQOtXCtT6vaJA8MEHH3zwokD2KwVq/SKjQPuVArV+VaNAAAAAAACIo0A=",
          "dtype": "f8"
         },
         "y": {
          "bdata": "AAAAAAAA8D99WRUlFrv2P42MtBoQuP8/qX0O2/rCBUAaxIikxGINQIPJ/6wziRNAbstx1Q6aGUDggzL20YwgQPxRA47vHiVABlgmV1GeKkAdVrgMApMwQImXVmHdaTRA92ZCEobhOEDNViMJLwY+QJIKOlg58UFAZt/wXKM/RUByYxCYXfJIQJPmJqsrDU1AJR20RU/JUEAWE8QOAUJTQPcz3Zqu8FVArFnZy7jUWEAuWVL73exbQOzt9aCMN19ArPTYGJFZYUBucgeniS5jQN7o/QdNGWVAbDSEa14YZ0BTlTIkJyppQKivcaf2TGtAQIt6jQJ/bUDAk1aRZr5vQFTMb0iSBHFAmeZfRpIuckBxxoHCHlxzQPyUM4dYjHRAFK7fQVm+dUC99KayOfF2QGXZQ0kfJHhA3lkKJTxWeUBfAegUz4Z6QIboY5cjtXtAW7We2pHgfEBMm1K8fgh+QCRb08lbLH9AkCEHoNMlgEBwF8UF9rKAQLLDM+RgPYFAjiEwYebEgUDu8mP6XkmCQGvARYWpyoJAVtkYL6tIg0CyU+18T8ODQCvRHCmIOoRAlQdNOEuuhED8lFCIlx6FQMXuRztvi4VA4760pdX0hUDW43lOz1qGQK1w2+5hvYZAB61+cpQch0APFWr3bniHQH9ZBc760IdAoV8ZeUImiEBLQdCtUXiIQORMtVM1x4hAXwW1hPsSiUA+Ih2Ns1uJQJSPnOttoYlA/m1DUTzkiUCsEoOhMSSKQFgHLvJhYYpATgp4i+KbikBmDvbnydOKQAg7nrQvCYtAKuzH0Cw8i0BQsitO22yLQI1S43BWm4tAgcZpr7rHi0BcPJuyJfKLQNwWtVW2GoxAvGChlIxBjEDanf1wsGaMQGxUkywjioxAJIA1s/SrjEB68ZyyNMyMQKlNaJry6oxAsw4cnD0IjUBegyKrJCSNQDXPy3y2Po1AiOpNiAFYjUBsosQGFHCNQLqYMfP7ho1AEUR8CsecjUDU73HLgrGNQCy8xXY8xY1ABJ4QDwHYjUARX9FY3emNQMidbNrd+o1AZc0s3A4LjkA=",
          "dtype": "f8"
         }
        },
        {
         "name": "y0 = 2",
         "type": "scatter",
         "x": {
          "bdata": "AAAAAAAAAACWArV+pUA5QJYCtX6lQElA8MEHH3zwUkCWArV+pUBZQDxDYt7OkF9A8MEHH3zwYkBDYt7OkBhmQJYCtX6lQGlA6aKLLrpobEA8Q2LezpBvQMdxHMdxXHFA8MEHH3zwckAaEvN2hoR0QENi3s6QGHZAbbLJJpusd0CWArV+pUB5QL9SoNav1HpA6aKLLrpofEAS83aGxPx9QDxDYt7OkH9Asskmm2ySgEDHcRzHcVyBQNwZEvN2JoJA8MEHH3zwgkAFav1KgbqDQBoS83aGhIRAL7roootOhUBDYt7OkBiGQFgK1PqV4oZAbbLJJpush0CBWr9SoHaIQJYCtX6lQIlAq6qqqqoKikC/UqDWr9SKQNT6lQK1notA6aKLLrpojED9SoFavzKNQBLzdobE/I1AJ5tsssnGjkA8Q2LezpCPQKj1KwVqLZBAsskmm2ySkEC9nSExb/eQQMdxHMdxXJFA0UUXXXTBkUDcGRLzdiaSQObtDIl5i5JA8MEHH3zwkkD7lQK1flWTQAVq/UqBupNAED744IMflEAaEvN2hoSUQCTm7QyJ6ZRAL7roootOlUA5juM4jrOVQENi3s6QGJZATjbZZJN9lkBYCtT6leKWQGLezpCYR5dAbbLJJpusl0B3hsS8nRGYQIFav1KgdphAjC666KLbmECWArV+pUCZQKDWrxSopZlAq6qqqqoKmkC1fqVArW+aQL9SoNav1JpAyiabbLI5m0DU+pUCtZ6bQN7OkJi3A5xA6aKLLrponEDzdobEvM2cQP1KgVq/Mp1ACB988MGXnUAS83aGxPydQBzHcRzHYZ5AJ5tsssnGnkAxb2dIzCufQDxDYt7OkJ9ARhdddNH1n0Co9SsFai2gQK1fKVDrX6BAsskmm2ySoEC4MyTm7cSgQL2dITFv96BAwgcffPApoUDHcRzHcVyhQMzbGRLzjqFA0UUXXXTBoUDXrxSo9fOhQNwZEvN2JqJA4YMPPvhYokDm7QyJeYuiQOtXCtT6vaJA8MEHH3zwokD2KwVq/SKjQPuVArV+VaNAAAAAAACIo0A=",
          "dtype": "f8"
         },
         "y": {
          "bdata": "AAAAAAAAAECZ12iuoPEFQMgVbGsknQ1AzPU4gpyuE0AAk8dY9MkZQGuNW2zGqSBA8Hu0xEJAJUBoDCNA6sUqQHmOwwqnqzBA5B54OKqHNEC41WiNkgM5QGpVmqccKz5AiPHLwVYFQkAlZn3dcVZFQBjkJHr/DElAwHt88e8rTUAXedoRgtpQQB57+fJ0VFNA+gQczfMDVkBe7sBmmehYQM5uGLCAAVxAKGzIkktNX0BgPfZ4EWVhQKLuClXbOmNAYsKlyJ4mZUBkCIW7uiZnQGH0LdRROWlAYHflFsxca0BemZLCbI9tQIRIyPAcz29AsB+IsuoMcUBugnVGzzZyQCz25z9IZHNAxIqWf2mUdEBEtjO7TsZ1QPJUbX0b+XZAQKnsJfsreEDUW1bpIF55QIh7StHHjnpAZ31kvDK9e0CuPDterOh8QDZZsbCGEH5Ay+34EN0zf0B54p+ZEimAQEFaQ/2PtYBA/Cyrdkk/gUA4jd8aJMaBQE6RrFAHSoJAbDOi0NzKgkCNURSlkEiDQHqtGioRw4NAzuyQDU86hEDwmBZPPa6EQBkfD0DRHoVAU9ChgwKMhUBz4bkOy/WFQB9rBignXIZA0Gn6ZxW/hkDHvcy4lh6HQBwreFaueodAslm7zmHTh0A81RgBuSiIQDwN1x6+eohABlUAq33JiEC742J6BhWJQEzUkLNpXYlAeCXgzrqiiUDQuWqWD+WJQLJXDiaAJIpATals6yZhikCfPOulIJuKQHWDs2aM0opAbNOykIsHi0DuZZrYQTqLQDhY30TVaotAVKu6LW6Zi0BmXNmHLMaLQOzzUJX/8ItAJHY3HfEZjEDdNxj8D0GMQDSoMQVrZoxAkVB1AhGKjECt1Ie0EKyMQI3ywNJ4zIxAhIIrC1jrjEA2d4UCvQiNQI/dP1S2JI1Aztx+klI/jUB+thlGoFiNQHjGmu6tcI1A5II/AoqHjUA1fPjtQp2NQC9daRXnsY1A4uro0oTFjUCuBIF3KtiNQD2k7krm6Y1AjN2hi8b6jUDj3r1u2QqOQNbwGCAtGo5ATHY8ws8ojkA=",
          "dtype": "f8"
         }
        },
        {
         "name": "y0 = 3",
         "type": "scatter",
         "x": {
          "bdata": "AAAAAAAAAACWArV+pUA5QJYCtX6lQElA8MEHH3zwUkCWArV+pUBZQDxDYt7OkF9A8MEHH3zwYkBDYt7OkBhmQJYCtX6lQGlA6aKLLrpobEA8Q2LezpBvQMdxHMdxXHFA8MEHH3zwckAaEvN2hoR0QENi3s6QGHZAbbLJJpusd0CWArV+pUB5QL9SoNav1HpA6aKLLrpofEAS83aGxPx9QDxDYt7OkH9Asskmm2ySgEDHcRzHcVyBQNwZEvN2JoJA8MEHH3zwgkAFav1KgbqDQBoS83aGhIRAL7roootOhUBDYt7OkBiGQFgK1PqV4oZAbbLJJpush0CBWr9SoHaIQJYCtX6lQIlAq6qqqqoKikC/UqDWr9SKQNT6lQK1notA6aKLLrpojED9SoFavzKNQBLzdobE/I1AJ5tsssnGjkA8Q2LezpCPQKj1KwVqLZBAsskmm2ySkEC9nSExb/eQQMdxHMdxXJFA0UUXXXTBkUDcGRLzdiaSQObtDIl5i5JA8MEHH3zwkkD7lQK1flWTQAVq/UqBupNAED744IMflEAaEvN2hoSUQCTm7QyJ6ZRAL7roootOlUA5juM4jrOVQENi3s6QGJZATjbZZJN9lkBYCtT6leKWQGLezpCYR5dAbbLJJpusl0B3hsS8nRGYQIFav1KgdphAjC666KLbmECWArV+pUCZQKDWrxSopZlAq6qqqqoKmkC1fqVArW+aQL9SoNav1JpAyiabbLI5m0DU+pUCtZ6bQN7OkJi3A5xA6aKLLrponEDzdobEvM2cQP1KgVq/Mp1ACB988MGXnUAS83aGxPydQBzHcRzHYZ5AJ5tsssnGnkAxb2dIzCufQDxDYt7OkJ9ARhdddNH1n0Co9SsFai2gQK1fKVDrX6BAsskmm2ySoEC4MyTm7cSgQL2dITFv96BAwgcffPApoUDHcRzHcVyhQMzbGRLzjqFA0UUXXXTBoUDXrxSo9fOhQNwZEvN2JqJA4YMPPvhYokDm7QyJeYuiQOtXCtT6vaJA8MEHH3zwokD2KwVq/SKjQPuVArV+VaNAAAAAAACIo0A=",
          "dtype": "f8"
         },
         "y": {
          "bdata": "AAAAAAAACEBZ8DvnRR8QQKwinPf6VRVAtP7XsafWG0ByRsYhV+shQJo0kDQKxiZAdvYm2keWLEAyJsqBsLwxQLS5M0D5xTVAYPPjAuRzOkD6rzoX7tE/QIa5NnYL9UJAwWMyicViRkAa/n2CkTZKQO7VTUKqc05AJMUlWAKOUUDlBcvdJxhUQFzOYC3611ZAUfrhlIvMWUA6AV3B0fRcQOG/AtigJ2BAumeihtjsYUCOGadw18hjQFhrD8hBumVArOe+bJi/Z0DCDX7sONdpQGBR+oJd/2tA7hrGGR02bkC0YyyktTxwQPViMQSOY3FAnXi6xLWOckCI4QL0P71zQEoQQ7Qw7nRAihjZy5ggdkAEr0illVN3QJApO09RhnhAFX9/fAK4eUCSRwqE7Od6QCK89WBfFXxA7baBsrc/fUA3sxO8XmZ+QFfNNmXKiH9AXuHNnD5TgED2eIw0g9+AQD4t1eMAaYFAks645ovvgUDU/VrL/nKCQID5v94584JA7vbz/x5wg0BAwsiroumDQBFnHVe/X4RAqPQDB3HShEDsfcFQtUGFQHEZzlmLrYVAceHU1/MVhkDK87MQ8XqGQANyfNqG3IZATIFym7o6h0B2Sg1Kk5WHQAD69mwZ7YdADcAMG1dBiEBk0F77V5KIQHhiMEUp4IhAX7H3v9kqiUDa+13DeXKJQEyEPzcbt4lAxJCrk9H4iUD0auTgsTeKQDdgX7fSc4pAkMHEP0ytikCm4+8yOOSKQMge79mxGItA7s4DDtZKi0C0U6I4w3qLQGAQclOZqItA3mtN6HnUi0AC5J3Vhv6LQKgRh6zFJoxA6rAMBj1NjEAh29Uu+3GMQAfLNWYOlYxAsdwr3oS2jECWjWO7bNaMQIp8NBXU9IxAwWmi9cgRjUDONl1ZWS2NQJ/mwC+TR41Ah53VWoRgjUAyoU+vOniNQK5Yj/TDjo1AZ0yh5C2kjUAoJj4shriNQBmxymray41Aw9lXMjjejUANrqIHre+NQDxdFGJGAI5A9jfCqxEQjkA8sG1BHB+OQHJZhHJzLY5AVugfgSQ7jkA=",
          "dtype": "f8"
         }
        },
        {
         "name": "y0 = 4",
         "type": "scatter",
         "x": {
          "bdata": "AAAAAAAAAACWArV+pUA5QJYCtX6lQElA8MEHH3zwUkCWArV+pUBZQDxDYt7OkF9A8MEHH3zwYkBDYt7OkBhmQJYCtX6lQGlA6aKLLrpobEA8Q2LezpBvQMdxHMdxXHFA8MEHH3zwckAaEvN2hoR0QENi3s6QGHZAbbLJJpusd0CWArV+pUB5QL9SoNav1HpA6aKLLrpofEAS83aGxPx9QDxDYt7OkH9Asskmm2ySgEDHcRzHcVyBQNwZEvN2JoJA8MEHH3zwgkAFav1KgbqDQBoS83aGhIRAL7roootOhUBDYt7OkBiGQFgK1PqV4oZAbbLJJpush0CBWr9SoHaIQJYCtX6lQIlAq6qqqqoKikC/UqDWr9SKQNT6lQK1notA6aKLLrpojED9SoFavzKNQBLzdobE/I1AJ5tsssnGjkA8Q2LezpCPQKj1KwVqLZBAsskmm2ySkEC9nSExb/eQQMdxHMdxXJFA0UUXXXTBkUDcGRLzdiaSQObtDIl5i5JA8MEHH3zwkkD7lQK1flWTQAVq/UqBupNAED744IMflEAaEvN2hoSUQCTm7QyJ6ZRAL7roootOlUA5juM4jrOVQENi3s6QGJZATjbZZJN9lkBYCtT6leKWQGLezpCYR5dAbbLJJpusl0B3hsS8nRGYQIFav1KgdphAjC666KLbmECWArV+pUCZQKDWrxSopZlAq6qqqqoKmkC1fqVArW+aQL9SoNav1JpAyiabbLI5m0DU+pUCtZ6bQN7OkJi3A5xA6aKLLrponEDzdobEvM2cQP1KgVq/Mp1ACB988MGXnUAS83aGxPydQBzHcRzHYZ5AJ5tsssnGnkAxb2dIzCufQDxDYt7OkJ9ARhdddNH1n0Co9SsFai2gQK1fKVDrX6BAsskmm2ySoEC4MyTm7cSgQL2dITFv96BAwgcffPApoUDHcRzHcVyhQMzbGRLzjqFA0UUXXXTBoUDXrxSo9fOhQNwZEvN2JqJA4YMPPvhYokDm7QyJeYuiQOtXCtT6vaJA8MEHH3zwokD2KwVq/SKjQPuVArV+VaNAAAAAAACIo0A=",
          "dtype": "f8"
         },
         "y": {
          "bdata": "AAAAAAAAEEA9uTW9JC8VQC7RuNoCphtAWrjv6R7NIUCAxwJ4yKEmQECzg7uJbCxAWG6dEhOkMUDlck//Q6g1QGDuGOPXUDpAb8mgbAmqP0A35rfQIt9CQMJP+O4VS0ZAh6y6N1AcSkCG4cASA1ZOQKw+P8dGfVFAhJF91IgFVEDeVOkbusNWQGSOGnQut1lA2V1zH5veXECI/g9mCxxgQCS6O/7L4GFAn5DHD3m8Y0AguXaLhq1lQD74PBxYsmdAjPZpcULJaUCnQKk+i/BrQCRHAjxpJm5ATi/sEoI0cEDSX3VeOltxQGtDKmNihnJAZFrGhfe0c0AKFzOt7+V0QNlx4ulIGHZAGzAEUjFLd0DXOa+z2H14QCAoddZ5r3lAgiDBa1vfekAE1dcO0Ax8QC+E10Q2N31ABvm3fPhdfkAIi0oPjYB/QBcPnR87T4BAe5GFHKHbgEAry42JRWWBQN6A0Wb764FAjz1ZqZtvgkByUho7BfCCQPrW9vocbYNA3ai9vM3mg0AMbCpJCF2EQLSK5V3Dz4RARDWErfs+hUAsZV3ds6qFQBSvPAXwEoZAe41/a7Z3hkCIR0sREdmGQFeilMUKN4dA++AfJa+Rh0B4xICaCumHQMiLGl4qPYhA2/MfdhyOiECRN5O279uIQMIPRsGzJolAO7PZBXluiUC61r7BULOJQPOsNQBN9YlAkOZNmoA0ikAssuY2/3CKQFq8rkrdqopAoC8kGDDiikB1tJSvDReLQEpxHe+MSYtAggqrgsV5i0Bzovnjz6eLQGjZlFrF04tAo83X+7/9i0BWG+2q2iWMQKvczhgxTIxAhDRCINlwjEDZa0o23JOMQJuBcUFItYxA/mehKCvVjEBsfr62kvOMQIiRp5qMEI1ALNs1ZyYsjUBoAj2TbUaNQIQbi3lvX41AAKjoWDl3jUCRlhhU2I2NQCZD2HFZo41A43bfnMm3jUAmaOCjNcuNQIK6hzmq3Y1AwX589DPvjUDmMmBP3/+NQCrCzqi4D45A/YReQ8wejkAIQaBFJi2OQCopH7rSOo5Aed1gj91HjkA=",
          "dtype": "f8"
         }
        },
        {
         "name": "y0 = 5",
         "type": "scatter",
         "x": {
          "bdata": "AAAAAAAAAACWArV+pUA5QJYCtX6lQElA8MEHH3zwUkCWArV+pUBZQDxDYt7OkF9A8MEHH3zwYkBDYt7OkBhmQJYCtX6lQGlA6aKLLrpobEA8Q2LezpBvQMdxHMdxXHFA8MEHH3zwckAaEvN2hoR0QENi3s6QGHZAbbLJJpusd0CWArV+pUB5QL9SoNav1HpA6aKLLrpofEAS83aGxPx9QDxDYt7OkH9Asskmm2ySgEDHcRzHcVyBQNwZEvN2JoJA8MEHH3zwgkAFav1KgbqDQBoS83aGhIRAL7roootOhUBDYt7OkBiGQFgK1PqV4oZAbbLJJpush0CBWr9SoHaIQJYCtX6lQIlAq6qqqqoKikC/UqDWr9SKQNT6lQK1notA6aKLLrpojED9SoFavzKNQBLzdobE/I1AJ5tsssnGjkA8Q2LezpCPQKj1KwVqLZBAsskmm2ySkEC9nSExb/eQQMdxHMdxXJFA0UUXXXTBkUDcGRLzdiaSQObtDIl5i5JA8MEHH3zwkkD7lQK1flWTQAVq/UqBupNAED744IMflEAaEvN2hoSUQCTm7QyJ6ZRAL7roootOlUA5juM4jrOVQENi3s6QGJZATjbZZJN9lkBYCtT6leKWQGLezpCYR5dAbbLJJpusl0B3hsS8nRGYQIFav1KgdphAjC666KLbmECWArV+pUCZQKDWrxSopZlAq6qqqqoKmkC1fqVArW+aQL9SoNav1JpAyiabbLI5m0DU+pUCtZ6bQN7OkJi3A5xA6aKLLrponEDzdobEvM2cQP1KgVq/Mp1ACB988MGXnUAS83aGxPydQBzHcRzHYZ5AJ5tsssnGnkAxb2dIzCufQDxDYt7OkJ9ARhdddNH1n0Co9SsFai2gQK1fKVDrX6BAsskmm2ySoEC4MyTm7cSgQL2dITFv96BAwgcffPApoUDHcRzHcVyhQMzbGRLzjqFA0UUXXXTBoUDXrxSo9fOhQNwZEvN2JqJA4YMPPvhYokDm7QyJeYuiQOtXCtT6vaJA8MEHH3zwokD2KwVq/SKjQPuVArV+VaNAAAAAAACIo0A=",
          "dtype": "f8"
         },
         "y": {
          "bdata": "AAAAAAAAFEAkYAHceC4aQCIOWpoJ5yBA2qr7dymLJUC6SltCFCArQCb0hg+w4DBA5fCAV7TENEBfHUSGLUk5QITPRH2Pez5AgmzCG7AzQkBoui3ZCItFQIijuvaAR0lAt4GSRcFrTUDMXhZ27PxQQCeeB4mfeVNAYCZxQyYsVkCNgOoKGhRZQHKXzkKBMFxAfLc7TM9/X0BdxwlD8n9hQHSWfSYHV2NAzEo+qcVDZUD0SFbG3ERnQKKVCWBzWGlAxfLLlKx8a0D+Bcd6q69tQIxY2h+T729ArKvNREMdcUB0qapaVEdyQL6/BEwOdXNAc3o3j4KldEBTV3mWwtd1QPXF28/fCndAvidLpes9eECXFpTu9W95QHK2ePEpoHpAxNHWEenNe0BJlnkVofh8QOOdbkvJH35Aje4FjOJCf0Ax/WicuzCAQM3PU56NvYBASBTPBbZHgUDgpYdRCM+BQNuVy8RcU4JAliuKZ5DUgkB85FMGhVKDQAJ0WjIhzYNAs8NwQVBEhEAo8wpOAriEQARYPjcsKIVAAH7BoMeUhUDfJuzy0v2FQHhKt1pRY4ZArha9yUrFhkB27zj2yyOHQNBuB1vmfodA0GSmN7DWh0DSzHa/QSuIQJUAJoCqfIhAXgdc+/rKiEDkbqxCRBaJQKuFhLOXXolAAVsr9wakiUD8vsECpOaJQHpCQheBJopAJjeBwbBjikBwryzaRZ6KQJd+zIVT1opAoDjCNO0Li0BYMkmjJj+LQFiBdtkTcItAA/w4K8mei0CDOVk4W8uLQM6Reeze9YtAoR0Wf2kejECEtoRzEEWMQMr29JjpaYxAizlwCguNjECrmtkui66MQNr27biAzoxAjetDpwLtjEDbGickJgqNQF0qEanwJY1AuN3yUm1AjUB8kdY8qVmNQFt8X0SxcY1AMK/JCZKIjUD8FOrvV56NQOZyLhwPs41AOmiddsPGjUBpbtapgNmNQAzZESNS641A4tUgEkP8jUDNbG1pXgyOQNl/+t2uG45ANMtj5z4qjkA25d2/GDiOQFk+NmRGRY5APiHTk9FRjkA=",
          "dtype": "f8"
         }
        },
        {
         "name": "y0 = 6",
         "type": "scatter",
         "x": {
          "bdata": "AAAAAAAAAACWArV+pUA5QJYCtX6lQElA8MEHH3zwUkCWArV+pUBZQDxDYt7OkF9A8MEHH3zwYkBDYt7OkBhmQJYCtX6lQGlA6aKLLrpobEA8Q2LezpBvQMdxHMdxXHFA8MEHH3zwckAaEvN2hoR0QENi3s6QGHZAbbLJJpusd0CWArV+pUB5QL9SoNav1HpA6aKLLrpofEAS83aGxPx9QDxDYt7OkH9Asskmm2ySgEDHcRzHcVyBQNwZEvN2JoJA8MEHH3zwgkAFav1KgbqDQBoS83aGhIRAL7roootOhUBDYt7OkBiGQFgK1PqV4oZAbbLJJpush0CBWr9SoHaIQJYCtX6lQIlAq6qqqqoKikC/UqDWr9SKQNT6lQK1notA6aKLLrpojED9SoFavzKNQBLzdobE/I1AJ5tsssnGjkA8Q2LezpCPQKj1KwVqLZBAsskmm2ySkEC9nSExb/eQQMdxHMdxXJFA0UUXXXTBkUDcGRLzdiaSQObtDIl5i5JA8MEHH3zwkkD7lQK1flWTQAVq/UqBupNAED744IMflEAaEvN2hoSUQCTm7QyJ6ZRAL7roootOlUA5juM4jrOVQENi3s6QGJZATjbZZJN9lkBYCtT6leKWQGLezpCYR5dAbbLJJpusl0B3hsS8nRGYQIFav1KgdphAjC666KLbmECWArV+pUCZQKDWrxSopZlAq6qqqqoKmkC1fqVArW+aQL9SoNav1JpAyiabbLI5m0DU+pUCtZ6bQN7OkJi3A5xA6aKLLrponEDzdobEvM2cQP1KgVq/Mp1ACB988MGXnUAS83aGxPydQBzHcRzHYZ5AJ5tsssnGnkAxb2dIzCufQDxDYt7OkJ9ARhdddNH1n0Co9SsFai2gQK1fKVDrX6BAsskmm2ySoEC4MyTm7cSgQL2dITFv96BAwgcffPApoUDHcRzHcVyhQMzbGRLzjqFA0UUXXXTBoUDXrxSo9fOhQNwZEvN2JqJA4YMPPvhYokDm7QyJeYuiQOtXCtT6vaJA8MEHH3zwokD2KwVq/SKjQPuVArV+VaNAAAAAAACIo0A=",
          "dtype": "f8"
         },
         "y": {
          "bdata": "AAAAAAAAGEA+4URjxSAfQEzKsKaA6yNAmBReC6UtKUBXGVcthnMvQGx8Et08bDNA0mnccR+7N0C8LEpcn7I8QCJSfhW7L0FArdvFzDhmREDaqptqDQFIQN67cz5bA0xAqAdLKJE3UEBp5n9+xaJSQCjtJxmbQ1VAKYKwQtoZWECTCdUTxyRbQJ/VTHUhY15ATJPlj5LpYEBllf/NRLliQEz/SSFBn2RAM1YYHt+ZZkDmSfAmhKdoQAsv21SvxmpAaFp+jFn1bEDTTEJBgzFvQH2j5qibvHBAtKQBhEXlcUBECoMMzxFzQFKUmlJNQXRA7uIWnNpydUAadmVklqV2QMWtklyl2HdAzslJazELeUD86dSsaTx6QBQOHXOCa3tAzcyi1aiXfEDTw2tyCMB9QDQjLD8y5H5AHE5LaOMBgECpAlG9No+AQA6tRCjqGYFArN1lEtihgUB+N5ZE3iaCQAxwWefdqIJAdk/Vgrsng0BzsNH+XqODQEmAuKKzG4RA176VFaiQhECQfhdeLgKFQHrkjeI7cIVAMCjraMnahUDik8MW00GGQFaETXFYpYZA5GhhXVwFh0B4w3kf5WGHQJYos1v8uodAVj/MFa8QiEBhwSWxDWOIQPh6wvArsohA8EpH9yD+iECwIvtGB0eJQDgGx8H8jIlAGAw2qSLQiUDvhdTynBCKQIzXCrd8TopAPkkP1s6JikCtIENGpcKKQEXbkgQS+YpAPC52FCcti0CKBvB/9l6LQO6IjleSjotA7RFrsgy8i0DSNSqud+eLQK7A+27lEIxAWLaaH2g4jEBqUk3xEV6MQEgI5Rv1gYxAG4O+3SOkjEDOpcF7sMSMQBiLYUGt44xAb4WcgCwBjUAVH/yRQB2NQA4aldT7N41AJXAHrnBRjUDsUn6KsWmNQLgrsNzQgI1AqJveHeGWjUAByXum7quNQM1CB2b5v41ARpbRGwzTjUDwirnPMeWNQL9uqDV19o1AHhaSreAGjkDl23RDfhaOQF+hWa9XJY5AS85TVXYzjkDYUIFF40COQKedCjynTY5Ay68iocpZjkA=",
          "dtype": "f8"
         }
        },
        {
         "name": "y0 = 7",
         "type": "scatter",
         "x": {
          "bdata": "AAAAAAAAAACWArV+pUA5QJYCtX6lQElA8MEHH3zwUkCWArV+pUBZQDxDYt7OkF9A8MEHH3zwYkBDYt7OkBhmQJYCtX6lQGlA6aKLLrpobEA8Q2LezpBvQMdxHMdxXHFA8MEHH3zwckAaEvN2hoR0QENi3s6QGHZAbbLJJpusd0CWArV+pUB5QL9SoNav1HpA6aKLLrpofEAS83aGxPx9QDxDYt7OkH9Asskmm2ySgEDHcRzHcVyBQNwZEvN2JoJA8MEHH3zwgkAFav1KgbqDQBoS83aGhIRAL7roootOhUBDYt7OkBiGQFgK1PqV4oZAbbLJJpush0CBWr9SoHaIQJYCtX6lQIlAq6qqqqoKikC/UqDWr9SKQNT6lQK1notA6aKLLrpojED9SoFavzKNQBLzdobE/I1AJ5tsssnGjkA8Q2LezpCPQKj1KwVqLZBAsskmm2ySkEC9nSExb/eQQMdxHMdxXJFA0UUXXXTBkUDcGRLzdiaSQObtDIl5i5JA8MEHH3zwkkD7lQK1flWTQAVq/UqBupNAED744IMflEAaEvN2hoSUQCTm7QyJ6ZRAL7roootOlUA5juM4jrOVQENi3s6QGJZATjbZZJN9lkBYCtT6leKWQGLezpCYR5dAbbLJJpusl0B3hsS8nRGYQIFav1KgdphAjC666KLbmECWArV+pUCZQKDWrxSopZlAq6qqqqoKmkC1fqVArW+aQL9SoNav1JpAyiabbLI5m0DU+pUCtZ6bQN7OkJi3A5xA6aKLLrponEDzdobEvM2cQP1KgVq/Mp1ACB988MGXnUAS83aGxPydQBzHcRzHYZ5AJ5tsssnGnkAxb2dIzCufQDxDYt7OkJ9ARhdddNH1n0Co9SsFai2gQK1fKVDrX6BAsskmm2ySoEC4MyTm7cSgQL2dITFv96BAwgcffPApoUDHcRzHcVyhQMzbGRLzjqFA0UUXXXTBoUDXrxSo9fOhQNwZEvN2JqJA4YMPPvhYokDm7QyJeYuiQOtXCtT6vaJA8MEHH3zwokD2KwVq/SKjQPuVArV+VaNAAAAAAACIo0A=",
          "dtype": "f8"
         },
         "y": {
          "bdata": "AAAAAAAAHECeHzUJKwQiQFDUOh5C4yZALhburNG5LEBXyeGeR9IxQEhdvyQw3zVA07ckfyCQOkDhx6pUevA/QPzp6VQNBkNAHt3Rvop2RkAwkonVjE1KQNHDh3S4jU5AOMme8j+cUUBC8ENsISdUQEWN98Z651ZACimaArfcWUC4wAjpxQVdQDJ7LZKRMGBAiIhxH2v2YUBU/pZROdNjQAClAc6LxWVAbZcyKrjLZ0D0Qsjr2eNpQNQuYm48DGxAw8I4DzNDbkBxQ8UcUUNwQNUIIbA/anFApc9JrWiVckDPiP4x2MNzQCH4Ig6j9HRAOrS/w+YmdkCUJgKHyVl3QIaLPD56jHhAPvLlgTC+eUDBPJqcLO56QPAfGou3G3xAhCNL/CJGfUAMojdRyWx+QAOWoz/3jn9ABo11af9VgEDuQYzMzeGAQJsIio3JaoFApc0749fwgUBbS8d24HOCQL4Jq2PN84JAil6+N4twg0AybTHzCOqDQNomjQg4YIRAYUqzXAzThEBbZN5GfEKFQBHPoZCAroVAhrLpdRQXhkBvBPukNXyGQDiIcz7k3YZACM9J1SI8h0C2N81u9paHQNPupYJm7odAqO7U+nxCiEAu/7MzRpOIQBu29fvQ4IhA2HallC4riUCGciexcnKJQPinOHeztolAvuPufgn4iUAawLjSjzaKQAalXe9jcopAMMj9w6WrikAALRKyd+KKQJCkbI3+FotAts03nGFJi0Dq2dQOvHmLQEq1sw4LqItAVTFmFlzUi0C/6Olxvf6LQHwmrX09J4xAx+WOpupNjEAc0t5p03KMQD5HXVUGloxAL1E7B5K3jEA3rBouhdeMQOPEDYnu9YxAAbiX59wSjUCjUqwpXy6NQCESsD+ESI1AEyR4KlthjUBYZkr78niNQBBn3dNaj41AnmRY5qGkjUCtTVN117iNQCfB1tMKzI1AOw5cZUvejUBcNM2dqO+NQEHjhAEyAI5A5HpOJfcPjkCCC2auBx+OQMHvMUpxLY5AWgKYLis7jkAQxT85OEiOQN6A6KKgVI5Ad2vLSmxgjkA=",
          "dtype": "f8"
         }
        },
        {
         "name": "y0 = 8",
         "type": "scatter",
         "x": {
          "bdata": "AAAAAAAAAACWArV+pUA5QJYCtX6lQElA8MEHH3zwUkCWArV+pUBZQDxDYt7OkF9A8MEHH3zwYkBDYt7OkBhmQJYCtX6lQGlA6aKLLrpobEA8Q2LezpBvQMdxHMdxXHFA8MEHH3zwckAaEvN2hoR0QENi3s6QGHZAbbLJJpusd0CWArV+pUB5QL9SoNav1HpA6aKLLrpofEAS83aGxPx9QDxDYt7OkH9Asskmm2ySgEDHcRzHcVyBQNwZEvN2JoJA8MEHH3zwgkAFav1KgbqDQBoS83aGhIRAL7roootOhUBDYt7OkBiGQFgK1PqV4oZAbbLJJpush0CBWr9SoHaIQJYCtX6lQIlAq6qqqqoKikC/UqDWr9SKQNT6lQK1notA6aKLLrpojED9SoFavzKNQBLzdobE/I1AJ5tsssnGjkA8Q2LezpCPQKj1KwVqLZBAsskmm2ySkEC9nSExb/eQQMdxHMdxXJFA0UUXXXTBkUDcGRLzdiaSQObtDIl5i5JA8MEHH3zwkkD7lQK1flWTQAVq/UqBupNAED744IMflEAaEvN2hoSUQCTm7QyJ6ZRAL7roootOlUA5juM4jrOVQENi3s6QGJZATjbZZJN9lkBYCtT6leKWQGLezpCYR5dAbbLJJpusl0B3hsS8nRGYQIFav1KgdphAjC666KLbmECWArV+pUCZQKDWrxSopZlAq6qqqqoKmkC1fqVArW+aQL9SoNav1JpAyiabbLI5m0DU+pUCtZ6bQN7OkJi3A5xA6aKLLrponEDzdobEvM2cQP1KgVq/Mp1ACB988MGXnUAS83aGxPydQBzHcRzHYZ5AJ5tsssnGnkAxb2dIzCufQDxDYt7OkJ9ARhdddNH1n0Co9SsFai2gQK1fKVDrX6BAsskmm2ySoEC4MyTm7cSgQL2dITFv96BAwgcffPApoUDHcRzHcVyhQMzbGRLzjqFA0UUXXXTBoUDXrxSo9fOhQNwZEvN2JqJA4YMPPvhYokDm7QyJeYuiQOtXCtT6vaJA8MEHH3zwokD2KwVq/SKjQPuVArV+VaNAAAAAAACIo0A=",
          "dtype": "f8"
         },
         "y": {
          "bdata": "AAAAAAAAIEDm7Ph9ZHMkQHcovxNN0ClAAEYTdKkZMEA77lUGf9wzQOyK9wnSPThAXoVZFbBJPUCM9MB3X4VBQKvrsUvzxURASG8AT0BrSEAEb/FztnhMQG0BR2tEeFBAkrVR3tbpUkAv3sRC8ZBVQCy8sPc3bVhA0LYWdNJ9W0DgqkGoXMFeQJSFkU0HG2FAPHApNd7sYkDO5Acl69RkQLR9n0K00WZAUiC2vo3haEAa/WTVmQJrQKJUUvzJMm1AztD7aWpwb0DGWPs00txwQM871kEvBnJAEPc+gUozc0BAleH6LGN0QEvGZZjqlHVAPt9uJaLHdkBc2ptPffp3QA5Xh6awLHlA7JnHm3tdekC3jO6CKIx7QGK+iZEMuHxACWMi34fgfUDtUz1lBQV/QMWHrX99EoBAvtx7tfSfgEBVe7c7oyqBQJgy4uhWsoFAU1+Bzfk2gkB3uvtLeLiCQB7Ks/7ANoNAkuEHuMSxg0BOIVKCdimEQPF26J/LnYRAT50ci7sOhUBnHDz2P3yFQGJJkMtU5oVAnEZeLfhMhkCYA+d1KrCGQAk9ZzfuD4dA0XwXPEhsh0D6GSyGP8WHQMA41U/dGohAjMo+Cy1tiEDujZBiPLyIQKoO7jcbCIlAsKV2pdtQiUAZeUX9kZaJQDB8cclU2YlAaG8NzDwZikBm4Cf/ZFaKQPopy5TqkIpAIXT99uzIikAGtMDHjf6KQP6rEuHwMYtAYyNyzDtji0BiClo9fJKLQCoyuAK5v4tAkgDCRgDri0A8GoBEYBSMQJ1izkfnO4xA+vtbraNhjEBlR6vio4WMQMTkEWb2p4xAyrK4xqnIjED5zpukzOeMQKiVirBtBY1A96EnrJshjUDbzehpZTyNQBcyF83ZVY1APibPyQdujUC0QABl/oSNQKtWbbTMmo1AJXys3oGvjUD2AycbLcONQMB/GbLd1Y1A9r+T/KLnjUDa03hkjPiNQH4Jf2SpCI5Axe0viAkYjkBgTOhrvCaOQPljDY/JNI5ADywoASdCjkAGyf38206OQHoGy4rwWo5Ab5rlWmxmjkA=",
          "dtype": "f8"
         }
        },
        {
         "name": "y0 = 9",
         "type": "scatter",
         "x": {
          "bdata": "AAAAAAAAAACWArV+pUA5QJYCtX6lQElA8MEHH3zwUkCWArV+pUBZQDxDYt7OkF9A8MEHH3zwYkBDYt7OkBhmQJYCtX6lQGlA6aKLLrpobEA8Q2LezpBvQMdxHMdxXHFA8MEHH3zwckAaEvN2hoR0QENi3s6QGHZAbbLJJpusd0CWArV+pUB5QL9SoNav1HpA6aKLLrpofEAS83aGxPx9QDxDYt7OkH9Asskmm2ySgEDHcRzHcVyBQNwZEvN2JoJA8MEHH3zwgkAFav1KgbqDQBoS83aGhIRAL7roootOhUBDYt7OkBiGQFgK1PqV4oZAbbLJJpush0CBWr9SoHaIQJYCtX6lQIlAq6qqqqoKikC/UqDWr9SKQNT6lQK1notA6aKLLrpojED9SoFavzKNQBLzdobE/I1AJ5tsssnGjkA8Q2LezpCPQKj1KwVqLZBAsskmm2ySkEC9nSExb/eQQMdxHMdxXJFA0UUXXXTBkUDcGRLzdiaSQObtDIl5i5JA8MEHH3zwkkD7lQK1flWTQAVq/UqBupNAED744IMflEAaEvN2hoSUQCTm7QyJ6ZRAL7roootOlUA5juM4jrOVQENi3s6QGJZATjbZZJN9lkBYCtT6leKWQGLezpCYR5dAbbLJJpusl0B3hsS8nRGYQIFav1KgdphAjC666KLbmECWArV+pUCZQKDWrxSopZlAq6qqqqoKmkC1fqVArW+aQL9SoNav1JpAyiabbLI5m0DU+pUCtZ6bQN7OkJi3A5xA6aKLLrponEDzdobEvM2cQP1KgVq/Mp1ACB988MGXnUAS83aGxPydQBzHcRzHYZ5AJ5tsssnGnkAxb2dIzCufQDxDYt7OkJ9ARhdddNH1n0Co9SsFai2gQK1fKVDrX6BAsskmm2ySoEC4MyTm7cSgQL2dITFv96BAwgcffPApoUDHcRzHcVyhQMzbGRLzjqFA0UUXXXTBoUDXrxSo9fOhQNwZEvN2JqJA4YMPPvhYokDm7QyJeYuiQOtXCtT6vaJA8MEHH3zwokD2KwVq/SKjQPuVArV+VaNAAAAAAACIo0A=",
          "dtype": "f8"
         },
         "y": {
          "bdata": "AAAAAAAAIkCNOPq1qN4mQJn/1h8atCxA/HnzR2nOMUDCBonlhdo1QDD5PvQ6izpAzj0k2RnsP0BQfpqKkgNDQPfMMfsfc0ZAl+uNnARJSkC0BY5dTYhOQIq8cFpimVFA3uqDUHkkVED6bihUDuVWQA2cidde2llAPAA8lHMDXUCkk4ZITC9gQKv9zEPh9GFA9YFLBEnRY0DpMui9KcNlQKHxFJD/yGdA2m3PhRzhaUAJJqGVqAlsQEVnn6GhQG5AA0wZpfJBcECqVmV542hxQGKxzQgrlHJAnK/RNsXCc0D2mz0FuvN0QDq4KpQdJnZAYD3/IRBZd0CIW24Lvot4QAQ6eMtfvXlATvdp+zntekAJqd1SnRp8QA1cuqfmRH1AWBQ07n5rfkAUzcs4241/QE28J1y+VYBANgDtXfjhgECeomlYaGuBQCb5yZfg8YFAVtMLgDF1gkDweiafRPWCQO4KYt0NcoNAq8oN8YLrg0DeLYBem2GEQJbUFnhQ1IRARYs2Xp1DhUC3Skv/fq+FQBI4yBf0F4ZA3aQnMv18hkD5DuumnN6GQKMgm5zWPIdAebDHB7GXh0BwwQerM++HQNyC+RZoQ4hAcFBCqlmUiEA4so6RFeKIQJ1ckseqLIlAaDAIFSp0iUC6OrIQpriJQBW1WR8z+olAVQXPc+c4ikCyvekO23SKQMKciL8nropAeo2RIunkikAmp/GiPBmLQHMtnXlBS4tAapCPrRh7i0BubMsT5aiLQEKKWk/L1ItASlV2Dur+i0A6bJsoRieMQA7KRWHpTYxAIJaSW95yjEA7alfuL5aMQKJSIiTpt4xADM45OxXYjECizZylv/aMQAS1Agn0E41ARFrbPr4vjUDqBU9UKkqNQPFyPopEY41Ays5CVRl7jUBZua1dtZGNQPZEiX8lp41AbvaXyna7jUADxVSCts6NQGsa8x3y4I1AztJeSDfyjUDMPDzgkwKOQHcZ6PcVEo5AVpx31csgjkBja7jywy6OQA6fMP0MPI5APMIe1rVIjkBE0nmSzVSOQPI+8XpjYI5AiOrsC4drjkA=",
          "dtype": "f8"
         }
        }
       ],
       "layout": {
        "height": 500,
        "template": {
         "data": {
          "bar": [
           {
            "error_x": {
             "color": "#f2f5fa"
            },
            "error_y": {
             "color": "#f2f5fa"
            },
            "marker": {
             "line": {
              "color": "rgb(17,17,17)",
              "width": 0.5
             },
             "pattern": {
              "fillmode": "overlay",
              "size": 10,
              "solidity": 0.2
             }
            },
            "type": "bar"
           }
          ],
          "barpolar": [
           {
            "marker": {
             "line": {
              "color": "rgb(17,17,17)",
              "width": 0.5
             },
             "pattern": {
              "fillmode": "overlay",
              "size": 10,
              "solidity": 0.2
             }
            },
            "type": "barpolar"
           }
          ],
          "carpet": [
           {
            "aaxis": {
             "endlinecolor": "#A2B1C6",
             "gridcolor": "#506784",
             "linecolor": "#506784",
             "minorgridcolor": "#506784",
             "startlinecolor": "#A2B1C6"
            },
            "baxis": {
             "endlinecolor": "#A2B1C6",
             "gridcolor": "#506784",
             "linecolor": "#506784",
             "minorgridcolor": "#506784",
             "startlinecolor": "#A2B1C6"
            },
            "type": "carpet"
           }
          ],
          "choropleth": [
           {
            "colorbar": {
             "outlinewidth": 0,
             "ticks": ""
            },
            "type": "choropleth"
           }
          ],
          "contour": [
           {
            "colorbar": {
             "outlinewidth": 0,
             "ticks": ""
            },
            "colorscale": [
             [
              0,
              "#0d0887"
             ],
             [
              0.1111111111111111,
              "#46039f"
             ],
             [
              0.2222222222222222,
              "#7201a8"
             ],
             [
              0.3333333333333333,
              "#9c179e"
             ],
             [
              0.4444444444444444,
              "#bd3786"
             ],
             [
              0.5555555555555556,
              "#d8576b"
             ],
             [
              0.6666666666666666,
              "#ed7953"
             ],
             [
              0.7777777777777778,
              "#fb9f3a"
             ],
             [
              0.8888888888888888,
              "#fdca26"
             ],
             [
              1,
              "#f0f921"
             ]
            ],
            "type": "contour"
           }
          ],
          "contourcarpet": [
           {
            "colorbar": {
             "outlinewidth": 0,
             "ticks": ""
            },
            "type": "contourcarpet"
           }
          ],
          "heatmap": [
           {
            "colorbar": {
             "outlinewidth": 0,
             "ticks": ""
            },
            "colorscale": [
             [
              0,
              "#0d0887"
             ],
             [
              0.1111111111111111,
              "#46039f"
             ],
             [
              0.2222222222222222,
              "#7201a8"
             ],
             [
              0.3333333333333333,
              "#9c179e"
             ],
             [
              0.4444444444444444,
              "#bd3786"
             ],
             [
              0.5555555555555556,
              "#d8576b"
             ],
             [
              0.6666666666666666,
              "#ed7953"
             ],
             [
              0.7777777777777778,
              "#fb9f3a"
             ],
             [
              0.8888888888888888,
              "#fdca26"
             ],
             [
              1,
              "#f0f921"
             ]
            ],
            "type": "heatmap"
           }
          ],
          "histogram": [
           {
            "marker": {
             "pattern": {
              "fillmode": "overlay",
              "size": 10,
              "solidity": 0.2
             }
            },
            "type": "histogram"
           }
          ],
          "histogram2d": [
           {
            "colorbar": {
             "outlinewidth": 0,
             "ticks": ""
            },
            "colorscale": [
             [
              0,
              "#0d0887"
             ],
             [
              0.1111111111111111,
              "#46039f"
             ],
             [
              0.2222222222222222,
              "#7201a8"
             ],
             [
              0.3333333333333333,
              "#9c179e"
             ],
             [
              0.4444444444444444,
              "#bd3786"
             ],
             [
              0.5555555555555556,
              "#d8576b"
             ],
             [
              0.6666666666666666,
              "#ed7953"
             ],
             [
              0.7777777777777778,
              "#fb9f3a"
             ],
             [
              0.8888888888888888,
              "#fdca26"
             ],
             [
              1,
              "#f0f921"
             ]
            ],
            "type": "histogram2d"
           }
          ],
          "histogram2dcontour": [
           {
            "colorbar": {
             "outlinewidth": 0,
             "ticks": ""
            },
            "colorscale": [
             [
              0,
              "#0d0887"
             ],
             [
              0.1111111111111111,
              "#46039f"
             ],
             [
              0.2222222222222222,
              "#7201a8"
             ],
             [
              0.3333333333333333,
              "#9c179e"
             ],
             [
              0.4444444444444444,
              "#bd3786"
             ],
             [
              0.5555555555555556,
              "#d8576b"
             ],
             [
              0.6666666666666666,
              "#ed7953"
             ],
             [
              0.7777777777777778,
              "#fb9f3a"
             ],
             [
              0.8888888888888888,
              "#fdca26"
             ],
             [
              1,
              "#f0f921"
             ]
            ],
            "type": "histogram2dcontour"
           }
          ],
          "mesh3d": [
           {
            "colorbar": {
             "outlinewidth": 0,
             "ticks": ""
            },
            "type": "mesh3d"
           }
          ],
          "parcoords": [
           {
            "line": {
             "colorbar": {
              "outlinewidth": 0,
              "ticks": ""
             }
            },
            "type": "parcoords"
           }
          ],
          "pie": [
           {
            "automargin": true,
            "type": "pie"
           }
          ],
          "scatter": [
           {
            "marker": {
             "line": {
              "color": "#283442"
             }
            },
            "type": "scatter"
           }
          ],
          "scatter3d": [
           {
            "line": {
             "colorbar": {
              "outlinewidth": 0,
              "ticks": ""
             }
            },
            "marker": {
             "colorbar": {
              "outlinewidth": 0,
              "ticks": ""
             }
            },
            "type": "scatter3d"
           }
          ],
          "scattercarpet": [
           {
            "marker": {
             "colorbar": {
              "outlinewidth": 0,
              "ticks": ""
             }
            },
            "type": "scattercarpet"
           }
          ],
          "scattergeo": [
           {
            "marker": {
             "colorbar": {
              "outlinewidth": 0,
              "ticks": ""
             }
            },
            "type": "scattergeo"
           }
          ],
          "scattergl": [
           {
            "marker": {
             "line": {
              "color": "#283442"
             }
            },
            "type": "scattergl"
           }
          ],
          "scattermap": [
           {
            "marker": {
             "colorbar": {
              "outlinewidth": 0,
              "ticks": ""
             }
            },
            "type": "scattermap"
           }
          ],
          "scattermapbox": [
           {
            "marker": {
             "colorbar": {
              "outlinewidth": 0,
              "ticks": ""
             }
            },
            "type": "scattermapbox"
           }
          ],
          "scatterpolar": [
           {
            "marker": {
             "colorbar": {
              "outlinewidth": 0,
              "ticks": ""
             }
            },
            "type": "scatterpolar"
           }
          ],
          "scatterpolargl": [
           {
            "marker": {
             "colorbar": {
              "outlinewidth": 0,
              "ticks": ""
             }
            },
            "type": "scatterpolargl"
           }
          ],
          "scatterternary": [
           {
            "marker": {
             "colorbar": {
              "outlinewidth": 0,
              "ticks": ""
             }
            },
            "type": "scatterternary"
           }
          ],
          "surface": [
           {
            "colorbar": {
             "outlinewidth": 0,
             "ticks": ""
            },
            "colorscale": [
             [
              0,
              "#0d0887"
             ],
             [
              0.1111111111111111,
              "#46039f"
             ],
             [
              0.2222222222222222,
              "#7201a8"
             ],
             [
              0.3333333333333333,
              "#9c179e"
             ],
             [
              0.4444444444444444,
              "#bd3786"
             ],
             [
              0.5555555555555556,
              "#d8576b"
             ],
             [
              0.6666666666666666,
              "#ed7953"
             ],
             [
              0.7777777777777778,
              "#fb9f3a"
             ],
             [
              0.8888888888888888,
              "#fdca26"
             ],
             [
              1,
              "#f0f921"
             ]
            ],
            "type": "surface"
           }
          ],
          "table": [
           {
            "cells": {
             "fill": {
              "color": "#506784"
             },
             "line": {
              "color": "rgb(17,17,17)"
             }
            },
            "header": {
             "fill": {
              "color": "#2a3f5f"
             },
             "line": {
              "color": "rgb(17,17,17)"
             }
            },
            "type": "table"
           }
          ]
         },
         "layout": {
          "annotationdefaults": {
           "arrowcolor": "#f2f5fa",
           "arrowhead": 0,
           "arrowwidth": 1
          },
          "autotypenumbers": "strict",
          "coloraxis": {
           "colorbar": {
            "outlinewidth": 0,
            "ticks": ""
           }
          },
          "colorscale": {
           "diverging": [
            [
             0,
             "#8e0152"
            ],
            [
             0.1,
             "#c51b7d"
            ],
            [
             0.2,
             "#de77ae"
            ],
            [
             0.3,
             "#f1b6da"
            ],
            [
             0.4,
             "#fde0ef"
            ],
            [
             0.5,
             "#f7f7f7"
            ],
            [
             0.6,
             "#e6f5d0"
            ],
            [
             0.7,
             "#b8e186"
            ],
            [
             0.8,
             "#7fbc41"
            ],
            [
             0.9,
             "#4d9221"
            ],
            [
             1,
             "#276419"
            ]
           ],
           "sequential": [
            [
             0,
             "#0d0887"
            ],
            [
             0.1111111111111111,
             "#46039f"
            ],
            [
             0.2222222222222222,
             "#7201a8"
            ],
            [
             0.3333333333333333,
             "#9c179e"
            ],
            [
             0.4444444444444444,
             "#bd3786"
            ],
            [
             0.5555555555555556,
             "#d8576b"
            ],
            [
             0.6666666666666666,
             "#ed7953"
            ],
            [
             0.7777777777777778,
             "#fb9f3a"
            ],
            [
             0.8888888888888888,
             "#fdca26"
            ],
            [
             1,
             "#f0f921"
            ]
           ],
           "sequentialminus": [
            [
             0,
             "#0d0887"
            ],
            [
             0.1111111111111111,
             "#46039f"
            ],
            [
             0.2222222222222222,
             "#7201a8"
            ],
            [
             0.3333333333333333,
             "#9c179e"
            ],
            [
             0.4444444444444444,
             "#bd3786"
            ],
            [
             0.5555555555555556,
             "#d8576b"
            ],
            [
             0.6666666666666666,
             "#ed7953"
            ],
            [
             0.7777777777777778,
             "#fb9f3a"
            ],
            [
             0.8888888888888888,
             "#fdca26"
            ],
            [
             1,
             "#f0f921"
            ]
           ]
          },
          "colorway": [
           "#636efa",
           "#EF553B",
           "#00cc96",
           "#ab63fa",
           "#FFA15A",
           "#19d3f3",
           "#FF6692",
           "#B6E880",
           "#FF97FF",
           "#FECB52"
          ],
          "font": {
           "color": "#f2f5fa"
          },
          "geo": {
           "bgcolor": "rgb(17,17,17)",
           "lakecolor": "rgb(17,17,17)",
           "landcolor": "rgb(17,17,17)",
           "showlakes": true,
           "showland": true,
           "subunitcolor": "#506784"
          },
          "hoverlabel": {
           "align": "left"
          },
          "hovermode": "closest",
          "mapbox": {
           "style": "dark"
          },
          "paper_bgcolor": "rgb(17,17,17)",
          "plot_bgcolor": "rgb(17,17,17)",
          "polar": {
           "angularaxis": {
            "gridcolor": "#506784",
            "linecolor": "#506784",
            "ticks": ""
           },
           "bgcolor": "rgb(17,17,17)",
           "radialaxis": {
            "gridcolor": "#506784",
            "linecolor": "#506784",
            "ticks": ""
           }
          },
          "scene": {
           "xaxis": {
            "backgroundcolor": "rgb(17,17,17)",
            "gridcolor": "#506784",
            "gridwidth": 2,
            "linecolor": "#506784",
            "showbackground": true,
            "ticks": "",
            "zerolinecolor": "#C8D4E3"
           },
           "yaxis": {
            "backgroundcolor": "rgb(17,17,17)",
            "gridcolor": "#506784",
            "gridwidth": 2,
            "linecolor": "#506784",
            "showbackground": true,
            "ticks": "",
            "zerolinecolor": "#C8D4E3"
           },
           "zaxis": {
            "backgroundcolor": "rgb(17,17,17)",
            "gridcolor": "#506784",
            "gridwidth": 2,
            "linecolor": "#506784",
            "showbackground": true,
            "ticks": "",
            "zerolinecolor": "#C8D4E3"
           }
          },
          "shapedefaults": {
           "line": {
            "color": "#f2f5fa"
           }
          },
          "sliderdefaults": {
           "bgcolor": "#C8D4E3",
           "bordercolor": "rgb(17,17,17)",
           "borderwidth": 1,
           "tickwidth": 0
          },
          "ternary": {
           "aaxis": {
            "gridcolor": "#506784",
            "linecolor": "#506784",
            "ticks": ""
           },
           "baxis": {
            "gridcolor": "#506784",
            "linecolor": "#506784",
            "ticks": ""
           },
           "bgcolor": "rgb(17,17,17)",
           "caxis": {
            "gridcolor": "#506784",
            "linecolor": "#506784",
            "ticks": ""
           }
          },
          "title": {
           "x": 0.05
          },
          "updatemenudefaults": {
           "bgcolor": "#506784",
           "borderwidth": 0
          },
          "xaxis": {
           "automargin": true,
           "gridcolor": "#283442",
           "linecolor": "#506784",
           "ticks": "",
           "title": {
            "standoff": 15
           },
           "zerolinecolor": "#283442",
           "zerolinewidth": 2
          },
          "yaxis": {
           "automargin": true,
           "gridcolor": "#283442",
           "linecolor": "#506784",
           "ticks": "",
           "title": {
            "standoff": 15
           },
           "zerolinecolor": "#283442",
           "zerolinewidth": 2
          }
         }
        },
        "title": {
         "text": "Gompertz Modificado"
        }
       }
      }
     },
     "metadata": {},
     "output_type": "display_data"
    }
   ],
   "source": [
    "# Versão Modificada\n",
    "r = 0.76\n",
    "def Gomp_Mod(t,P):\n",
    "    return (r*(np.exp(1))*np.log(K/P)*P)/K\n",
    "\n",
    "t = np.linspace(0,2500,100)\n",
    "fig = go.Figure()\n",
    "\n",
    "for yi in range(1,10):\n",
    "    sol = solve_ivp(Gomp_Mod, [0,2500], [yi], t_eval=t)\n",
    "    fig.add_trace(go.Scatter(\n",
    "        x = sol.t,\n",
    "        y = sol.y[0],\n",
    "        name=f\"y0 = {yi}\"\n",
    "    ))\n",
    "\n",
    "fig.update_layout(\n",
    "    title= \"Gompertz Modificado\",\n",
    "    height=500,\n",
    "    template=\"plotly_dark\")\n",
    "fig.show()"
   ]
  },
  {
   "cell_type": "code",
   "execution_count": null,
   "id": "615d0d46-db8b-4ec1-a64e-478fad591a34",
   "metadata": {},
   "outputs": [],
   "source": []
  }
 ],
 "metadata": {
  "kernelspec": {
   "display_name": "base",
   "language": "python",
   "name": "python3"
  },
  "language_info": {
   "codemirror_mode": {
    "name": "ipython",
    "version": 3
   },
   "file_extension": ".py",
   "mimetype": "text/x-python",
   "name": "python",
   "nbconvert_exporter": "python",
   "pygments_lexer": "ipython3",
   "version": "3.12.2"
  }
 },
 "nbformat": 4,
 "nbformat_minor": 5
}
