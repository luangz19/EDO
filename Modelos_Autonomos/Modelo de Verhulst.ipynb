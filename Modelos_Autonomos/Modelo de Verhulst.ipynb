{
 "cells": [
  {
   "cell_type": "code",
   "execution_count": 1,
   "id": "8977e796-ca36-4cd7-9915-3b8b46339b01",
   "metadata": {},
   "outputs": [],
   "source": [
    "import plotly.graph_objects as go\n",
    "import numpy as np\n",
    "from scipy.integrate import solve_ivp"
   ]
  },
  {
   "cell_type": "markdown",
   "id": "3aee0d12-c296-474e-9ad2-413aba8e3bc2",
   "metadata": {},
   "source": [
    "### Modelo de Dinâmica Populacional\n",
    "- Modelo de Verhulst\n",
    "\n",
    "O modelo matemático proposto originalmente por Verhulst, onde temos o seguinte PVI:\n",
    "\n",
    "$$\\begin{cases} \\dfrac{dP}{dt} = rP \\displaystyle \\left(1 - \\frac{P}{K} \\right) \\\\\\\\\n",
    "P(0) = P_0\n",
    "\\end{cases}$$\n",
    "\n",
    "onde\n",
    "- $P(t)$ é o número de indivíduos no tempo $t$;\n",
    "- $r$ é a taxa de crescimento intrínseco;\n",
    "- $K$ é a capacidade de carga, ou seja, o número máximo de indivíduos que o ambiente\n",
    "suporta."
   ]
  },
  {
   "cell_type": "code",
   "execution_count": 5,
   "id": "63cb7237-f575-406a-8c17-d5140ce1f9e4",
   "metadata": {},
   "outputs": [],
   "source": [
    "# Definindo a EDO\n",
    "K = 1000\n",
    "r = 0.1\n",
    "def Model(t,P):\n",
    "    return r*P*(1 - P/K)\n",
    "\n",
    "# Definindo a condição inicial\n",
    "y0 = 3\n",
    "\n",
    "# Vetor de tempo\n",
    "t = np.linspace(0,98,100)\n",
    "\n",
    "# Resolver Numericamente\n",
    "sol = solve_ivp(Model, [0,98],[y0], t_eval=t)"
   ]
  },
  {
   "cell_type": "code",
   "execution_count": 6,
   "id": "9e876ecc-9de3-4e56-ae9b-f03539d928a7",
   "metadata": {},
   "outputs": [
    {
     "data": {
      "application/vnd.plotly.v1+json": {
       "config": {
        "plotlyServerURL": "https://plot.ly"
       },
       "data": [
        {
         "mode": "lines",
         "type": "scatter",
         "x": {
          "_inputArray": {
           "0": 0,
           "1": 0.98989898989899,
           "10": 9.8989898989899,
           "11": 10.88888888888889,
           "12": 11.878787878787879,
           "13": 12.868686868686869,
           "14": 13.85858585858586,
           "15": 14.84848484848485,
           "16": 15.83838383838384,
           "17": 16.82828282828283,
           "18": 17.81818181818182,
           "19": 18.80808080808081,
           "2": 1.97979797979798,
           "20": 19.7979797979798,
           "21": 20.78787878787879,
           "22": 21.77777777777778,
           "23": 22.767676767676768,
           "24": 23.757575757575758,
           "25": 24.747474747474747,
           "26": 25.737373737373737,
           "27": 26.72727272727273,
           "28": 27.71717171717172,
           "29": 28.70707070707071,
           "3": 2.9696969696969697,
           "30": 29.6969696969697,
           "31": 30.68686868686869,
           "32": 31.67676767676768,
           "33": 32.66666666666667,
           "34": 33.65656565656566,
           "35": 34.64646464646465,
           "36": 35.63636363636364,
           "37": 36.62626262626263,
           "38": 37.61616161616162,
           "39": 38.60606060606061,
           "4": 3.95959595959596,
           "40": 39.5959595959596,
           "41": 40.58585858585859,
           "42": 41.57575757575758,
           "43": 42.56565656565657,
           "44": 43.55555555555556,
           "45": 44.54545454545455,
           "46": 45.535353535353536,
           "47": 46.525252525252526,
           "48": 47.515151515151516,
           "49": 48.505050505050505,
           "5": 4.94949494949495,
           "50": 49.494949494949495,
           "51": 50.484848484848484,
           "52": 51.474747474747474,
           "53": 52.464646464646464,
           "54": 53.45454545454546,
           "55": 54.44444444444445,
           "56": 55.43434343434344,
           "57": 56.42424242424243,
           "58": 57.41414141414142,
           "59": 58.40404040404041,
           "6": 5.9393939393939394,
           "60": 59.3939393939394,
           "61": 60.38383838383839,
           "62": 61.37373737373738,
           "63": 62.36363636363637,
           "64": 63.35353535353536,
           "65": 64.34343434343435,
           "66": 65.33333333333334,
           "67": 66.32323232323233,
           "68": 67.31313131313132,
           "69": 68.30303030303031,
           "7": 6.92929292929293,
           "70": 69.2929292929293,
           "71": 70.28282828282829,
           "72": 71.27272727272728,
           "73": 72.26262626262627,
           "74": 73.25252525252526,
           "75": 74.24242424242425,
           "76": 75.23232323232324,
           "77": 76.22222222222223,
           "78": 77.21212121212122,
           "79": 78.20202020202021,
           "8": 7.91919191919192,
           "80": 79.1919191919192,
           "81": 80.18181818181819,
           "82": 81.17171717171718,
           "83": 82.16161616161617,
           "84": 83.15151515151516,
           "85": 84.14141414141415,
           "86": 85.13131313131314,
           "87": 86.12121212121212,
           "88": 87.11111111111111,
           "89": 88.1010101010101,
           "9": 8.90909090909091,
           "90": 89.0909090909091,
           "91": 90.08080808080808,
           "92": 91.07070707070707,
           "93": 92.06060606060606,
           "94": 93.05050505050505,
           "95": 94.04040404040404,
           "96": 95.03030303030303,
           "97": 96.02020202020202,
           "98": 97.01010101010101,
           "99": 98,
           "bdata": "AAAAAAAAAAADtX6lQK3vPwO1fqVArf8/wgcffPDBB0ADtX6lQK0PQCIxb2dIzBNAwgcffPDBF0Bj3s6QmLcbQAO1fqVArR9A0kUXXXTRIUAiMW9nSMwjQHIcx3EcxyVAwgcffPDBJ0AS83aGxLwpQGPezpCYtytAs8kmm2yyLUADtX6lQK0vQCpQ61cK1DBA0kUXXXTRMUB6O0Ni3s4yQCIxb2dIzDNAyiabbLLJNEByHMdxHMc1QBoS83aGxDZAwgcffPDBN0Bq/UqBWr84QBLzdobEvDlAu+iiiy66OkBj3s6QmLc7QAvU+pUCtTxAs8kmm2yyPUBbv1Kg1q8+QAO1fqVArT9AVlVVVVVVQEAqUOtXCtRAQP5KgVq/UkFA0kUXXXTRQUCmQK1fKVBCQHo7Q2LezkJATjbZZJNNQ0AiMW9nSMxDQPYrBWr9SkRAyiabbLLJRECeITFvZ0hFQHIcx3Ecx0VARhdddNFFRkAaEvN2hsRGQO4MiXk7Q0dAwgcffPDBR0CWArV+pUBIQGr9SoFav0hAPvjggw8+SUAS83aGxLxJQObtDIl5O0pAu+iiiy66SkCP4ziO4zhLQGPezpCYt0tAN9lkk002TEAL1PqVArVMQN/OkJi3M01As8kmm2yyTUCHxLydITFOQFu/UqDWr05AL7rooosuT0ADtX6lQK1PQOxXCtT6FVBAVlVVVVVVUEDAUqDWr5RQQCpQ61cK1FBAlE022WQTUUD+SoFav1JRQGhIzNsZklFA0kUXXXTRUUA8Q2LezhBSQKZArV8pUFJAED744IOPUkB6O0Ni3s5SQOQ4juM4DlNATjbZZJNNU0C4MyTm7YxTQCIxb2dIzFNAjC666KILVED2KwVq/UpUQGApUOtXilRAyiabbLLJVEA0JObtDAlVQJ4hMW9nSFVACB988MGHVUByHMdxHMdVQNwZEvN2BlZARhdddNFFVkCwFKj1K4VWQBoS83aGxFZAhA8++OADV0DuDIl5O0NXQFgK1PqVgldAwgcffPDBV0AsBWr9SgFYQJYCtX6lQFhAAAAAAACAWEA=",
           "dtype": "f8",
           "shape": "100"
          },
          "bdata": "AAAAAAAAAAADtX6lQK3vPwO1fqVArf8/wgcffPDBB0ADtX6lQK0PQCIxb2dIzBNAwgcffPDBF0Bj3s6QmLcbQAO1fqVArR9A0kUXXXTRIUAiMW9nSMwjQHIcx3EcxyVAwgcffPDBJ0AS83aGxLwpQGPezpCYtytAs8kmm2yyLUADtX6lQK0vQCpQ61cK1DBA0kUXXXTRMUB6O0Ni3s4yQCIxb2dIzDNAyiabbLLJNEByHMdxHMc1QBoS83aGxDZAwgcffPDBN0Bq/UqBWr84QBLzdobEvDlAu+iiiy66OkBj3s6QmLc7QAvU+pUCtTxAs8kmm2yyPUBbv1Kg1q8+QAO1fqVArT9AVlVVVVVVQEAqUOtXCtRAQP5KgVq/UkFA0kUXXXTRQUCmQK1fKVBCQHo7Q2LezkJATjbZZJNNQ0AiMW9nSMxDQPYrBWr9SkRAyiabbLLJRECeITFvZ0hFQHIcx3Ecx0VARhdddNFFRkAaEvN2hsRGQO4MiXk7Q0dAwgcffPDBR0CWArV+pUBIQGr9SoFav0hAPvjggw8+SUAS83aGxLxJQObtDIl5O0pAu+iiiy66SkCP4ziO4zhLQGPezpCYt0tAN9lkk002TEAL1PqVArVMQN/OkJi3M01As8kmm2yyTUCHxLydITFOQFu/UqDWr05AL7rooosuT0ADtX6lQK1PQOxXCtT6FVBAVlVVVVVVUEDAUqDWr5RQQCpQ61cK1FBAlE022WQTUUD+SoFav1JRQGhIzNsZklFA0kUXXXTRUUA8Q2LezhBSQKZArV8pUFJAED744IOPUkB6O0Ni3s5SQOQ4juM4DlNATjbZZJNNU0C4MyTm7YxTQCIxb2dIzFNAjC666KILVED2KwVq/UpUQGApUOtXilRAyiabbLLJVEA0JObtDAlVQJ4hMW9nSFVACB988MGHVUByHMdxHMdVQNwZEvN2BlZARhdddNFFVkCwFKj1K4VWQBoS83aGxFZAhA8++OADV0DuDIl5O0NXQFgK1PqVgldAwgcffPDBV0AsBWr9SgFYQJYCtX6lQFhAAAAAAACAWEA=",
          "dtype": "f8"
         },
         "y": {
          "_inputArray": {
           "0": 3,
           "1": 3.311131883205884,
           "10": 8.031946487991634,
           "11": 8.860622073387393,
           "12": 9.773732294108873,
           "13": 10.779865188599022,
           "14": 11.888024284086441,
           "15": 13.108137929821284,
           "16": 14.451337400961085,
           "17": 15.92995689857074,
           "18": 17.55753354962251,
           "19": 19.348807406996034,
           "2": 3.654419626956814,
           "20": 21.31972144947831,
           "21": 23.487421581763712,
           "22": 25.870256634453984,
           "23": 28.487778364058233,
           "24": 31.360741452992936,
           "25": 34.51016959825577,
           "26": 37.95794282800206,
           "27": 41.7342169381478,
           "28": 45.87067855479784,
           "29": 50.39987726351032,
           "3": 4.033244410741967,
           "30": 55.35522560929667,
           "31": 60.770999096621566,
           "32": 66.68233618940297,
           "33": 73.1252383110122,
           "34": 80.13656984427365,
           "35": 87.7540581314652,
           "36": 96.0162934743179,
           "37": 104.96272913401612,
           "38": 114.63368133119747,
           "39": 125.05978998677624,
           "4": 4.451106842072642,
           "40": 136.2579890400881,
           "41": 148.28551344936787,
           "42": 161.19202913748447,
           "43": 175.01590311590454,
           "44": 189.78420348469248,
           "45": 205.51269943251046,
           "46": 222.20586123661832,
           "47": 239.85686026287385,
           "48": 258.44756896573233,
           "49": 277.9485608882469,
           "5": 4.911908703468884,
           "50": 298.3191106620685,
           "51": 319.5071940074458,
           "52": 341.44948773322517,
           "53": 364.0713697368508,
           "54": 387.2927534153018,
           "55": 411.07340603996386,
           "56": 435.29306849076687,
           "57": 459.8137042856739,
           "58": 484.5037592477395,
           "59": 509.23816150510925,
           "6": 5.420057129427258,
           "60": 533.8983214910206,
           "61": 558.3721319438018,
           "62": 582.5539679068731,
           "63": 606.3446867287458,
           "64": 629.6516280630225,
           "65": 652.3886138683974,
           "66": 674.4759484086558,
           "67": 695.8404182526743,
           "68": 716.4152922744216,
           "69": 736.140321652957,
           "7": 5.980464606420853,
           "70": 754.9617398724317,
           "71": 772.832262722088,
           "72": 789.7399910761386,
           "73": 805.7079575739004,
           "74": 820.7442856817685,
           "75": 834.8617165794943,
           "76": 848.0776437268757,
           "77": 860.4141128637563,
           "78": 871.897822010026,
           "79": 882.5601214656207,
           "8": 6.598548972899273,
           "80": 892.4370138105226,
           "81": 901.5691539047597,
           "82": 910.0018488884066,
           "83": 917.7847898554402,
           "84": 924.9622475845541,
           "85": 931.5684637569879,
           "86": 937.6368682870523,
           "87": 943.2006220055354,
           "88": 948.2926166597016,
           "89": 952.9454749132923,
           "9": 7.280233419288651,
           "90": 957.1915503465258,
           "91": 961.0629274560971,
           "92": 964.5914216551781,
           "93": 967.8085792734176,
           "94": 970.7456775569412,
           "95": 973.4291873857392,
           "96": 975.8731710161712,
           "97": 978.0972804924828,
           "98": 980.1203919593524,
           "99": 981.9601009209797,
           "bdata": "AAAAAAAACEC25Xi2Mn0KQMsefVtAPA1Aa6Wj0goiEEC60Lbz7s0RQLNYKWXLpRNA6l3FdCOuFUAw2u3p/usXQIigngXqZBpAMl1sgvUeHUDRSkJKWxAgQELU1nSjuCFAAx2moyaMI0CypHB9So8lQABpdB6rxidAQRTQ2l03KkDTLSGyFecsQBIahE8j3C9ALQ3KhLqOMUCJpjVxS1kzQMxW0UPZUTVALAopqcd8N0BdG4gjyd45QJVT+QrffDxAi+pGjVlcP0AE9sU8TUFBQHLa3t6d+kJAzcEU0vrdREC3Fxdlcu9GQGyYnC0vM0lAwFBjCHitS0AanjAZsGJOQDyXaGWrq1BAPICM5wNIUkCcsXGPvQhUQEJ7CX1C8FVAWtXI8woBWEBcYKhanT1aQAxlJDyOqFxAQ3VhmdNDX0D0PDtyQQhhQE3zGe0iiWJA/ytKGiUmZEDdVkBHguBlQDsF6DEYuWdA7emjCGiwaUBG2U1qlsZrQCDJNmZr+21AZmgTPikncECQlC5OLV9xQDoWyBMbpXJAT6t2dx34c0B8ogwaMVd1QCzbl1QkwXZAN4g0Hq80eECUz8+rLLF5QE/1lWiwNHtAWvnI7gS9fECUYdtlD0h+QMQ5cILP039A0oktwy+vgEBoA1Ag+nKBQG7YuYZuNIJAoZod68HygkCzHsaINq2DQFB8luEbY4RAFA4Kvs4ThUCVcTQtub6FQGGHwYRSY4ZA+HL1YB8Bh0DUmqyksZeHQGKoW3moJohAx/pwgOutiEDdFqnlqS2JQJ0wDUz0pYlAy3qpy+QWikBenawDn4CKQH21ZxpQ44pAhlVOvS4/i0AHhfYge5SLQMLAGAF/44tAq/qPoI0sjEDsmVnJA3CMQMla5z9HroxAhZLcrrLnjEDL6bk2jByNQP6FZk4YTY1AD8W135p5jUB3PWdHV6KNQDu+JlWQx41A7U6MS4jpjUCpLxzggAiOQBfZRju7JI5Aa/xo+Hc+jkBkg8sl91WOQNjMy/lua45AKvIVQfx+jkAFrv46x5COQPZAD5D2oI5AvUNkSa6vjkA=",
           "dtype": "f8",
           "shape": "100"
          },
          "bdata": "AAAAAAAACEC25Xi2Mn0KQMsefVtAPA1Aa6Wj0goiEEC60Lbz7s0RQLNYKWXLpRNA6l3FdCOuFUAw2u3p/usXQIigngXqZBpAMl1sgvUeHUDRSkJKWxAgQELU1nSjuCFAAx2moyaMI0CypHB9So8lQABpdB6rxidAQRTQ2l03KkDTLSGyFecsQBIahE8j3C9ALQ3KhLqOMUCJpjVxS1kzQMxW0UPZUTVALAopqcd8N0BdG4gjyd45QJVT+QrffDxAi+pGjVlcP0AE9sU8TUFBQHLa3t6d+kJAzcEU0vrdREC3Fxdlcu9GQGyYnC0vM0lAwFBjCHitS0AanjAZsGJOQDyXaGWrq1BAPICM5wNIUkCcsXGPvQhUQEJ7CX1C8FVAWtXI8woBWEBcYKhanT1aQAxlJDyOqFxAQ3VhmdNDX0D0PDtyQQhhQE3zGe0iiWJA/ytKGiUmZEDdVkBHguBlQDsF6DEYuWdA7emjCGiwaUBG2U1qlsZrQCDJNmZr+21AZmgTPikncECQlC5OLV9xQDoWyBMbpXJAT6t2dx34c0B8ogwaMVd1QCzbl1QkwXZAN4g0Hq80eECUz8+rLLF5QE/1lWiwNHtAWvnI7gS9fECUYdtlD0h+QMQ5cILP039A0oktwy+vgEBoA1Ag+nKBQG7YuYZuNIJAoZod68HygkCzHsaINq2DQFB8luEbY4RAFA4Kvs4ThUCVcTQtub6FQGGHwYRSY4ZA+HL1YB8Bh0DUmqyksZeHQGKoW3moJohAx/pwgOutiEDdFqnlqS2JQJ0wDUz0pYlAy3qpy+QWikBenawDn4CKQH21ZxpQ44pAhlVOvS4/i0AHhfYge5SLQMLAGAF/44tAq/qPoI0sjEDsmVnJA3CMQMla5z9HroxAhZLcrrLnjEDL6bk2jByNQP6FZk4YTY1AD8W135p5jUB3PWdHV6KNQDu+JlWQx41A7U6MS4jpjUCpLxzggAiOQBfZRju7JI5Aa/xo+Hc+jkBkg8sl91WOQNjMy/lua45AKvIVQfx+jkAFrv46x5COQPZAD5D2oI5AvUNkSa6vjkA=",
          "dtype": "f8"
         }
        }
       ],
       "layout": {
        "autosize": true,
        "template": {
         "data": {
          "bar": [
           {
            "error_x": {
             "color": "#f2f5fa"
            },
            "error_y": {
             "color": "#f2f5fa"
            },
            "marker": {
             "line": {
              "color": "rgb(17,17,17)",
              "width": 0.5
             },
             "pattern": {
              "fillmode": "overlay",
              "size": 10,
              "solidity": 0.2
             }
            },
            "type": "bar"
           }
          ],
          "barpolar": [
           {
            "marker": {
             "line": {
              "color": "rgb(17,17,17)",
              "width": 0.5
             },
             "pattern": {
              "fillmode": "overlay",
              "size": 10,
              "solidity": 0.2
             }
            },
            "type": "barpolar"
           }
          ],
          "carpet": [
           {
            "aaxis": {
             "endlinecolor": "#A2B1C6",
             "gridcolor": "#506784",
             "linecolor": "#506784",
             "minorgridcolor": "#506784",
             "startlinecolor": "#A2B1C6"
            },
            "baxis": {
             "endlinecolor": "#A2B1C6",
             "gridcolor": "#506784",
             "linecolor": "#506784",
             "minorgridcolor": "#506784",
             "startlinecolor": "#A2B1C6"
            },
            "type": "carpet"
           }
          ],
          "choropleth": [
           {
            "colorbar": {
             "outlinewidth": 0,
             "ticks": ""
            },
            "type": "choropleth"
           }
          ],
          "contour": [
           {
            "colorbar": {
             "outlinewidth": 0,
             "ticks": ""
            },
            "colorscale": [
             [
              0,
              "#0d0887"
             ],
             [
              0.1111111111111111,
              "#46039f"
             ],
             [
              0.2222222222222222,
              "#7201a8"
             ],
             [
              0.3333333333333333,
              "#9c179e"
             ],
             [
              0.4444444444444444,
              "#bd3786"
             ],
             [
              0.5555555555555556,
              "#d8576b"
             ],
             [
              0.6666666666666666,
              "#ed7953"
             ],
             [
              0.7777777777777778,
              "#fb9f3a"
             ],
             [
              0.8888888888888888,
              "#fdca26"
             ],
             [
              1,
              "#f0f921"
             ]
            ],
            "type": "contour"
           }
          ],
          "contourcarpet": [
           {
            "colorbar": {
             "outlinewidth": 0,
             "ticks": ""
            },
            "type": "contourcarpet"
           }
          ],
          "heatmap": [
           {
            "colorbar": {
             "outlinewidth": 0,
             "ticks": ""
            },
            "colorscale": [
             [
              0,
              "#0d0887"
             ],
             [
              0.1111111111111111,
              "#46039f"
             ],
             [
              0.2222222222222222,
              "#7201a8"
             ],
             [
              0.3333333333333333,
              "#9c179e"
             ],
             [
              0.4444444444444444,
              "#bd3786"
             ],
             [
              0.5555555555555556,
              "#d8576b"
             ],
             [
              0.6666666666666666,
              "#ed7953"
             ],
             [
              0.7777777777777778,
              "#fb9f3a"
             ],
             [
              0.8888888888888888,
              "#fdca26"
             ],
             [
              1,
              "#f0f921"
             ]
            ],
            "type": "heatmap"
           }
          ],
          "histogram": [
           {
            "marker": {
             "pattern": {
              "fillmode": "overlay",
              "size": 10,
              "solidity": 0.2
             }
            },
            "type": "histogram"
           }
          ],
          "histogram2d": [
           {
            "colorbar": {
             "outlinewidth": 0,
             "ticks": ""
            },
            "colorscale": [
             [
              0,
              "#0d0887"
             ],
             [
              0.1111111111111111,
              "#46039f"
             ],
             [
              0.2222222222222222,
              "#7201a8"
             ],
             [
              0.3333333333333333,
              "#9c179e"
             ],
             [
              0.4444444444444444,
              "#bd3786"
             ],
             [
              0.5555555555555556,
              "#d8576b"
             ],
             [
              0.6666666666666666,
              "#ed7953"
             ],
             [
              0.7777777777777778,
              "#fb9f3a"
             ],
             [
              0.8888888888888888,
              "#fdca26"
             ],
             [
              1,
              "#f0f921"
             ]
            ],
            "type": "histogram2d"
           }
          ],
          "histogram2dcontour": [
           {
            "colorbar": {
             "outlinewidth": 0,
             "ticks": ""
            },
            "colorscale": [
             [
              0,
              "#0d0887"
             ],
             [
              0.1111111111111111,
              "#46039f"
             ],
             [
              0.2222222222222222,
              "#7201a8"
             ],
             [
              0.3333333333333333,
              "#9c179e"
             ],
             [
              0.4444444444444444,
              "#bd3786"
             ],
             [
              0.5555555555555556,
              "#d8576b"
             ],
             [
              0.6666666666666666,
              "#ed7953"
             ],
             [
              0.7777777777777778,
              "#fb9f3a"
             ],
             [
              0.8888888888888888,
              "#fdca26"
             ],
             [
              1,
              "#f0f921"
             ]
            ],
            "type": "histogram2dcontour"
           }
          ],
          "mesh3d": [
           {
            "colorbar": {
             "outlinewidth": 0,
             "ticks": ""
            },
            "type": "mesh3d"
           }
          ],
          "parcoords": [
           {
            "line": {
             "colorbar": {
              "outlinewidth": 0,
              "ticks": ""
             }
            },
            "type": "parcoords"
           }
          ],
          "pie": [
           {
            "automargin": true,
            "type": "pie"
           }
          ],
          "scatter": [
           {
            "marker": {
             "line": {
              "color": "#283442"
             }
            },
            "type": "scatter"
           }
          ],
          "scatter3d": [
           {
            "line": {
             "colorbar": {
              "outlinewidth": 0,
              "ticks": ""
             }
            },
            "marker": {
             "colorbar": {
              "outlinewidth": 0,
              "ticks": ""
             }
            },
            "type": "scatter3d"
           }
          ],
          "scattercarpet": [
           {
            "marker": {
             "colorbar": {
              "outlinewidth": 0,
              "ticks": ""
             }
            },
            "type": "scattercarpet"
           }
          ],
          "scattergeo": [
           {
            "marker": {
             "colorbar": {
              "outlinewidth": 0,
              "ticks": ""
             }
            },
            "type": "scattergeo"
           }
          ],
          "scattergl": [
           {
            "marker": {
             "line": {
              "color": "#283442"
             }
            },
            "type": "scattergl"
           }
          ],
          "scattermap": [
           {
            "marker": {
             "colorbar": {
              "outlinewidth": 0,
              "ticks": ""
             }
            },
            "type": "scattermap"
           }
          ],
          "scattermapbox": [
           {
            "marker": {
             "colorbar": {
              "outlinewidth": 0,
              "ticks": ""
             }
            },
            "type": "scattermapbox"
           }
          ],
          "scatterpolar": [
           {
            "marker": {
             "colorbar": {
              "outlinewidth": 0,
              "ticks": ""
             }
            },
            "type": "scatterpolar"
           }
          ],
          "scatterpolargl": [
           {
            "marker": {
             "colorbar": {
              "outlinewidth": 0,
              "ticks": ""
             }
            },
            "type": "scatterpolargl"
           }
          ],
          "scatterternary": [
           {
            "marker": {
             "colorbar": {
              "outlinewidth": 0,
              "ticks": ""
             }
            },
            "type": "scatterternary"
           }
          ],
          "surface": [
           {
            "colorbar": {
             "outlinewidth": 0,
             "ticks": ""
            },
            "colorscale": [
             [
              0,
              "#0d0887"
             ],
             [
              0.1111111111111111,
              "#46039f"
             ],
             [
              0.2222222222222222,
              "#7201a8"
             ],
             [
              0.3333333333333333,
              "#9c179e"
             ],
             [
              0.4444444444444444,
              "#bd3786"
             ],
             [
              0.5555555555555556,
              "#d8576b"
             ],
             [
              0.6666666666666666,
              "#ed7953"
             ],
             [
              0.7777777777777778,
              "#fb9f3a"
             ],
             [
              0.8888888888888888,
              "#fdca26"
             ],
             [
              1,
              "#f0f921"
             ]
            ],
            "type": "surface"
           }
          ],
          "table": [
           {
            "cells": {
             "fill": {
              "color": "#506784"
             },
             "line": {
              "color": "rgb(17,17,17)"
             }
            },
            "header": {
             "fill": {
              "color": "#2a3f5f"
             },
             "line": {
              "color": "rgb(17,17,17)"
             }
            },
            "type": "table"
           }
          ]
         },
         "layout": {
          "annotationdefaults": {
           "arrowcolor": "#f2f5fa",
           "arrowhead": 0,
           "arrowwidth": 1
          },
          "autotypenumbers": "strict",
          "coloraxis": {
           "colorbar": {
            "outlinewidth": 0,
            "ticks": ""
           }
          },
          "colorscale": {
           "diverging": [
            [
             0,
             "#8e0152"
            ],
            [
             0.1,
             "#c51b7d"
            ],
            [
             0.2,
             "#de77ae"
            ],
            [
             0.3,
             "#f1b6da"
            ],
            [
             0.4,
             "#fde0ef"
            ],
            [
             0.5,
             "#f7f7f7"
            ],
            [
             0.6,
             "#e6f5d0"
            ],
            [
             0.7,
             "#b8e186"
            ],
            [
             0.8,
             "#7fbc41"
            ],
            [
             0.9,
             "#4d9221"
            ],
            [
             1,
             "#276419"
            ]
           ],
           "sequential": [
            [
             0,
             "#0d0887"
            ],
            [
             0.1111111111111111,
             "#46039f"
            ],
            [
             0.2222222222222222,
             "#7201a8"
            ],
            [
             0.3333333333333333,
             "#9c179e"
            ],
            [
             0.4444444444444444,
             "#bd3786"
            ],
            [
             0.5555555555555556,
             "#d8576b"
            ],
            [
             0.6666666666666666,
             "#ed7953"
            ],
            [
             0.7777777777777778,
             "#fb9f3a"
            ],
            [
             0.8888888888888888,
             "#fdca26"
            ],
            [
             1,
             "#f0f921"
            ]
           ],
           "sequentialminus": [
            [
             0,
             "#0d0887"
            ],
            [
             0.1111111111111111,
             "#46039f"
            ],
            [
             0.2222222222222222,
             "#7201a8"
            ],
            [
             0.3333333333333333,
             "#9c179e"
            ],
            [
             0.4444444444444444,
             "#bd3786"
            ],
            [
             0.5555555555555556,
             "#d8576b"
            ],
            [
             0.6666666666666666,
             "#ed7953"
            ],
            [
             0.7777777777777778,
             "#fb9f3a"
            ],
            [
             0.8888888888888888,
             "#fdca26"
            ],
            [
             1,
             "#f0f921"
            ]
           ]
          },
          "colorway": [
           "#636efa",
           "#EF553B",
           "#00cc96",
           "#ab63fa",
           "#FFA15A",
           "#19d3f3",
           "#FF6692",
           "#B6E880",
           "#FF97FF",
           "#FECB52"
          ],
          "font": {
           "color": "#f2f5fa"
          },
          "geo": {
           "bgcolor": "rgb(17,17,17)",
           "lakecolor": "rgb(17,17,17)",
           "landcolor": "rgb(17,17,17)",
           "showlakes": true,
           "showland": true,
           "subunitcolor": "#506784"
          },
          "hoverlabel": {
           "align": "left"
          },
          "hovermode": "closest",
          "mapbox": {
           "style": "dark"
          },
          "paper_bgcolor": "rgb(17,17,17)",
          "plot_bgcolor": "rgb(17,17,17)",
          "polar": {
           "angularaxis": {
            "gridcolor": "#506784",
            "linecolor": "#506784",
            "ticks": ""
           },
           "bgcolor": "rgb(17,17,17)",
           "radialaxis": {
            "gridcolor": "#506784",
            "linecolor": "#506784",
            "ticks": ""
           }
          },
          "scene": {
           "xaxis": {
            "backgroundcolor": "rgb(17,17,17)",
            "gridcolor": "#506784",
            "gridwidth": 2,
            "linecolor": "#506784",
            "showbackground": true,
            "ticks": "",
            "zerolinecolor": "#C8D4E3"
           },
           "yaxis": {
            "backgroundcolor": "rgb(17,17,17)",
            "gridcolor": "#506784",
            "gridwidth": 2,
            "linecolor": "#506784",
            "showbackground": true,
            "ticks": "",
            "zerolinecolor": "#C8D4E3"
           },
           "zaxis": {
            "backgroundcolor": "rgb(17,17,17)",
            "gridcolor": "#506784",
            "gridwidth": 2,
            "linecolor": "#506784",
            "showbackground": true,
            "ticks": "",
            "zerolinecolor": "#C8D4E3"
           }
          },
          "shapedefaults": {
           "line": {
            "color": "#f2f5fa"
           }
          },
          "sliderdefaults": {
           "bgcolor": "#C8D4E3",
           "bordercolor": "rgb(17,17,17)",
           "borderwidth": 1,
           "tickwidth": 0
          },
          "ternary": {
           "aaxis": {
            "gridcolor": "#506784",
            "linecolor": "#506784",
            "ticks": ""
           },
           "baxis": {
            "gridcolor": "#506784",
            "linecolor": "#506784",
            "ticks": ""
           },
           "bgcolor": "rgb(17,17,17)",
           "caxis": {
            "gridcolor": "#506784",
            "linecolor": "#506784",
            "ticks": ""
           }
          },
          "title": {
           "x": 0.05
          },
          "updatemenudefaults": {
           "bgcolor": "#506784",
           "borderwidth": 0
          },
          "xaxis": {
           "automargin": true,
           "gridcolor": "#283442",
           "linecolor": "#506784",
           "ticks": "",
           "title": {
            "standoff": 15
           },
           "zerolinecolor": "#283442",
           "zerolinewidth": 2
          },
          "yaxis": {
           "automargin": true,
           "gridcolor": "#283442",
           "linecolor": "#506784",
           "ticks": "",
           "title": {
            "standoff": 15
           },
           "zerolinecolor": "#283442",
           "zerolinewidth": 2
          }
         }
        },
        "xaxis": {
         "autorange": true,
         "range": [
          0,
          98
         ],
         "type": "linear"
        },
        "yaxis": {
         "autorange": true,
         "range": [
          -51.38667227338776,
          1036.3467731943674
         ],
         "type": "linear"
        }
       }
      },
      "image/png": "[encoded data removed]"
     },
     "metadata": {},
     "output_type": "display_data"
    }
   ],
   "source": [
    "# Visualizando Graficamente\n",
    "\n",
    "fig = go.Figure(\n",
    "    data =[ go.Scatter(\n",
    "        x = sol.t,\n",
    "        y = sol.y[0],\n",
    "        mode=\"lines\"\n",
    "    )]\n",
    ")\n",
    "\n",
    "fig.update_layout(height=500, template=\"plotly_dark\")\n",
    "fig.show()"
   ]
  },
  {
   "cell_type": "code",
   "execution_count": 4,
   "id": "d2215e1a-0a61-4f9f-b838-3148642b0c6c",
   "metadata": {},
   "outputs": [
    {
     "data": {
      "application/vnd.plotly.v1+json": {
       "config": {
        "plotlyServerURL": "https://plot.ly"
       },
       "data": [
        {
         "type": "scatter",
         "x": {
          "_inputArray": {
           "0": 0,
           "1": 0.98989898989899,
           "10": 9.8989898989899,
           "11": 10.88888888888889,
           "12": 11.878787878787879,
           "13": 12.868686868686869,
           "14": 13.85858585858586,
           "15": 14.84848484848485,
           "16": 15.83838383838384,
           "17": 16.82828282828283,
           "18": 17.81818181818182,
           "19": 18.80808080808081,
           "2": 1.97979797979798,
           "20": 19.7979797979798,
           "21": 20.78787878787879,
           "22": 21.77777777777778,
           "23": 22.767676767676768,
           "24": 23.757575757575758,
           "25": 24.747474747474747,
           "26": 25.737373737373737,
           "27": 26.72727272727273,
           "28": 27.71717171717172,
           "29": 28.70707070707071,
           "3": 2.9696969696969697,
           "30": 29.6969696969697,
           "31": 30.68686868686869,
           "32": 31.67676767676768,
           "33": 32.66666666666667,
           "34": 33.65656565656566,
           "35": 34.64646464646465,
           "36": 35.63636363636364,
           "37": 36.62626262626263,
           "38": 37.61616161616162,
           "39": 38.60606060606061,
           "4": 3.95959595959596,
           "40": 39.5959595959596,
           "41": 40.58585858585859,
           "42": 41.57575757575758,
           "43": 42.56565656565657,
           "44": 43.55555555555556,
           "45": 44.54545454545455,
           "46": 45.535353535353536,
           "47": 46.525252525252526,
           "48": 47.515151515151516,
           "49": 48.505050505050505,
           "5": 4.94949494949495,
           "50": 49.494949494949495,
           "51": 50.484848484848484,
           "52": 51.474747474747474,
           "53": 52.464646464646464,
           "54": 53.45454545454546,
           "55": 54.44444444444445,
           "56": 55.43434343434344,
           "57": 56.42424242424243,
           "58": 57.41414141414142,
           "59": 58.40404040404041,
           "6": 5.9393939393939394,
           "60": 59.3939393939394,
           "61": 60.38383838383839,
           "62": 61.37373737373738,
           "63": 62.36363636363637,
           "64": 63.35353535353536,
           "65": 64.34343434343435,
           "66": 65.33333333333334,
           "67": 66.32323232323233,
           "68": 67.31313131313132,
           "69": 68.30303030303031,
           "7": 6.92929292929293,
           "70": 69.2929292929293,
           "71": 70.28282828282829,
           "72": 71.27272727272728,
           "73": 72.26262626262627,
           "74": 73.25252525252526,
           "75": 74.24242424242425,
           "76": 75.23232323232324,
           "77": 76.22222222222223,
           "78": 77.21212121212122,
           "79": 78.20202020202021,
           "8": 7.91919191919192,
           "80": 79.1919191919192,
           "81": 80.18181818181819,
           "82": 81.17171717171718,
           "83": 82.16161616161617,
           "84": 83.15151515151516,
           "85": 84.14141414141415,
           "86": 85.13131313131314,
           "87": 86.12121212121212,
           "88": 87.11111111111111,
           "89": 88.1010101010101,
           "9": 8.90909090909091,
           "90": 89.0909090909091,
           "91": 90.08080808080808,
           "92": 91.07070707070707,
           "93": 92.06060606060606,
           "94": 93.05050505050505,
           "95": 94.04040404040404,
           "96": 95.03030303030303,
           "97": 96.02020202020202,
           "98": 97.01010101010101,
           "99": 98,
           "bdata": "AAAAAAAAAAADtX6lQK3vPwO1fqVArf8/wgcffPDBB0ADtX6lQK0PQCIxb2dIzBNAwgcffPDBF0Bj3s6QmLcbQAO1fqVArR9A0kUXXXTRIUAiMW9nSMwjQHIcx3EcxyVAwgcffPDBJ0AS83aGxLwpQGPezpCYtytAs8kmm2yyLUADtX6lQK0vQCpQ61cK1DBA0kUXXXTRMUB6O0Ni3s4yQCIxb2dIzDNAyiabbLLJNEByHMdxHMc1QBoS83aGxDZAwgcffPDBN0Bq/UqBWr84QBLzdobEvDlAu+iiiy66OkBj3s6QmLc7QAvU+pUCtTxAs8kmm2yyPUBbv1Kg1q8+QAO1fqVArT9AVlVVVVVVQEAqUOtXCtRAQP5KgVq/UkFA0kUXXXTRQUCmQK1fKVBCQHo7Q2LezkJATjbZZJNNQ0AiMW9nSMxDQPYrBWr9SkRAyiabbLLJRECeITFvZ0hFQHIcx3Ecx0VARhdddNFFRkAaEvN2hsRGQO4MiXk7Q0dAwgcffPDBR0CWArV+pUBIQGr9SoFav0hAPvjggw8+SUAS83aGxLxJQObtDIl5O0pAu+iiiy66SkCP4ziO4zhLQGPezpCYt0tAN9lkk002TEAL1PqVArVMQN/OkJi3M01As8kmm2yyTUCHxLydITFOQFu/UqDWr05AL7rooosuT0ADtX6lQK1PQOxXCtT6FVBAVlVVVVVVUEDAUqDWr5RQQCpQ61cK1FBAlE022WQTUUD+SoFav1JRQGhIzNsZklFA0kUXXXTRUUA8Q2LezhBSQKZArV8pUFJAED744IOPUkB6O0Ni3s5SQOQ4juM4DlNATjbZZJNNU0C4MyTm7YxTQCIxb2dIzFNAjC666KILVED2KwVq/UpUQGApUOtXilRAyiabbLLJVEA0JObtDAlVQJ4hMW9nSFVACB988MGHVUByHMdxHMdVQNwZEvN2BlZARhdddNFFVkCwFKj1K4VWQBoS83aGxFZAhA8++OADV0DuDIl5O0NXQFgK1PqVgldAwgcffPDBV0AsBWr9SgFYQJYCtX6lQFhAAAAAAACAWEA=",
           "dtype": "f8",
           "shape": "100"
          },
          "bdata": "AAAAAAAAAAADtX6lQK3vPwO1fqVArf8/wgcffPDBB0ADtX6lQK0PQCIxb2dIzBNAwgcffPDBF0Bj3s6QmLcbQAO1fqVArR9A0kUXXXTRIUAiMW9nSMwjQHIcx3EcxyVAwgcffPDBJ0AS83aGxLwpQGPezpCYtytAs8kmm2yyLUADtX6lQK0vQCpQ61cK1DBA0kUXXXTRMUB6O0Ni3s4yQCIxb2dIzDNAyiabbLLJNEByHMdxHMc1QBoS83aGxDZAwgcffPDBN0Bq/UqBWr84QBLzdobEvDlAu+iiiy66OkBj3s6QmLc7QAvU+pUCtTxAs8kmm2yyPUBbv1Kg1q8+QAO1fqVArT9AVlVVVVVVQEAqUOtXCtRAQP5KgVq/UkFA0kUXXXTRQUCmQK1fKVBCQHo7Q2LezkJATjbZZJNNQ0AiMW9nSMxDQPYrBWr9SkRAyiabbLLJRECeITFvZ0hFQHIcx3Ecx0VARhdddNFFRkAaEvN2hsRGQO4MiXk7Q0dAwgcffPDBR0CWArV+pUBIQGr9SoFav0hAPvjggw8+SUAS83aGxLxJQObtDIl5O0pAu+iiiy66SkCP4ziO4zhLQGPezpCYt0tAN9lkk002TEAL1PqVArVMQN/OkJi3M01As8kmm2yyTUCHxLydITFOQFu/UqDWr05AL7rooosuT0ADtX6lQK1PQOxXCtT6FVBAVlVVVVVVUEDAUqDWr5RQQCpQ61cK1FBAlE022WQTUUD+SoFav1JRQGhIzNsZklFA0kUXXXTRUUA8Q2LezhBSQKZArV8pUFJAED744IOPUkB6O0Ni3s5SQOQ4juM4DlNATjbZZJNNU0C4MyTm7YxTQCIxb2dIzFNAjC666KILVED2KwVq/UpUQGApUOtXilRAyiabbLLJVEA0JObtDAlVQJ4hMW9nSFVACB988MGHVUByHMdxHMdVQNwZEvN2BlZARhdddNFFVkCwFKj1K4VWQBoS83aGxFZAhA8++OADV0DuDIl5O0NXQFgK1PqVgldAwgcffPDBV0AsBWr9SgFYQJYCtX6lQFhAAAAAAACAWEA=",
          "dtype": "f8"
         },
         "y": {
          "_inputArray": {
           "0": 1,
           "1": 1.1039402977653305,
           "10": 2.6863409724054446,
           "11": 2.965151791015052,
           "12": 3.272737137985419,
           "13": 3.612228458125164,
           "14": 3.9866986943214773,
           "15": 4.399555463667856,
           "16": 4.854712266595602,
           "17": 5.356588486873811,
           "18": 5.910109391609385,
           "19": 6.520706131247021,
           "2": 1.2186735916920977,
           "20": 7.194315739569223,
           "21": 7.9373811336962845,
           "22": 8.756851114086313,
           "23": 9.6601803645352,
           "24": 10.655329452176652,
           "25": 11.751094256712882,
           "26": 12.957725769144696,
           "27": 14.285892428703995,
           "28": 15.747534361084224,
           "29": 17.355923906099655,
           "3": 1.3453519566570473,
           "30": 19.125665617685364,
           "31": 21.072696263897235,
           "32": 23.21428482691198,
           "33": 25.569032503027124,
           "34": 28.156872702660976,
           "35": 30.999071050352686,
           "36": 34.11822538476221,
           "37": 37.53826575867031,
           "38": 41.284454392714636,
           "39": 45.37850283103415,
           "4": 1.4851585202583688,
           "40": 49.850618434419005,
           "41": 54.73956115301971,
           "42": 60.08390512198322,
           "43": 65.922038661453,
           "44": 72.29216427656898,
           "45": 79.23229865746757,
           "46": 86.78027267928164,
           "47": 94.97373140214054,
           "48": 103.85013407117017,
           "49": 113.44675411649283,
           "5": 1.6394155357571685,
           "50": 123.80067915322726,
           "51": 134.94881098148883,
           "52": 146.9278655863893,
           "53": 159.76656286462983,
           "54": 173.47301293838592,
           "55": 188.0866551240257,
           "56": 203.6385635720488,
           "57": 220.14674382456724,
           "58": 237.6161328153055,
           "59": 256.0385988696007,
           "6": 1.8096253237938869,
           "60": 275.39294170440235,
           "61": 295.6448924282726,
           "62": 316.74711354138606,
           "63": 338.63919893552975,
           "64": 361.2476738941035,
           "65": 384.4859950921194,
           "66": 408.25455059620197,
           "67": 432.4406598645886,
           "68": 456.9185737471288,
           "69": 481.574484419931,
           "7": 1.997470272388298,
           "70": 506.32569895267136,
           "71": 531.0390814422267,
           "72": 555.5880638299417,
           "73": 579.85544293759,
           "74": 603.7333804673749,
           "75": 627.1234030019291,
           "76": 649.9364020043141,
           "77": 672.0926338180213,
           "78": 693.5217196669715,
           "79": 714.1626456555143,
           "8": 2.204812836939511,
           "80": 733.9637627684291,
           "81": 752.8827868709245,
           "82": 770.8867987086383,
           "83": 787.952243907638,
           "84": 804.0649329744201,
           "85": 819.2200412959106,
           "86": 833.4258036221186,
           "87": 846.7300566864727,
           "88": 859.165015595633,
           "89": 870.7579530149203,
           "9": 2.433695540225968,
           "90": 881.5381341948076,
           "91": 891.5368169709197,
           "92": 900.7872517640335,
           "93": 909.3246815800774,
           "94": 917.1863420101319,
           "95": 924.4114612304295,
           "96": 931.0412600023543,
           "97": 937.1189516724427,
           "98": 942.6897421723826,
           "99": 947.800830019014,
           "bdata": "AAAAAAAA8D+xNzpNvanxPwsQTeGvf/M/3jn3xY+G9T/LKp6UNcP3Pwoa6sgLO/o/mlT7rjn0/D8+PWpjo/X/P0Kmo+l0owFAXogNXjV4A0D8FvNVoH0FQA6vkIChuAdAhmoAz5AuCkDrn6oI2OUMQOTu+EjC5A9A9ZBFESWZEUCUEkKxOWsTQDgDRYglbRVApPpit/OjF0BsIfL8MxUaQAQxirT6xhxAqHME1+C/H0A+4j39gYMhQLRHJikDUiNAnGiKV4dPJUAslyltj4AnQJ0GMghb6ilAVOoOfmCSLEBq/OLSvH4vQAaQQNQdWzFAtjA2nysgM0Di+us4nBI1QLGd017bNjdAztw2HayROUBkkDfPKCg8QCmlzx7D/z5ALI5oAiIPQUDXBXPk5cRCQNr0ZABppERAF17gx3KwRkAompoQ4exIQEzOmvCpXktAQnEtZ70KTkCmJXKuAntQQBc7y9GyElJAli4w+93OU0CG3tH877FVQArSg51RvldACjm8mGj2WUAq7JOel1xcQM5sxlM+815AkfLYqFzeYEAHlCsTsV1iQDk92K6H+GNAep4H7CKvZUAUd/fgxYJnQLtL3xxvdGlAAO0aILKEa0BYdypct7NtQJAp2RmeAHBASJo9fUk2cUDnDbl6UXpyQG4qVC30y3NA0LupKDoqdUD2s+Z49pN2QLYqyqLGB3hA1l2loxKEeUAWsVvxDAd7QB6uYnqyjnxApTqTFjEZfkAK4RoQNqV/QPRh7glQmIBAeyzPWrRcgUBZhHfy1x6CQDQXlPbd3YJAHIy2uvyYg0CBg1XAfU+EQD6XzLa9AIVAlVpceyyshUAqWioZTVGGQAscQcm174ZArB+Q8g+Hh0Dk3espGBeIQPfIDTKen4hAiEyU+4QgiUClzQKlwpmJQCS8ugtoC4pAA8X1J9d1ikCXVLLzUdmKQOaXq0kQNotAd/xMGU6Mi0BOMLJmS9yLQPAhp0pMJoxAXgCo8phqjEAZO+GgfamMQCKCL6xK44xA9cUfgFQYjUCRN++c80iNQHFIi5eEdY1AkKqRGWiejUA=",
           "dtype": "f8",
           "shape": "100"
          },
          "bdata": "AAAAAAAA8D+xNzpNvanxPwsQTeGvf/M/3jn3xY+G9T/LKp6UNcP3Pwoa6sgLO/o/mlT7rjn0/D8+PWpjo/X/P0Kmo+l0owFAXogNXjV4A0D8FvNVoH0FQA6vkIChuAdAhmoAz5AuCkDrn6oI2OUMQOTu+EjC5A9A9ZBFESWZEUCUEkKxOWsTQDgDRYglbRVApPpit/OjF0BsIfL8MxUaQAQxirT6xhxAqHME1+C/H0A+4j39gYMhQLRHJikDUiNAnGiKV4dPJUAslyltj4AnQJ0GMghb6ilAVOoOfmCSLEBq/OLSvH4vQAaQQNQdWzFAtjA2nysgM0Di+us4nBI1QLGd017bNjdAztw2HayROUBkkDfPKCg8QCmlzx7D/z5ALI5oAiIPQUDXBXPk5cRCQNr0ZABppERAF17gx3KwRkAompoQ4exIQEzOmvCpXktAQnEtZ70KTkCmJXKuAntQQBc7y9GyElJAli4w+93OU0CG3tH877FVQArSg51RvldACjm8mGj2WUAq7JOel1xcQM5sxlM+815AkfLYqFzeYEAHlCsTsV1iQDk92K6H+GNAep4H7CKvZUAUd/fgxYJnQLtL3xxvdGlAAO0aILKEa0BYdypct7NtQJAp2RmeAHBASJo9fUk2cUDnDbl6UXpyQG4qVC30y3NA0LupKDoqdUD2s+Z49pN2QLYqyqLGB3hA1l2loxKEeUAWsVvxDAd7QB6uYnqyjnxApTqTFjEZfkAK4RoQNqV/QPRh7glQmIBAeyzPWrRcgUBZhHfy1x6CQDQXlPbd3YJAHIy2uvyYg0CBg1XAfU+EQD6XzLa9AIVAlVpceyyshUAqWioZTVGGQAscQcm174ZArB+Q8g+Hh0Dk3espGBeIQPfIDTKen4hAiEyU+4QgiUClzQKlwpmJQCS8ugtoC4pAA8X1J9d1ikCXVLLzUdmKQOaXq0kQNotAd/xMGU6Mi0BOMLJmS9yLQPAhp0pMJoxAXgCo8phqjEAZO+GgfamMQCKCL6xK44xA9cUfgFQYjUCRN++c80iNQHFIi5eEdY1AkKqRGWiejUA=",
          "dtype": "f8"
         }
        },
        {
         "type": "scatter",
         "x": {
          "_inputArray": {
           "0": 0,
           "1": 0.98989898989899,
           "10": 9.8989898989899,
           "11": 10.88888888888889,
           "12": 11.878787878787879,
           "13": 12.868686868686869,
           "14": 13.85858585858586,
           "15": 14.84848484848485,
           "16": 15.83838383838384,
           "17": 16.82828282828283,
           "18": 17.81818181818182,
           "19": 18.80808080808081,
           "2": 1.97979797979798,
           "20": 19.7979797979798,
           "21": 20.78787878787879,
           "22": 21.77777777777778,
           "23": 22.767676767676768,
           "24": 23.757575757575758,
           "25": 24.747474747474747,
           "26": 25.737373737373737,
           "27": 26.72727272727273,
           "28": 27.71717171717172,
           "29": 28.70707070707071,
           "3": 2.9696969696969697,
           "30": 29.6969696969697,
           "31": 30.68686868686869,
           "32": 31.67676767676768,
           "33": 32.66666666666667,
           "34": 33.65656565656566,
           "35": 34.64646464646465,
           "36": 35.63636363636364,
           "37": 36.62626262626263,
           "38": 37.61616161616162,
           "39": 38.60606060606061,
           "4": 3.95959595959596,
           "40": 39.5959595959596,
           "41": 40.58585858585859,
           "42": 41.57575757575758,
           "43": 42.56565656565657,
           "44": 43.55555555555556,
           "45": 44.54545454545455,
           "46": 45.535353535353536,
           "47": 46.525252525252526,
           "48": 47.515151515151516,
           "49": 48.505050505050505,
           "5": 4.94949494949495,
           "50": 49.494949494949495,
           "51": 50.484848484848484,
           "52": 51.474747474747474,
           "53": 52.464646464646464,
           "54": 53.45454545454546,
           "55": 54.44444444444445,
           "56": 55.43434343434344,
           "57": 56.42424242424243,
           "58": 57.41414141414142,
           "59": 58.40404040404041,
           "6": 5.9393939393939394,
           "60": 59.3939393939394,
           "61": 60.38383838383839,
           "62": 61.37373737373738,
           "63": 62.36363636363637,
           "64": 63.35353535353536,
           "65": 64.34343434343435,
           "66": 65.33333333333334,
           "67": 66.32323232323233,
           "68": 67.31313131313132,
           "69": 68.30303030303031,
           "7": 6.92929292929293,
           "70": 69.2929292929293,
           "71": 70.28282828282829,
           "72": 71.27272727272728,
           "73": 72.26262626262627,
           "74": 73.25252525252526,
           "75": 74.24242424242425,
           "76": 75.23232323232324,
           "77": 76.22222222222223,
           "78": 77.21212121212122,
           "79": 78.20202020202021,
           "8": 7.91919191919192,
           "80": 79.1919191919192,
           "81": 80.18181818181819,
           "82": 81.17171717171718,
           "83": 82.16161616161617,
           "84": 83.15151515151516,
           "85": 84.14141414141415,
           "86": 85.13131313131314,
           "87": 86.12121212121212,
           "88": 87.11111111111111,
           "89": 88.1010101010101,
           "9": 8.90909090909091,
           "90": 89.0909090909091,
           "91": 90.08080808080808,
           "92": 91.07070707070707,
           "93": 92.06060606060606,
           "94": 93.05050505050505,
           "95": 94.04040404040404,
           "96": 95.03030303030303,
           "97": 96.02020202020202,
           "98": 97.01010101010101,
           "99": 98,
           "bdata": "AAAAAAAAAAADtX6lQK3vPwO1fqVArf8/wgcffPDBB0ADtX6lQK0PQCIxb2dIzBNAwgcffPDBF0Bj3s6QmLcbQAO1fqVArR9A0kUXXXTRIUAiMW9nSMwjQHIcx3EcxyVAwgcffPDBJ0AS83aGxLwpQGPezpCYtytAs8kmm2yyLUADtX6lQK0vQCpQ61cK1DBA0kUXXXTRMUB6O0Ni3s4yQCIxb2dIzDNAyiabbLLJNEByHMdxHMc1QBoS83aGxDZAwgcffPDBN0Bq/UqBWr84QBLzdobEvDlAu+iiiy66OkBj3s6QmLc7QAvU+pUCtTxAs8kmm2yyPUBbv1Kg1q8+QAO1fqVArT9AVlVVVVVVQEAqUOtXCtRAQP5KgVq/UkFA0kUXXXTRQUCmQK1fKVBCQHo7Q2LezkJATjbZZJNNQ0AiMW9nSMxDQPYrBWr9SkRAyiabbLLJRECeITFvZ0hFQHIcx3Ecx0VARhdddNFFRkAaEvN2hsRGQO4MiXk7Q0dAwgcffPDBR0CWArV+pUBIQGr9SoFav0hAPvjggw8+SUAS83aGxLxJQObtDIl5O0pAu+iiiy66SkCP4ziO4zhLQGPezpCYt0tAN9lkk002TEAL1PqVArVMQN/OkJi3M01As8kmm2yyTUCHxLydITFOQFu/UqDWr05AL7rooosuT0ADtX6lQK1PQOxXCtT6FVBAVlVVVVVVUEDAUqDWr5RQQCpQ61cK1FBAlE022WQTUUD+SoFav1JRQGhIzNsZklFA0kUXXXTRUUA8Q2LezhBSQKZArV8pUFJAED744IOPUkB6O0Ni3s5SQOQ4juM4DlNATjbZZJNNU0C4MyTm7YxTQCIxb2dIzFNAjC666KILVED2KwVq/UpUQGApUOtXilRAyiabbLLJVEA0JObtDAlVQJ4hMW9nSFVACB988MGHVUByHMdxHMdVQNwZEvN2BlZARhdddNFFVkCwFKj1K4VWQBoS83aGxFZAhA8++OADV0DuDIl5O0NXQFgK1PqVgldAwgcffPDBV0AsBWr9SgFYQJYCtX6lQFhAAAAAAACAWEA=",
           "dtype": "f8",
           "shape": "100"
          },
          "bdata": "AAAAAAAAAAADtX6lQK3vPwO1fqVArf8/wgcffPDBB0ADtX6lQK0PQCIxb2dIzBNAwgcffPDBF0Bj3s6QmLcbQAO1fqVArR9A0kUXXXTRIUAiMW9nSMwjQHIcx3EcxyVAwgcffPDBJ0AS83aGxLwpQGPezpCYtytAs8kmm2yyLUADtX6lQK0vQCpQ61cK1DBA0kUXXXTRMUB6O0Ni3s4yQCIxb2dIzDNAyiabbLLJNEByHMdxHMc1QBoS83aGxDZAwgcffPDBN0Bq/UqBWr84QBLzdobEvDlAu+iiiy66OkBj3s6QmLc7QAvU+pUCtTxAs8kmm2yyPUBbv1Kg1q8+QAO1fqVArT9AVlVVVVVVQEAqUOtXCtRAQP5KgVq/UkFA0kUXXXTRQUCmQK1fKVBCQHo7Q2LezkJATjbZZJNNQ0AiMW9nSMxDQPYrBWr9SkRAyiabbLLJRECeITFvZ0hFQHIcx3Ecx0VARhdddNFFRkAaEvN2hsRGQO4MiXk7Q0dAwgcffPDBR0CWArV+pUBIQGr9SoFav0hAPvjggw8+SUAS83aGxLxJQObtDIl5O0pAu+iiiy66SkCP4ziO4zhLQGPezpCYt0tAN9lkk002TEAL1PqVArVMQN/OkJi3M01As8kmm2yyTUCHxLydITFOQFu/UqDWr05AL7rooosuT0ADtX6lQK1PQOxXCtT6FVBAVlVVVVVVUEDAUqDWr5RQQCpQ61cK1FBAlE022WQTUUD+SoFav1JRQGhIzNsZklFA0kUXXXTRUUA8Q2LezhBSQKZArV8pUFJAED744IOPUkB6O0Ni3s5SQOQ4juM4DlNATjbZZJNNU0C4MyTm7YxTQCIxb2dIzFNAjC666KILVED2KwVq/UpUQGApUOtXilRAyiabbLLJVEA0JObtDAlVQJ4hMW9nSFVACB988MGHVUByHMdxHMdVQNwZEvN2BlZARhdddNFFVkCwFKj1K4VWQBoS83aGxFZAhA8++OADV0DuDIl5O0NXQFgK1PqVgldAwgcffPDBV0AsBWr9SgFYQJYCtX6lQFhAAAAAAACAWEA=",
          "dtype": "f8"
         },
         "y": {
          "_inputArray": {
           "0": 2,
           "1": 2.2076509015972725,
           "10": 5.363641312509335,
           "11": 5.91866963481628,
           "12": 6.530612735822978,
           "13": 7.205460178546757,
           "14": 7.949290411895721,
           "15": 8.768820703041337,
           "16": 9.671672411538202,
           "17": 10.666370989324033,
           "18": 11.762345980719665,
           "19": 12.969931022429071,
           "2": 2.436813348667686,
           "20": 14.300363843539332,
           "21": 15.765786265520662,
           "22": 17.379244202226392,
           "23": 19.15468765989298,
           "24": 21.106970737140006,
           "25": 23.251684763587836,
           "26": 25.60628548709635,
           "27": 28.191666124979253,
           "28": 31.030337666182294,
           "29": 34.14631562486577,
           "3": 2.6897663851085465,
           "30": 37.565120040404466,
           "31": 41.31377547738771,
           "32": 45.42081102561929,
           "33": 49.91626030011756,
           "34": 54.831661441115315,
           "35": 60.20005711405995,
           "36": 66.0559945096133,
           "37": 72.43552534365175,
           "38": 79.37620585726617,
           "39": 86.9049673719515,
           "4": 2.968860004318022,
           "40": 95.05255547108548,
           "41": 103.87852106096196,
           "42": 113.43667808030328,
           "43": 123.77443359303206,
           "44": 134.93278778827118,
           "45": 146.94633398034387,
           "46": 159.8432586087736,
           "47": 173.64534123828406,
           "48": 188.36795455879943,
           "49": 204.0200643854439,
           "5": 3.276717019398356,
           "50": 220.60422965854227,
           "51": 238.11660244361926,
           "52": 256.5469279314002,
           "53": 275.87854443781055,
           "54": 296.1118814331369,
           "55": 317.2109239173943,
           "56": 339.0892873655734,
           "57": 361.6578431644593,
           "58": 384.82477650851405,
           "59": 408.4955863998766,
           "6": 3.6163086694670454,
           "60": 432.5730856483625,
           "61": 456.9574008714644,
           "62": 481.5459724943515,
           "63": 506.23355474987005,
           "64": 530.9122156785429,
           "65": 555.4713371285701,
           "66": 579.7976147558279,
           "67": 603.7750580238699,
           "68": 627.284990203926,
           "69": 650.2060483749037,
           "7": 3.990954619656847,
           "70": 672.4141834233867,
           "71": 693.8341436469848,
           "72": 714.4530978224349,
           "73": 734.2314667104228,
           "74": 753.1365056657545,
           "75": 771.1424131094107,
           "76": 788.2303305285467,
           "77": 804.3883424764921,
           "78": 819.6114765727515,
           "79": 833.9017035030038,
           "8": 4.404322961115773,
           "80": 847.2679370191024,
           "81": 859.7260339390757,
           "82": 871.2987941471264,
           "83": 882.0159605936317,
           "84": 891.9142192951434,
           "85": 901.0371993343882,
           "86": 909.435472860267,
           "87": 917.1665550878557,
           "88": 924.2949042984043,
           "89": 930.8919218393376,
           "9": 4.860430211007094,
           "90": 936.9968240805573,
           "91": 942.6010917948877,
           "92": 947.7367319414348,
           "93": 952.4356616987109,
           "94": 956.7290606936207,
           "95": 960.6473710014617,
           "96": 964.2202971459243,
           "97": 967.4768060990913,
           "98": 970.4451272814385,
           "99": 973.1527525618343,
           "bdata": "AAAAAAAAAED4wjrgRKkBQCXfN/+XfgNA7F4PPaSEBUArloesOcAHQBOApGm3NgpAYNFcPTPuDEBg+Jmdee0PQHcOnNYGnhFAOhADnhRxE0D2zmJjXnQVQO10lbu3rBdAmc3s8VgfGkBf9C0nZNIcQHT+JckSzB9AvRkA3qKJIUAzXUJy5VcjQL5MDJQuVSVAJNteNlKGJ0DbaonMmvApQPnNKUrJmSxAQUYsIxWIL0CNwuUlFmExQMpVSJyZJzNANaUpb2IbNUDhgqRpbkA3QEYek4Y1mzlAdYn6BxExPEAFF5Q1xAc/QJ3Ya3i6EkFA+ux92lXIQkBg1XrLKahEQGBqvCLdtUZAZNB7BEj1SECed9Hhc2pLQB0ctXibGU5A3OL+aZWDUEAP5LCl3xtSQGZhu8ET2FNApJ5E/Oq5VUBvYp8RXcNXQHJrZrA5+FlAF3KeiPJbXEDGv+pRkPFeQHSXxmXZ3WBAdBUzXkheYkAZWHr5+/pjQBYmq6KmtGVApY6jSMaLZ0B46RBepIBpQMvWb9lVk2tATz8MNbvDbUAgqoA3wAhwQKrHnIQOPnFApIUvRMqBckBy8sHxX9NzQFexlrhtMXVA/9ONhoaadkA7KdpIMg14QP88Aezth3lAYljbWysJe0CggZODUY98QBV8p028GH5AR8jno7yjf0Ds0bs3TJeAQMuEZkzFW4FAtFjYg2EegkAwCJ9RM96CQFes8ahHmoNA2Lyw/KVRhEDuD2Y/UAOFQLofgVOsroVA+UnA8Z9ThkAH+zcL2vGGQBNRSJAXiYdAhvt7qSMZiEAHO4i316GIQHPhTFMbI4lA51HUTeSciUC4gFOwNg+KQHbzKbwkeopA7sDh6s7dikAnkS/uYzqLQGKd8q8gkItAG7A0UlDfi0ALJSovTCiMQCTpMdl7a4xAlXrVGlWpjEDF6Mj2W+KMQFjU6qciF41A307nfvlHjUB+BzcJz3SNQAxTt9PknY1AqmAzPHzDjUAz38Ud1eWNQEH92NAtBY5ALWkmK8MhjkALUbd/0DuOQLBi5J6PU45Aq8tV1jhpjkA=",
           "dtype": "f8",
           "shape": "100"
          },
          "bdata": "AAAAAAAAAED4wjrgRKkBQCXfN/+XfgNA7F4PPaSEBUArloesOcAHQBOApGm3NgpAYNFcPTPuDEBg+Jmdee0PQHcOnNYGnhFAOhADnhRxE0D2zmJjXnQVQO10lbu3rBdAmc3s8VgfGkBf9C0nZNIcQHT+JckSzB9AvRkA3qKJIUAzXUJy5VcjQL5MDJQuVSVAJNteNlKGJ0DbaonMmvApQPnNKUrJmSxAQUYsIxWIL0CNwuUlFmExQMpVSJyZJzNANaUpb2IbNUDhgqRpbkA3QEYek4Y1mzlAdYn6BxExPEAFF5Q1xAc/QJ3Ya3i6EkFA+ux92lXIQkBg1XrLKahEQGBqvCLdtUZAZNB7BEj1SECed9Hhc2pLQB0ctXibGU5A3OL+aZWDUEAP5LCl3xtSQGZhu8ET2FNApJ5E/Oq5VUBvYp8RXcNXQHJrZrA5+FlAF3KeiPJbXEDGv+pRkPFeQHSXxmXZ3WBAdBUzXkheYkAZWHr5+/pjQBYmq6KmtGVApY6jSMaLZ0B46RBepIBpQMvWb9lVk2tATz8MNbvDbUAgqoA3wAhwQKrHnIQOPnFApIUvRMqBckBy8sHxX9NzQFexlrhtMXVA/9ONhoaadkA7KdpIMg14QP88Aezth3lAYljbWysJe0CggZODUY98QBV8p028GH5AR8jno7yjf0Ds0bs3TJeAQMuEZkzFW4FAtFjYg2EegkAwCJ9RM96CQFes8ahHmoNA2Lyw/KVRhEDuD2Y/UAOFQLofgVOsroVA+UnA8Z9ThkAH+zcL2vGGQBNRSJAXiYdAhvt7qSMZiEAHO4i316GIQHPhTFMbI4lA51HUTeSciUC4gFOwNg+KQHbzKbwkeopA7sDh6s7dikAnkS/uYzqLQGKd8q8gkItAG7A0UlDfi0ALJSovTCiMQCTpMdl7a4xAlXrVGlWpjEDF6Mj2W+KMQFjU6qciF41A307nfvlHjUB+BzcJz3SNQAxTt9PknY1AqmAzPHzDjUAz38Ud1eWNQEH92NAtBY5ALWkmK8MhjkALUbd/0DuOQLBi5J6PU45Aq8tV1jhpjkA=",
          "dtype": "f8"
         }
        },
        {
         "type": "scatter",
         "x": {
          "_inputArray": {
           "0": 0,
           "1": 0.98989898989899,
           "10": 9.8989898989899,
           "11": 10.88888888888889,
           "12": 11.878787878787879,
           "13": 12.868686868686869,
           "14": 13.85858585858586,
           "15": 14.84848484848485,
           "16": 15.83838383838384,
           "17": 16.82828282828283,
           "18": 17.81818181818182,
           "19": 18.80808080808081,
           "2": 1.97979797979798,
           "20": 19.7979797979798,
           "21": 20.78787878787879,
           "22": 21.77777777777778,
           "23": 22.767676767676768,
           "24": 23.757575757575758,
           "25": 24.747474747474747,
           "26": 25.737373737373737,
           "27": 26.72727272727273,
           "28": 27.71717171717172,
           "29": 28.70707070707071,
           "3": 2.9696969696969697,
           "30": 29.6969696969697,
           "31": 30.68686868686869,
           "32": 31.67676767676768,
           "33": 32.66666666666667,
           "34": 33.65656565656566,
           "35": 34.64646464646465,
           "36": 35.63636363636364,
           "37": 36.62626262626263,
           "38": 37.61616161616162,
           "39": 38.60606060606061,
           "4": 3.95959595959596,
           "40": 39.5959595959596,
           "41": 40.58585858585859,
           "42": 41.57575757575758,
           "43": 42.56565656565657,
           "44": 43.55555555555556,
           "45": 44.54545454545455,
           "46": 45.535353535353536,
           "47": 46.525252525252526,
           "48": 47.515151515151516,
           "49": 48.505050505050505,
           "5": 4.94949494949495,
           "50": 49.494949494949495,
           "51": 50.484848484848484,
           "52": 51.474747474747474,
           "53": 52.464646464646464,
           "54": 53.45454545454546,
           "55": 54.44444444444445,
           "56": 55.43434343434344,
           "57": 56.42424242424243,
           "58": 57.41414141414142,
           "59": 58.40404040404041,
           "6": 5.9393939393939394,
           "60": 59.3939393939394,
           "61": 60.38383838383839,
           "62": 61.37373737373738,
           "63": 62.36363636363637,
           "64": 63.35353535353536,
           "65": 64.34343434343435,
           "66": 65.33333333333334,
           "67": 66.32323232323233,
           "68": 67.31313131313132,
           "69": 68.30303030303031,
           "7": 6.92929292929293,
           "70": 69.2929292929293,
           "71": 70.28282828282829,
           "72": 71.27272727272728,
           "73": 72.26262626262627,
           "74": 73.25252525252526,
           "75": 74.24242424242425,
           "76": 75.23232323232324,
           "77": 76.22222222222223,
           "78": 77.21212121212122,
           "79": 78.20202020202021,
           "8": 7.91919191919192,
           "80": 79.1919191919192,
           "81": 80.18181818181819,
           "82": 81.17171717171718,
           "83": 82.16161616161617,
           "84": 83.15151515151516,
           "85": 84.14141414141415,
           "86": 85.13131313131314,
           "87": 86.12121212121212,
           "88": 87.11111111111111,
           "89": 88.1010101010101,
           "9": 8.90909090909091,
           "90": 89.0909090909091,
           "91": 90.08080808080808,
           "92": 91.07070707070707,
           "93": 92.06060606060606,
           "94": 93.05050505050505,
           "95": 94.04040404040404,
           "96": 95.03030303030303,
           "97": 96.02020202020202,
           "98": 97.01010101010101,
           "99": 98,
           "bdata": "AAAAAAAAAAADtX6lQK3vPwO1fqVArf8/wgcffPDBB0ADtX6lQK0PQCIxb2dIzBNAwgcffPDBF0Bj3s6QmLcbQAO1fqVArR9A0kUXXXTRIUAiMW9nSMwjQHIcx3EcxyVAwgcffPDBJ0AS83aGxLwpQGPezpCYtytAs8kmm2yyLUADtX6lQK0vQCpQ61cK1DBA0kUXXXTRMUB6O0Ni3s4yQCIxb2dIzDNAyiabbLLJNEByHMdxHMc1QBoS83aGxDZAwgcffPDBN0Bq/UqBWr84QBLzdobEvDlAu+iiiy66OkBj3s6QmLc7QAvU+pUCtTxAs8kmm2yyPUBbv1Kg1q8+QAO1fqVArT9AVlVVVVVVQEAqUOtXCtRAQP5KgVq/UkFA0kUXXXTRQUCmQK1fKVBCQHo7Q2LezkJATjbZZJNNQ0AiMW9nSMxDQPYrBWr9SkRAyiabbLLJRECeITFvZ0hFQHIcx3Ecx0VARhdddNFFRkAaEvN2hsRGQO4MiXk7Q0dAwgcffPDBR0CWArV+pUBIQGr9SoFav0hAPvjggw8+SUAS83aGxLxJQObtDIl5O0pAu+iiiy66SkCP4ziO4zhLQGPezpCYt0tAN9lkk002TEAL1PqVArVMQN/OkJi3M01As8kmm2yyTUCHxLydITFOQFu/UqDWr05AL7rooosuT0ADtX6lQK1PQOxXCtT6FVBAVlVVVVVVUEDAUqDWr5RQQCpQ61cK1FBAlE022WQTUUD+SoFav1JRQGhIzNsZklFA0kUXXXTRUUA8Q2LezhBSQKZArV8pUFJAED744IOPUkB6O0Ni3s5SQOQ4juM4DlNATjbZZJNNU0C4MyTm7YxTQCIxb2dIzFNAjC666KILVED2KwVq/UpUQGApUOtXilRAyiabbLLJVEA0JObtDAlVQJ4hMW9nSFVACB988MGHVUByHMdxHMdVQNwZEvN2BlZARhdddNFFVkCwFKj1K4VWQBoS83aGxFZAhA8++OADV0DuDIl5O0NXQFgK1PqVgldAwgcffPDBV0AsBWr9SgFYQJYCtX6lQFhAAAAAAACAWEA=",
           "dtype": "f8",
           "shape": "100"
          },
          "bdata": "AAAAAAAAAAADtX6lQK3vPwO1fqVArf8/wgcffPDBB0ADtX6lQK0PQCIxb2dIzBNAwgcffPDBF0Bj3s6QmLcbQAO1fqVArR9A0kUXXXTRIUAiMW9nSMwjQHIcx3EcxyVAwgcffPDBJ0AS83aGxLwpQGPezpCYtytAs8kmm2yyLUADtX6lQK0vQCpQ61cK1DBA0kUXXXTRMUB6O0Ni3s4yQCIxb2dIzDNAyiabbLLJNEByHMdxHMc1QBoS83aGxDZAwgcffPDBN0Bq/UqBWr84QBLzdobEvDlAu+iiiy66OkBj3s6QmLc7QAvU+pUCtTxAs8kmm2yyPUBbv1Kg1q8+QAO1fqVArT9AVlVVVVVVQEAqUOtXCtRAQP5KgVq/UkFA0kUXXXTRQUCmQK1fKVBCQHo7Q2LezkJATjbZZJNNQ0AiMW9nSMxDQPYrBWr9SkRAyiabbLLJRECeITFvZ0hFQHIcx3Ecx0VARhdddNFFRkAaEvN2hsRGQO4MiXk7Q0dAwgcffPDBR0CWArV+pUBIQGr9SoFav0hAPvjggw8+SUAS83aGxLxJQObtDIl5O0pAu+iiiy66SkCP4ziO4zhLQGPezpCYt0tAN9lkk002TEAL1PqVArVMQN/OkJi3M01As8kmm2yyTUCHxLydITFOQFu/UqDWr05AL7rooosuT0ADtX6lQK1PQOxXCtT6FVBAVlVVVVVVUEDAUqDWr5RQQCpQ61cK1FBAlE022WQTUUD+SoFav1JRQGhIzNsZklFA0kUXXXTRUUA8Q2LezhBSQKZArV8pUFJAED744IOPUkB6O0Ni3s5SQOQ4juM4DlNATjbZZJNNU0C4MyTm7YxTQCIxb2dIzFNAjC666KILVED2KwVq/UpUQGApUOtXilRAyiabbLLJVEA0JObtDAlVQJ4hMW9nSFVACB988MGHVUByHMdxHMdVQNwZEvN2BlZARhdddNFFVkCwFKj1K4VWQBoS83aGxFZAhA8++OADV0DuDIl5O0NXQFgK1PqVgldAwgcffPDBV0AsBWr9SgFYQJYCtX6lQFhAAAAAAACAWEA=",
          "dtype": "f8"
         },
         "y": {
          "_inputArray": {
           "0": 3,
           "1": 3.311131883205884,
           "10": 8.031946487991634,
           "11": 8.860622073387393,
           "12": 9.773732294108873,
           "13": 10.779865188599022,
           "14": 11.888024284086441,
           "15": 13.108137929821284,
           "16": 14.451337400961085,
           "17": 15.92995689857074,
           "18": 17.55753354962251,
           "19": 19.348807406996034,
           "2": 3.654419626956814,
           "20": 21.31972144947831,
           "21": 23.487421581763712,
           "22": 25.870256634453984,
           "23": 28.487778364058233,
           "24": 31.360741452992936,
           "25": 34.51016959825577,
           "26": 37.95794282800206,
           "27": 41.7342169381478,
           "28": 45.87067855479784,
           "29": 50.39987726351032,
           "3": 4.033244410741967,
           "30": 55.35522560929667,
           "31": 60.770999096621566,
           "32": 66.68233618940297,
           "33": 73.1252383110122,
           "34": 80.13656984427365,
           "35": 87.7540581314652,
           "36": 96.0162934743179,
           "37": 104.96272913401612,
           "38": 114.63368133119747,
           "39": 125.05978998677624,
           "4": 4.451106842072642,
           "40": 136.2579890400881,
           "41": 148.28551344936787,
           "42": 161.19202913748447,
           "43": 175.01590311590454,
           "44": 189.78420348469248,
           "45": 205.51269943251046,
           "46": 222.20586123661832,
           "47": 239.85686026287385,
           "48": 258.44756896573233,
           "49": 277.9485608882469,
           "5": 4.911908703468884,
           "50": 298.3191106620685,
           "51": 319.5071940074458,
           "52": 341.44948773322517,
           "53": 364.0713697368508,
           "54": 387.2927534153018,
           "55": 411.07340603996386,
           "56": 435.29306849076687,
           "57": 459.8137042856739,
           "58": 484.5037592477395,
           "59": 509.23816150510925,
           "6": 5.420057129427258,
           "60": 533.8983214910206,
           "61": 558.3721319438018,
           "62": 582.5539679068731,
           "63": 606.3446867287458,
           "64": 629.6516280630225,
           "65": 652.3886138683974,
           "66": 674.4759484086558,
           "67": 695.8404182526743,
           "68": 716.4152922744216,
           "69": 736.140321652957,
           "7": 5.980464606420853,
           "70": 754.9617398724317,
           "71": 772.832262722088,
           "72": 789.7399910761386,
           "73": 805.7079575739004,
           "74": 820.7442856817685,
           "75": 834.8617165794943,
           "76": 848.0776437268757,
           "77": 860.4141128637563,
           "78": 871.897822010026,
           "79": 882.5601214656207,
           "8": 6.598548972899273,
           "80": 892.4370138105226,
           "81": 901.5691539047597,
           "82": 910.0018488884066,
           "83": 917.7847898554402,
           "84": 924.9622475845541,
           "85": 931.5684637569879,
           "86": 937.6368682870523,
           "87": 943.2006220055354,
           "88": 948.2926166597016,
           "89": 952.9454749132923,
           "9": 7.280233419288651,
           "90": 957.1915503465258,
           "91": 961.0629274560971,
           "92": 964.5914216551781,
           "93": 967.8085792734176,
           "94": 970.7456775569412,
           "95": 973.4291873857392,
           "96": 975.8731710161712,
           "97": 978.0972804924828,
           "98": 980.1203919593524,
           "99": 981.9601009209797,
           "bdata": "AAAAAAAACEC25Xi2Mn0KQMsefVtAPA1Aa6Wj0goiEEC60Lbz7s0RQLNYKWXLpRNA6l3FdCOuFUAw2u3p/usXQIigngXqZBpAMl1sgvUeHUDRSkJKWxAgQELU1nSjuCFAAx2moyaMI0CypHB9So8lQABpdB6rxidAQRTQ2l03KkDTLSGyFecsQBIahE8j3C9ALQ3KhLqOMUCJpjVxS1kzQMxW0UPZUTVALAopqcd8N0BdG4gjyd45QJVT+QrffDxAi+pGjVlcP0AE9sU8TUFBQHLa3t6d+kJAzcEU0vrdREC3Fxdlcu9GQGyYnC0vM0lAwFBjCHitS0AanjAZsGJOQDyXaGWrq1BAPICM5wNIUkCcsXGPvQhUQEJ7CX1C8FVAWtXI8woBWEBcYKhanT1aQAxlJDyOqFxAQ3VhmdNDX0D0PDtyQQhhQE3zGe0iiWJA/ytKGiUmZEDdVkBHguBlQDsF6DEYuWdA7emjCGiwaUBG2U1qlsZrQCDJNmZr+21AZmgTPikncECQlC5OLV9xQDoWyBMbpXJAT6t2dx34c0B8ogwaMVd1QCzbl1QkwXZAN4g0Hq80eECUz8+rLLF5QE/1lWiwNHtAWvnI7gS9fECUYdtlD0h+QMQ5cILP039A0oktwy+vgEBoA1Ag+nKBQG7YuYZuNIJAoZod68HygkCzHsaINq2DQFB8luEbY4RAFA4Kvs4ThUCVcTQtub6FQGGHwYRSY4ZA+HL1YB8Bh0DUmqyksZeHQGKoW3moJohAx/pwgOutiEDdFqnlqS2JQJ0wDUz0pYlAy3qpy+QWikBenawDn4CKQH21ZxpQ44pAhlVOvS4/i0AHhfYge5SLQMLAGAF/44tAq/qPoI0sjEDsmVnJA3CMQMla5z9HroxAhZLcrrLnjEDL6bk2jByNQP6FZk4YTY1AD8W135p5jUB3PWdHV6KNQDu+JlWQx41A7U6MS4jpjUCpLxzggAiOQBfZRju7JI5Aa/xo+Hc+jkBkg8sl91WOQNjMy/lua45AKvIVQfx+jkAFrv46x5COQPZAD5D2oI5AvUNkSa6vjkA=",
           "dtype": "f8",
           "shape": "100"
          },
          "bdata": "AAAAAAAACEC25Xi2Mn0KQMsefVtAPA1Aa6Wj0goiEEC60Lbz7s0RQLNYKWXLpRNA6l3FdCOuFUAw2u3p/usXQIigngXqZBpAMl1sgvUeHUDRSkJKWxAgQELU1nSjuCFAAx2moyaMI0CypHB9So8lQABpdB6rxidAQRTQ2l03KkDTLSGyFecsQBIahE8j3C9ALQ3KhLqOMUCJpjVxS1kzQMxW0UPZUTVALAopqcd8N0BdG4gjyd45QJVT+QrffDxAi+pGjVlcP0AE9sU8TUFBQHLa3t6d+kJAzcEU0vrdREC3Fxdlcu9GQGyYnC0vM0lAwFBjCHitS0AanjAZsGJOQDyXaGWrq1BAPICM5wNIUkCcsXGPvQhUQEJ7CX1C8FVAWtXI8woBWEBcYKhanT1aQAxlJDyOqFxAQ3VhmdNDX0D0PDtyQQhhQE3zGe0iiWJA/ytKGiUmZEDdVkBHguBlQDsF6DEYuWdA7emjCGiwaUBG2U1qlsZrQCDJNmZr+21AZmgTPikncECQlC5OLV9xQDoWyBMbpXJAT6t2dx34c0B8ogwaMVd1QCzbl1QkwXZAN4g0Hq80eECUz8+rLLF5QE/1lWiwNHtAWvnI7gS9fECUYdtlD0h+QMQ5cILP039A0oktwy+vgEBoA1Ag+nKBQG7YuYZuNIJAoZod68HygkCzHsaINq2DQFB8luEbY4RAFA4Kvs4ThUCVcTQtub6FQGGHwYRSY4ZA+HL1YB8Bh0DUmqyksZeHQGKoW3moJohAx/pwgOutiEDdFqnlqS2JQJ0wDUz0pYlAy3qpy+QWikBenawDn4CKQH21ZxpQ44pAhlVOvS4/i0AHhfYge5SLQMLAGAF/44tAq/qPoI0sjEDsmVnJA3CMQMla5z9HroxAhZLcrrLnjEDL6bk2jByNQP6FZk4YTY1AD8W135p5jUB3PWdHV6KNQDu+JlWQx41A7U6MS4jpjUCpLxzggAiOQBfZRju7JI5Aa/xo+Hc+jkBkg8sl91WOQNjMy/lua45AKvIVQfx+jkAFrv46x5COQPZAD5D2oI5AvUNkSa6vjkA=",
          "dtype": "f8"
         }
        },
        {
         "type": "scatter",
         "x": {
          "_inputArray": {
           "0": 0,
           "1": 0.98989898989899,
           "10": 9.8989898989899,
           "11": 10.88888888888889,
           "12": 11.878787878787879,
           "13": 12.868686868686869,
           "14": 13.85858585858586,
           "15": 14.84848484848485,
           "16": 15.83838383838384,
           "17": 16.82828282828283,
           "18": 17.81818181818182,
           "19": 18.80808080808081,
           "2": 1.97979797979798,
           "20": 19.7979797979798,
           "21": 20.78787878787879,
           "22": 21.77777777777778,
           "23": 22.767676767676768,
           "24": 23.757575757575758,
           "25": 24.747474747474747,
           "26": 25.737373737373737,
           "27": 26.72727272727273,
           "28": 27.71717171717172,
           "29": 28.70707070707071,
           "3": 2.9696969696969697,
           "30": 29.6969696969697,
           "31": 30.68686868686869,
           "32": 31.67676767676768,
           "33": 32.66666666666667,
           "34": 33.65656565656566,
           "35": 34.64646464646465,
           "36": 35.63636363636364,
           "37": 36.62626262626263,
           "38": 37.61616161616162,
           "39": 38.60606060606061,
           "4": 3.95959595959596,
           "40": 39.5959595959596,
           "41": 40.58585858585859,
           "42": 41.57575757575758,
           "43": 42.56565656565657,
           "44": 43.55555555555556,
           "45": 44.54545454545455,
           "46": 45.535353535353536,
           "47": 46.525252525252526,
           "48": 47.515151515151516,
           "49": 48.505050505050505,
           "5": 4.94949494949495,
           "50": 49.494949494949495,
           "51": 50.484848484848484,
           "52": 51.474747474747474,
           "53": 52.464646464646464,
           "54": 53.45454545454546,
           "55": 54.44444444444445,
           "56": 55.43434343434344,
           "57": 56.42424242424243,
           "58": 57.41414141414142,
           "59": 58.40404040404041,
           "6": 5.9393939393939394,
           "60": 59.3939393939394,
           "61": 60.38383838383839,
           "62": 61.37373737373738,
           "63": 62.36363636363637,
           "64": 63.35353535353536,
           "65": 64.34343434343435,
           "66": 65.33333333333334,
           "67": 66.32323232323233,
           "68": 67.31313131313132,
           "69": 68.30303030303031,
           "7": 6.92929292929293,
           "70": 69.2929292929293,
           "71": 70.28282828282829,
           "72": 71.27272727272728,
           "73": 72.26262626262627,
           "74": 73.25252525252526,
           "75": 74.24242424242425,
           "76": 75.23232323232324,
           "77": 76.22222222222223,
           "78": 77.21212121212122,
           "79": 78.20202020202021,
           "8": 7.91919191919192,
           "80": 79.1919191919192,
           "81": 80.18181818181819,
           "82": 81.17171717171718,
           "83": 82.16161616161617,
           "84": 83.15151515151516,
           "85": 84.14141414141415,
           "86": 85.13131313131314,
           "87": 86.12121212121212,
           "88": 87.11111111111111,
           "89": 88.1010101010101,
           "9": 8.90909090909091,
           "90": 89.0909090909091,
           "91": 90.08080808080808,
           "92": 91.07070707070707,
           "93": 92.06060606060606,
           "94": 93.05050505050505,
           "95": 94.04040404040404,
           "96": 95.03030303030303,
           "97": 96.02020202020202,
           "98": 97.01010101010101,
           "99": 98,
           "bdata": "AAAAAAAAAAADtX6lQK3vPwO1fqVArf8/wgcffPDBB0ADtX6lQK0PQCIxb2dIzBNAwgcffPDBF0Bj3s6QmLcbQAO1fqVArR9A0kUXXXTRIUAiMW9nSMwjQHIcx3EcxyVAwgcffPDBJ0AS83aGxLwpQGPezpCYtytAs8kmm2yyLUADtX6lQK0vQCpQ61cK1DBA0kUXXXTRMUB6O0Ni3s4yQCIxb2dIzDNAyiabbLLJNEByHMdxHMc1QBoS83aGxDZAwgcffPDBN0Bq/UqBWr84QBLzdobEvDlAu+iiiy66OkBj3s6QmLc7QAvU+pUCtTxAs8kmm2yyPUBbv1Kg1q8+QAO1fqVArT9AVlVVVVVVQEAqUOtXCtRAQP5KgVq/UkFA0kUXXXTRQUCmQK1fKVBCQHo7Q2LezkJATjbZZJNNQ0AiMW9nSMxDQPYrBWr9SkRAyiabbLLJRECeITFvZ0hFQHIcx3Ecx0VARhdddNFFRkAaEvN2hsRGQO4MiXk7Q0dAwgcffPDBR0CWArV+pUBIQGr9SoFav0hAPvjggw8+SUAS83aGxLxJQObtDIl5O0pAu+iiiy66SkCP4ziO4zhLQGPezpCYt0tAN9lkk002TEAL1PqVArVMQN/OkJi3M01As8kmm2yyTUCHxLydITFOQFu/UqDWr05AL7rooosuT0ADtX6lQK1PQOxXCtT6FVBAVlVVVVVVUEDAUqDWr5RQQCpQ61cK1FBAlE022WQTUUD+SoFav1JRQGhIzNsZklFA0kUXXXTRUUA8Q2LezhBSQKZArV8pUFJAED744IOPUkB6O0Ni3s5SQOQ4juM4DlNATjbZZJNNU0C4MyTm7YxTQCIxb2dIzFNAjC666KILVED2KwVq/UpUQGApUOtXilRAyiabbLLJVEA0JObtDAlVQJ4hMW9nSFVACB988MGHVUByHMdxHMdVQNwZEvN2BlZARhdddNFFVkCwFKj1K4VWQBoS83aGxFZAhA8++OADV0DuDIl5O0NXQFgK1PqVgldAwgcffPDBV0AsBWr9SgFYQJYCtX6lQFhAAAAAAACAWEA=",
           "dtype": "f8",
           "shape": "100"
          },
          "bdata": "AAAAAAAAAAADtX6lQK3vPwO1fqVArf8/wgcffPDBB0ADtX6lQK0PQCIxb2dIzBNAwgcffPDBF0Bj3s6QmLcbQAO1fqVArR9A0kUXXXTRIUAiMW9nSMwjQHIcx3EcxyVAwgcffPDBJ0AS83aGxLwpQGPezpCYtytAs8kmm2yyLUADtX6lQK0vQCpQ61cK1DBA0kUXXXTRMUB6O0Ni3s4yQCIxb2dIzDNAyiabbLLJNEByHMdxHMc1QBoS83aGxDZAwgcffPDBN0Bq/UqBWr84QBLzdobEvDlAu+iiiy66OkBj3s6QmLc7QAvU+pUCtTxAs8kmm2yyPUBbv1Kg1q8+QAO1fqVArT9AVlVVVVVVQEAqUOtXCtRAQP5KgVq/UkFA0kUXXXTRQUCmQK1fKVBCQHo7Q2LezkJATjbZZJNNQ0AiMW9nSMxDQPYrBWr9SkRAyiabbLLJRECeITFvZ0hFQHIcx3Ecx0VARhdddNFFRkAaEvN2hsRGQO4MiXk7Q0dAwgcffPDBR0CWArV+pUBIQGr9SoFav0hAPvjggw8+SUAS83aGxLxJQObtDIl5O0pAu+iiiy66SkCP4ziO4zhLQGPezpCYt0tAN9lkk002TEAL1PqVArVMQN/OkJi3M01As8kmm2yyTUCHxLydITFOQFu/UqDWr05AL7rooosuT0ADtX6lQK1PQOxXCtT6FVBAVlVVVVVVUEDAUqDWr5RQQCpQ61cK1FBAlE022WQTUUD+SoFav1JRQGhIzNsZklFA0kUXXXTRUUA8Q2LezhBSQKZArV8pUFJAED744IOPUkB6O0Ni3s5SQOQ4juM4DlNATjbZZJNNU0C4MyTm7YxTQCIxb2dIzFNAjC666KILVED2KwVq/UpUQGApUOtXilRAyiabbLLJVEA0JObtDAlVQJ4hMW9nSFVACB988MGHVUByHMdxHMdVQNwZEvN2BlZARhdddNFFVkCwFKj1K4VWQBoS83aGxFZAhA8++OADV0DuDIl5O0NXQFgK1PqVgldAwgcffPDBV0AsBWr9SgFYQJYCtX6lQFhAAAAAAACAWEA=",
          "dtype": "f8"
         },
         "y": {
          "_inputArray": {
           "0": 4,
           "1": 4.414383314244046,
           "10": 10.691301962286522,
           "11": 11.791077317504596,
           "12": 13.002199901846776,
           "13": 14.33561078754473,
           "14": 15.80314506977835,
           "15": 17.417843446626684,
           "16": 19.19415674693719,
           "17": 21.14794593032576,
           "18": 23.29648208717667,
           "19": 25.658446438642628,
           "2": 4.871492788615901,
           "20": 28.25393033664475,
           "21": 31.104435263872563,
           "22": 34.232872833784,
           "23": 37.66356479060543,
           "24": 41.422243009331595,
           "25": 45.53441631633402,
           "26": 50.02404585766174,
           "27": 54.929175971487254,
           "28": 60.289258571237184,
           "29": 66.14342617194553,
           "3": 5.375787146955586,
           "30": 72.5304918902536,
           "31": 79.48894944440995,
           "32": 87.0569731542705,
           "33": 95.2724179412985,
           "34": 104.17281932856442,
           "35": 113.79539344074612,
           "36": 124.17703700412869,
           "37": 135.35432734660466,
           "38": 147.36352239767373,
           "39": 160.23558534711833,
           "4": 5.931901370202193,
           "40": 173.9776817476675,
           "41": 188.6263372245043,
           "42": 204.21234421514774,
           "43": 220.7534444791334,
           "44": 238.2543290980135,
           "45": 256.70663847535695,
           "46": 276.0889623367491,
           "47": 296.3668397297921,
           "48": 317.49275902410443,
           "49": 339.4061579113216,
           "5": 6.544994767523844,
           "50": 362.0334234050952,
           "51": 385.2878918410939,
           "52": 409.06984887700264,
           "53": 433.26652949252343,
           "54": 457.75211798937414,
           "55": 482.4128924963165,
           "56": 507.1647261247392,
           "57": 531.87447376132,
           "58": 556.415819318816,
           "59": 580.6718217743049,
           "6": 7.220877744890724,
           "60": 604.5349151691853,
           "61": 627.9069086091764,
           "62": 650.698986264318,
           "63": 672.8317073689707,
           "64": 694.2350062218158,
           "65": 714.8481921858554,
           "66": 734.6199496884119,
           "67": 753.5083382211287,
           "68": 771.4807923399699,
           "69": 788.5141216652205,
           "7": 7.966011805075086,
           "70": 804.5945108814856,
           "71": 819.7175197376915,
           "72": 833.8917994953134,
           "73": 847.1641864314315,
           "74": 859.5668012342318,
           "75": 871.1274399822408,
           "76": 881.8758713944316,
           "77": 891.8438368302225,
           "78": 901.0650502894787,
           "79": 909.5751984125109,
           "8": 8.78750954765124,
           "80": 917.411940480076,
           "81": 924.6149084133771,
           "82": 931.2257067740629,
           "83": 937.2879127642286,
           "84": 942.8470762264152,
           "85": 947.9507295822593,
           "86": 952.6402745435997,
           "87": 956.9404148495095,
           "88": 960.8738127252714,
           "89": 964.463181012829,
           "9": 9.693134668995572,
           "90": 967.7312831707867,
           "91": 970.7009332744096,
           "92": 973.3949960156241,
           "93": 975.8363867030167,
           "94": 978.048071261835,
           "95": 980.0530662339878,
           "96": 981.874438778044,
           "97": 983.5353066692339,
           "98": 985.0582090482377,
           "99": 986.4473597180496,
           "bdata": "AAAAAAAAEEC9vnoZVKgRQHY4B5tofBNAvrmJWM6AFUDLdlBaRLoXQC0GvBsTLhpAK+GKxi3iHEDCY9kyMt0fQFDmkHM0kyFAmh4ejOJiI0DLXK9U8mElQE2UDhYIlSdA/vh0WCABKkD8YFkt1assQIdIodQ1my9AChzCyfdqMUCaZK5BtDEzQFBT1MjfJTVADEYEQOZLN0BEIyDyj6g5QPpZG5QBQTxAveH6RLwaP0BUnerGzh1BQLU26bDv1EJAnAUWDwy2REA8jfzAZ8RGQHchRu8TA0lAJuL8PO92S0CUxsNsBiVOQGF59+QtiVBArdtBlPMhUkDXSJzySt9TQN+VunKlw1VAIC6pS2/RV0BBE814DwtaQEjd47nnclxAiLoDk1QLX0Dbt02mVutgQOkrufmha2JASClI6okHZEAZhDsrSb9lQG7wXPQKlGdAvXEYhsuGaUBap5g3HJhrQHTMxnYjyG1ADlwlZE4LcECcbsVjbEFxQEolVpPehXJAZlVJV+LXc0A1InCffzZ1QOH8+uaIoHZAiaR5NJsUeEA4JtsZHpF5QOzcbbRDFHtAhnHfrAicfEAXhyk1myZ+QNRo3Leisn9Ao3AZ7P6egEDhOhSZU2OBQAsrGORfJYJASK6agUfkgkD9Bk1ZQZ+DQMtMHIaXVYRAkmwxVqcGhUBxKPFK4bGFQMYX/BjJVoZAKKcuqPX0hkBwGKETEYyHQLSCp6nYG4hATNLR6xykiEDGyOuOwSSJQPX8/Hq9nYlArxfGZyIPikCQy/lAUHmKQN3iFc+I3IpAa99A/wQ5i0CvlNzIAY+LQLonhi3A3otAQA8WOYUojECQE6ABmmyMQJpOc6dLq4xA6ysaVevkjECwaFo/zhmNQLQTNaVNSo1AYY3mz8Z2jUAmeRwYm5+NQMeJQkgfxY1Ah3o4+IXnjUD0roaR/QaOQNQxP5i0I45AJ7X9qtk9jkAkkueCm1WOQD/Jq/Moa45AIQKD67B+jkCsiy9zYpCOQP9b/a1soI5AbRDC2f6ujkCG7dxOSLyOQBk0TjZ3yI5AkfRUMZTTjkA=",
           "dtype": "f8",
           "shape": "100"
          },
          "bdata": "AAAAAAAAEEC9vnoZVKgRQHY4B5tofBNAvrmJWM6AFUDLdlBaRLoXQC0GvBsTLhpAK+GKxi3iHEDCY9kyMt0fQFDmkHM0kyFAmh4ejOJiI0DLXK9U8mElQE2UDhYIlSdA/vh0WCABKkD8YFkt1assQIdIodQ1my9AChzCyfdqMUCaZK5BtDEzQFBT1MjfJTVADEYEQOZLN0BEIyDyj6g5QPpZG5QBQTxAveH6RLwaP0BUnerGzh1BQLU26bDv1EJAnAUWDwy2REA8jfzAZ8RGQHchRu8TA0lAJuL8PO92S0CUxsNsBiVOQGF59+QtiVBArdtBlPMhUkDXSJzySt9TQN+VunKlw1VAIC6pS2/RV0BBE814DwtaQEjd47nnclxAiLoDk1QLX0Dbt02mVutgQOkrufmha2JASClI6okHZEAZhDsrSb9lQG7wXPQKlGdAvXEYhsuGaUBap5g3HJhrQHTMxnYjyG1ADlwlZE4LcECcbsVjbEFxQEolVpPehXJAZlVJV+LXc0A1InCffzZ1QOH8+uaIoHZAiaR5NJsUeEA4JtsZHpF5QOzcbbRDFHtAhnHfrAicfEAXhyk1myZ+QNRo3Leisn9Ao3AZ7P6egEDhOhSZU2OBQAsrGORfJYJASK6agUfkgkD9Bk1ZQZ+DQMtMHIaXVYRAkmwxVqcGhUBxKPFK4bGFQMYX/BjJVoZAKKcuqPX0hkBwGKETEYyHQLSCp6nYG4hATNLR6xykiEDGyOuOwSSJQPX8/Hq9nYlArxfGZyIPikCQy/lAUHmKQN3iFc+I3IpAa99A/wQ5i0CvlNzIAY+LQLonhi3A3otAQA8WOYUojECQE6ABmmyMQJpOc6dLq4xA6ysaVevkjECwaFo/zhmNQLQTNaVNSo1AYY3mz8Z2jUAmeRwYm5+NQMeJQkgfxY1Ah3o4+IXnjUD0roaR/QaOQNQxP5i0I45AJ7X9qtk9jkAkkueCm1WOQD/Jq/Moa45AIQKD67B+jkCsiy9zYpCOQP9b/a1soI5AbRDC2f6ujkCG7dxOSLyOQBk0TjZ3yI5AkfRUMZTTjkA=",
          "dtype": "f8"
         }
        },
        {
         "type": "scatter",
         "x": {
          "_inputArray": {
           "0": 0,
           "1": 0.98989898989899,
           "10": 9.8989898989899,
           "11": 10.88888888888889,
           "12": 11.878787878787879,
           "13": 12.868686868686869,
           "14": 13.85858585858586,
           "15": 14.84848484848485,
           "16": 15.83838383838384,
           "17": 16.82828282828283,
           "18": 17.81818181818182,
           "19": 18.80808080808081,
           "2": 1.97979797979798,
           "20": 19.7979797979798,
           "21": 20.78787878787879,
           "22": 21.77777777777778,
           "23": 22.767676767676768,
           "24": 23.757575757575758,
           "25": 24.747474747474747,
           "26": 25.737373737373737,
           "27": 26.72727272727273,
           "28": 27.71717171717172,
           "29": 28.70707070707071,
           "3": 2.9696969696969697,
           "30": 29.6969696969697,
           "31": 30.68686868686869,
           "32": 31.67676767676768,
           "33": 32.66666666666667,
           "34": 33.65656565656566,
           "35": 34.64646464646465,
           "36": 35.63636363636364,
           "37": 36.62626262626263,
           "38": 37.61616161616162,
           "39": 38.60606060606061,
           "4": 3.95959595959596,
           "40": 39.5959595959596,
           "41": 40.58585858585859,
           "42": 41.57575757575758,
           "43": 42.56565656565657,
           "44": 43.55555555555556,
           "45": 44.54545454545455,
           "46": 45.535353535353536,
           "47": 46.525252525252526,
           "48": 47.515151515151516,
           "49": 48.505050505050505,
           "5": 4.94949494949495,
           "50": 49.494949494949495,
           "51": 50.484848484848484,
           "52": 51.474747474747474,
           "53": 52.464646464646464,
           "54": 53.45454545454546,
           "55": 54.44444444444445,
           "56": 55.43434343434344,
           "57": 56.42424242424243,
           "58": 57.41414141414142,
           "59": 58.40404040404041,
           "6": 5.9393939393939394,
           "60": 59.3939393939394,
           "61": 60.38383838383839,
           "62": 61.37373737373738,
           "63": 62.36363636363637,
           "64": 63.35353535353536,
           "65": 64.34343434343435,
           "66": 65.33333333333334,
           "67": 66.32323232323233,
           "68": 67.31313131313132,
           "69": 68.30303030303031,
           "7": 6.92929292929293,
           "70": 69.2929292929293,
           "71": 70.28282828282829,
           "72": 71.27272727272728,
           "73": 72.26262626262627,
           "74": 73.25252525252526,
           "75": 74.24242424242425,
           "76": 75.23232323232324,
           "77": 76.22222222222223,
           "78": 77.21212121212122,
           "79": 78.20202020202021,
           "8": 7.91919191919192,
           "80": 79.1919191919192,
           "81": 80.18181818181819,
           "82": 81.17171717171718,
           "83": 82.16161616161617,
           "84": 83.15151515151516,
           "85": 84.14141414141415,
           "86": 85.13131313131314,
           "87": 86.12121212121212,
           "88": 87.11111111111111,
           "89": 88.1010101010101,
           "9": 8.90909090909091,
           "90": 89.0909090909091,
           "91": 90.08080808080808,
           "92": 91.07070707070707,
           "93": 92.06060606060606,
           "94": 93.05050505050505,
           "95": 94.04040404040404,
           "96": 95.03030303030303,
           "97": 96.02020202020202,
           "98": 97.01010101010101,
           "99": 98,
           "bdata": "AAAAAAAAAAADtX6lQK3vPwO1fqVArf8/wgcffPDBB0ADtX6lQK0PQCIxb2dIzBNAwgcffPDBF0Bj3s6QmLcbQAO1fqVArR9A0kUXXXTRIUAiMW9nSMwjQHIcx3EcxyVAwgcffPDBJ0AS83aGxLwpQGPezpCYtytAs8kmm2yyLUADtX6lQK0vQCpQ61cK1DBA0kUXXXTRMUB6O0Ni3s4yQCIxb2dIzDNAyiabbLLJNEByHMdxHMc1QBoS83aGxDZAwgcffPDBN0Bq/UqBWr84QBLzdobEvDlAu+iiiy66OkBj3s6QmLc7QAvU+pUCtTxAs8kmm2yyPUBbv1Kg1q8+QAO1fqVArT9AVlVVVVVVQEAqUOtXCtRAQP5KgVq/UkFA0kUXXXTRQUCmQK1fKVBCQHo7Q2LezkJATjbZZJNNQ0AiMW9nSMxDQPYrBWr9SkRAyiabbLLJRECeITFvZ0hFQHIcx3Ecx0VARhdddNFFRkAaEvN2hsRGQO4MiXk7Q0dAwgcffPDBR0CWArV+pUBIQGr9SoFav0hAPvjggw8+SUAS83aGxLxJQObtDIl5O0pAu+iiiy66SkCP4ziO4zhLQGPezpCYt0tAN9lkk002TEAL1PqVArVMQN/OkJi3M01As8kmm2yyTUCHxLydITFOQFu/UqDWr05AL7rooosuT0ADtX6lQK1PQOxXCtT6FVBAVlVVVVVVUEDAUqDWr5RQQCpQ61cK1FBAlE022WQTUUD+SoFav1JRQGhIzNsZklFA0kUXXXTRUUA8Q2LezhBSQKZArV8pUFJAED744IOPUkB6O0Ni3s5SQOQ4juM4DlNATjbZZJNNU0C4MyTm7YxTQCIxb2dIzFNAjC666KILVED2KwVq/UpUQGApUOtXilRAyiabbLLJVEA0JObtDAlVQJ4hMW9nSFVACB988MGHVUByHMdxHMdVQNwZEvN2BlZARhdddNFFVkCwFKj1K4VWQBoS83aGxFZAhA8++OADV0DuDIl5O0NXQFgK1PqVgldAwgcffPDBV0AsBWr9SgFYQJYCtX6lQFhAAAAAAACAWEA=",
           "dtype": "f8",
           "shape": "100"
          },
          "bdata": "AAAAAAAAAAADtX6lQK3vPwO1fqVArf8/wgcffPDBB0ADtX6lQK0PQCIxb2dIzBNAwgcffPDBF0Bj3s6QmLcbQAO1fqVArR9A0kUXXXTRIUAiMW9nSMwjQHIcx3EcxyVAwgcffPDBJ0AS83aGxLwpQGPezpCYtytAs8kmm2yyLUADtX6lQK0vQCpQ61cK1DBA0kUXXXTRMUB6O0Ni3s4yQCIxb2dIzDNAyiabbLLJNEByHMdxHMc1QBoS83aGxDZAwgcffPDBN0Bq/UqBWr84QBLzdobEvDlAu+iiiy66OkBj3s6QmLc7QAvU+pUCtTxAs8kmm2yyPUBbv1Kg1q8+QAO1fqVArT9AVlVVVVVVQEAqUOtXCtRAQP5KgVq/UkFA0kUXXXTRQUCmQK1fKVBCQHo7Q2LezkJATjbZZJNNQ0AiMW9nSMxDQPYrBWr9SkRAyiabbLLJRECeITFvZ0hFQHIcx3Ecx0VARhdddNFFRkAaEvN2hsRGQO4MiXk7Q0dAwgcffPDBR0CWArV+pUBIQGr9SoFav0hAPvjggw8+SUAS83aGxLxJQObtDIl5O0pAu+iiiy66SkCP4ziO4zhLQGPezpCYt0tAN9lkk002TEAL1PqVArVMQN/OkJi3M01As8kmm2yyTUCHxLydITFOQFu/UqDWr05AL7rooosuT0ADtX6lQK1PQOxXCtT6FVBAVlVVVVVVUEDAUqDWr5RQQCpQ61cK1FBAlE022WQTUUD+SoFav1JRQGhIzNsZklFA0kUXXXTRUUA8Q2LezhBSQKZArV8pUFJAED744IOPUkB6O0Ni3s5SQOQ4juM4DlNATjbZZJNNU0C4MyTm7YxTQCIxb2dIzFNAjC666KILVED2KwVq/UpUQGApUOtXilRAyiabbLLJVEA0JObtDAlVQJ4hMW9nSFVACB988MGHVUByHMdxHMdVQNwZEvN2BlZARhdddNFFVkCwFKj1K4VWQBoS83aGxFZAhA8++OADV0DuDIl5O0NXQFgK1PqVgldAwgcffPDBV0AsBWr9SgFYQJYCtX6lQFhAAAAAAACAWEA=",
          "dtype": "f8"
         },
         "y": {
          "_inputArray": {
           "0": 5,
           "1": 5.5174052663348405,
           "10": 13.34175287955393,
           "11": 14.710103042531106,
           "12": 16.216118004899965,
           "13": 17.872861180689814,
           "14": 19.69489334325632,
           "15": 21.698268528284455,
           "16": 23.90057384434361,
           "17": 26.320929472887624,
           "18": 28.979988668254734,
           "19": 31.899937757667622,
           "2": 6.088033195255526,
           "20": 35.10449614123339,
           "21": 38.61891629194356,
           "22": 42.46998375567412,
           "23": 46.686017151185425,
           "24": 51.296868170122295,
           "25": 56.33183090640466,
           "26": 61.8151368881405,
           "27": 67.79104195942341,
           "28": 74.30534661804879,
           "29": 81.40202303189929,
           "3": 6.71739570530956,
           "30": 89.12321503894478,
           "31": 97.50923814724234,
           "32": 106.5985795349363,
           "33": 116.4278980502582,
           "34": 127.03202421152673,
           "35": 138.4439602071479,
           "36": 150.69487989561492,
           "37": 163.81412880550818,
           "38": 177.82922413549534,
           "39": 192.76490695859644,
           "4": 7.411245922004513,
           "40": 208.62821474846663,
           "41": 225.42785694962413,
           "42": 243.16630112439114,
           "43": 261.8339940912685,
           "44": 281.40936192493587,
           "45": 301.8588099562515,
           "46": 323.1367227722525,
           "47": 345.1854642161544,
           "48": 367.93537738735176,
           "49": 391.3047846414177,
           "5": 8.175979384301131,
           "50": 415.199987590104,
           "51": 439.51526710134124,
           "52": 464.13288329923864,
           "53": 488.9230755640841,
           "54": 513.7440625323445,
           "55": 538.4436415531361,
           "56": 562.9223144248446,
           "57": 587.0854752704328,
           "58": 610.8269756749237,
           "59": 634.0504204063709,
           "6": 9.01877754024757,
           "60": 656.6691674158579,
           "61": 678.6063278374988,
           "62": 699.794765988438,
           "63": 720.1770993688499,
           "64": 739.7056986619398,
           "65": 758.3426877339426,
           "66": 776.0599436341241,
           "67": 792.8390965947801,
           "68": 808.6715300312369,
           "69": 823.558380541851,
           "7": 9.94760774697939,
           "70": 837.510537908009,
           "71": 850.5486450941286,
           "72": 862.7030982476567,
           "73": 874.0189319954906,
           "74": 884.5414255811422,
           "75": 894.3036610065374,
           "76": 903.3394614301504,
           "77": 911.6835110216056,
           "78": 919.3713549616757,
           "79": 926.439399442283,
           "8": 10.971223270719566,
           "80": 932.9249116664992,
           "81": 938.8660198485445,
           "82": 944.301713213789,
           "83": 949.2718419987516,
           "84": 953.8171174511004,
           "85": 957.9791118296531,
           "86": 961.7967051169877,
           "87": 965.2933270673516,
           "88": 968.4879856245118,
           "89": 971.3996996108492,
           "9": 12.099163286778484,
           "90": 974.0474988606754,
           "91": 976.4504242202337,
           "92": 978.6275275476979,
           "93": 980.5978717131737,
           "94": 982.3805305986976,
           "95": 983.9945890982376,
           "96": 985.4591431176926,
           "97": 986.7932995748928,
           "98": 988.0161192084744,
           "99": 989.133304228268,
           "bdata": "AAAAAAAAFEDIvqav0hEWQOdWul8lWhhAtGHS+pzeGkCyfaamHaUdQOmvSPgZWiBAeIayNZ0JIkDqbLXXLOUjQJq1MS1E8SVA3FrDh8UyKED0/sE7+q4qQCLsQKCSay1AQx9zglM3MEC9ApHUc98xQHd+t4fksTNAy87sucGyNUC8FukBjOY3QPdfFm8oUjpAzJqQieD6PEA2niVSYuY/QOuTKiFgjUFA+m0opjhPQ0DEIn5tKDxFQBJr9mjPV0dABvO0xv+lSUCwZ2VveSpMQNAp0mdW6E5AMF90bqDyUECunYrMipNSQMKPz766WVRAKqlUweJHVkAEEplbl2BYQM6miSBPplpAZPiArmIbXUAATEevDMJfQJ9NCew0TmFADErDdDzWYkB0TNpXDXpkQDTgDQGJOmZA8nQoHnoYaEDu8NBVGhRqQBDADgGxLWxAiVG8VlJlbkDjMDAKWF1wQDz9Fr+MlnFARTmCr73dckAWtzcEMDJ0QGJvU6n3knVAgIFHTvf+dkBlM9xl4HR4QKTxLyYz83lAck+3iD54e0CiBj1KIAJ9QKb34erEjn5AypQO1/MNgEDuTvGTjNOAQLGaYuZgl4FAAZmoDa9YgkAUM2ylnRaDQFBj0EJn0INARTVydFqFhECyxWjC2TSFQIRCRa5b3oVA0uoSs2qBhkDmDldFpR2HQDEQEdO9sodAVWG6w3pAiEAghkZ4tsaIQI4TI0tfRYlAyK83kHe8iUAjEuaUFSyKQCUDCqBjlIpAfFz58Z/1ikDXa9HFJlCLQMph79ZUpItAMGHS5W3yi0D/5Y03tzqMQANioNR3fYxA1jzziPi6jEDk09rjg/OMQGx6FjhmJ41AfHnQm+1WjUD1D57oaYKNQIpyf7ssqo1AvcvfdInOjUDlO5U41e+NQCWw7qZfDo5AdIrcu1gqjkCS0QFl50OOQJKmtZUyW45AlikVR2FwjkDXeQN4moOOQJ21KS0FlY5AR/r2cMikjkBFZKBTC7OOQBwPIev0v45AYxU6U6zLjkDDkHKtWNaOQOGJGwMh4I5Ao6bOARHpjkA=",
           "dtype": "f8",
           "shape": "100"
          },
          "bdata": "AAAAAAAAFEDIvqav0hEWQOdWul8lWhhAtGHS+pzeGkCyfaamHaUdQOmvSPgZWiBAeIayNZ0JIkDqbLXXLOUjQJq1MS1E8SVA3FrDh8UyKED0/sE7+q4qQCLsQKCSay1AQx9zglM3MEC9ApHUc98xQHd+t4fksTNAy87sucGyNUC8FukBjOY3QPdfFm8oUjpAzJqQieD6PEA2niVSYuY/QOuTKiFgjUFA+m0opjhPQ0DEIn5tKDxFQBJr9mjPV0dABvO0xv+lSUCwZ2VveSpMQNAp0mdW6E5AMF90bqDyUECunYrMipNSQMKPz766WVRAKqlUweJHVkAEEplbl2BYQM6miSBPplpAZPiArmIbXUAATEevDMJfQJ9NCew0TmFADErDdDzWYkB0TNpXDXpkQDTgDQGJOmZA8nQoHnoYaEDu8NBVGhRqQBDADgGxLWxAiVG8VlJlbkDjMDAKWF1wQDz9Fr+MlnFARTmCr73dckAWtzcEMDJ0QGJvU6n3knVAgIFHTvf+dkBlM9xl4HR4QKTxLyYz83lAck+3iD54e0CiBj1KIAJ9QKb34erEjn5AypQO1/MNgEDuTvGTjNOAQLGaYuZgl4FAAZmoDa9YgkAUM2ylnRaDQFBj0EJn0INARTVydFqFhECyxWjC2TSFQIRCRa5b3oVA0uoSs2qBhkDmDldFpR2HQDEQEdO9sodAVWG6w3pAiEAghkZ4tsaIQI4TI0tfRYlAyK83kHe8iUAjEuaUFSyKQCUDCqBjlIpAfFz58Z/1ikDXa9HFJlCLQMph79ZUpItAMGHS5W3yi0D/5Y03tzqMQANioNR3fYxA1jzziPi6jEDk09rjg/OMQGx6FjhmJ41AfHnQm+1WjUD1D57oaYKNQIpyf7ssqo1AvcvfdInOjUDlO5U41e+NQCWw7qZfDo5AdIrcu1gqjkCS0QFl50OOQJKmtZUyW45AlikVR2FwjkDXeQN4moOOQJ21KS0FlY5AR/r2cMikjkBFZKBTC7OOQBwPIev0v45AYxU6U6zLjkDDkHKtWNaOQOGJGwMh4I5Ao6bOARHpjkA=",
          "dtype": "f8"
         }
        },
        {
         "type": "scatter",
         "x": {
          "_inputArray": {
           "0": 0,
           "1": 0.98989898989899,
           "10": 9.8989898989899,
           "11": 10.88888888888889,
           "12": 11.878787878787879,
           "13": 12.868686868686869,
           "14": 13.85858585858586,
           "15": 14.84848484848485,
           "16": 15.83838383838384,
           "17": 16.82828282828283,
           "18": 17.81818181818182,
           "19": 18.80808080808081,
           "2": 1.97979797979798,
           "20": 19.7979797979798,
           "21": 20.78787878787879,
           "22": 21.77777777777778,
           "23": 22.767676767676768,
           "24": 23.757575757575758,
           "25": 24.747474747474747,
           "26": 25.737373737373737,
           "27": 26.72727272727273,
           "28": 27.71717171717172,
           "29": 28.70707070707071,
           "3": 2.9696969696969697,
           "30": 29.6969696969697,
           "31": 30.68686868686869,
           "32": 31.67676767676768,
           "33": 32.66666666666667,
           "34": 33.65656565656566,
           "35": 34.64646464646465,
           "36": 35.63636363636364,
           "37": 36.62626262626263,
           "38": 37.61616161616162,
           "39": 38.60606060606061,
           "4": 3.95959595959596,
           "40": 39.5959595959596,
           "41": 40.58585858585859,
           "42": 41.57575757575758,
           "43": 42.56565656565657,
           "44": 43.55555555555556,
           "45": 44.54545454545455,
           "46": 45.535353535353536,
           "47": 46.525252525252526,
           "48": 47.515151515151516,
           "49": 48.505050505050505,
           "5": 4.94949494949495,
           "50": 49.494949494949495,
           "51": 50.484848484848484,
           "52": 51.474747474747474,
           "53": 52.464646464646464,
           "54": 53.45454545454546,
           "55": 54.44444444444445,
           "56": 55.43434343434344,
           "57": 56.42424242424243,
           "58": 57.41414141414142,
           "59": 58.40404040404041,
           "6": 5.9393939393939394,
           "60": 59.3939393939394,
           "61": 60.38383838383839,
           "62": 61.37373737373738,
           "63": 62.36363636363637,
           "64": 63.35353535353536,
           "65": 64.34343434343435,
           "66": 65.33333333333334,
           "67": 66.32323232323233,
           "68": 67.31313131313132,
           "69": 68.30303030303031,
           "7": 6.92929292929293,
           "70": 69.2929292929293,
           "71": 70.28282828282829,
           "72": 71.27272727272728,
           "73": 72.26262626262627,
           "74": 73.25252525252526,
           "75": 74.24242424242425,
           "76": 75.23232323232324,
           "77": 76.22222222222223,
           "78": 77.21212121212122,
           "79": 78.20202020202021,
           "8": 7.91919191919192,
           "80": 79.1919191919192,
           "81": 80.18181818181819,
           "82": 81.17171717171718,
           "83": 82.16161616161617,
           "84": 83.15151515151516,
           "85": 84.14141414141415,
           "86": 85.13131313131314,
           "87": 86.12121212121212,
           "88": 87.11111111111111,
           "89": 88.1010101010101,
           "9": 8.90909090909091,
           "90": 89.0909090909091,
           "91": 90.08080808080808,
           "92": 91.07070707070707,
           "93": 92.06060606060606,
           "94": 93.05050505050505,
           "95": 94.04040404040404,
           "96": 95.03030303030303,
           "97": 96.02020202020202,
           "98": 97.01010101010101,
           "99": 98,
           "bdata": "AAAAAAAAAAADtX6lQK3vPwO1fqVArf8/wgcffPDBB0ADtX6lQK0PQCIxb2dIzBNAwgcffPDBF0Bj3s6QmLcbQAO1fqVArR9A0kUXXXTRIUAiMW9nSMwjQHIcx3EcxyVAwgcffPDBJ0AS83aGxLwpQGPezpCYtytAs8kmm2yyLUADtX6lQK0vQCpQ61cK1DBA0kUXXXTRMUB6O0Ni3s4yQCIxb2dIzDNAyiabbLLJNEByHMdxHMc1QBoS83aGxDZAwgcffPDBN0Bq/UqBWr84QBLzdobEvDlAu+iiiy66OkBj3s6QmLc7QAvU+pUCtTxAs8kmm2yyPUBbv1Kg1q8+QAO1fqVArT9AVlVVVVVVQEAqUOtXCtRAQP5KgVq/UkFA0kUXXXTRQUCmQK1fKVBCQHo7Q2LezkJATjbZZJNNQ0AiMW9nSMxDQPYrBWr9SkRAyiabbLLJRECeITFvZ0hFQHIcx3Ecx0VARhdddNFFRkAaEvN2hsRGQO4MiXk7Q0dAwgcffPDBR0CWArV+pUBIQGr9SoFav0hAPvjggw8+SUAS83aGxLxJQObtDIl5O0pAu+iiiy66SkCP4ziO4zhLQGPezpCYt0tAN9lkk002TEAL1PqVArVMQN/OkJi3M01As8kmm2yyTUCHxLydITFOQFu/UqDWr05AL7rooosuT0ADtX6lQK1PQOxXCtT6FVBAVlVVVVVVUEDAUqDWr5RQQCpQ61cK1FBAlE022WQTUUD+SoFav1JRQGhIzNsZklFA0kUXXXTRUUA8Q2LezhBSQKZArV8pUFJAED744IOPUkB6O0Ni3s5SQOQ4juM4DlNATjbZZJNNU0C4MyTm7YxTQCIxb2dIzFNAjC666KILVED2KwVq/UpUQGApUOtXilRAyiabbLLJVEA0JObtDAlVQJ4hMW9nSFVACB988MGHVUByHMdxHMdVQNwZEvN2BlZARhdddNFFVkCwFKj1K4VWQBoS83aGxFZAhA8++OADV0DuDIl5O0NXQFgK1PqVgldAwgcffPDBV0AsBWr9SgFYQJYCtX6lQFhAAAAAAACAWEA=",
           "dtype": "f8",
           "shape": "100"
          },
          "bdata": "AAAAAAAAAAADtX6lQK3vPwO1fqVArf8/wgcffPDBB0ADtX6lQK0PQCIxb2dIzBNAwgcffPDBF0Bj3s6QmLcbQAO1fqVArR9A0kUXXXTRIUAiMW9nSMwjQHIcx3EcxyVAwgcffPDBJ0AS83aGxLwpQGPezpCYtytAs8kmm2yyLUADtX6lQK0vQCpQ61cK1DBA0kUXXXTRMUB6O0Ni3s4yQCIxb2dIzDNAyiabbLLJNEByHMdxHMc1QBoS83aGxDZAwgcffPDBN0Bq/UqBWr84QBLzdobEvDlAu+iiiy66OkBj3s6QmLc7QAvU+pUCtTxAs8kmm2yyPUBbv1Kg1q8+QAO1fqVArT9AVlVVVVVVQEAqUOtXCtRAQP5KgVq/UkFA0kUXXXTRQUCmQK1fKVBCQHo7Q2LezkJATjbZZJNNQ0AiMW9nSMxDQPYrBWr9SkRAyiabbLLJRECeITFvZ0hFQHIcx3Ecx0VARhdddNFFRkAaEvN2hsRGQO4MiXk7Q0dAwgcffPDBR0CWArV+pUBIQGr9SoFav0hAPvjggw8+SUAS83aGxLxJQObtDIl5O0pAu+iiiy66SkCP4ziO4zhLQGPezpCYt0tAN9lkk002TEAL1PqVArVMQN/OkJi3M01As8kmm2yyTUCHxLydITFOQFu/UqDWr05AL7rooosuT0ADtX6lQK1PQOxXCtT6FVBAVlVVVVVVUEDAUqDWr5RQQCpQ61cK1FBAlE022WQTUUD+SoFav1JRQGhIzNsZklFA0kUXXXTRUUA8Q2LezhBSQKZArV8pUFJAED744IOPUkB6O0Ni3s5SQOQ4juM4DlNATjbZZJNNU0C4MyTm7YxTQCIxb2dIzFNAjC666KILVED2KwVq/UpUQGApUOtXilRAyiabbLLJVEA0JObtDAlVQJ4hMW9nSFVACB988MGHVUByHMdxHMdVQNwZEvN2BlZARhdddNFFVkCwFKj1K4VWQBoS83aGxFZAhA8++OADV0DuDIl5O0NXQFgK1PqVgldAwgcffPDBV0AsBWr9SgFYQJYCtX6lQFhAAAAAAACAWEA=",
          "dtype": "f8"
         },
         "y": {
          "_inputArray": {
           "0": 6,
           "1": 6.620197811071559,
           "10": 15.983344067320933,
           "11": 17.61776639283923,
           "12": 19.415587473807516,
           "13": 21.391777559600882,
           "14": 23.56350556064459,
           "15": 25.949739461993587,
           "16": 28.571026000602572,
           "17": 31.449490665325975,
           "18": 34.608837696917945,
           "19": 38.07435008803239,
           "2": 7.304041208040677,
           "20": 41.872889583222936,
           "21": 46.03289667894294,
           "22": 50.5843906235455,
           "23": 55.558969417283464,
           "24": 60.98980981230939,
           "25": 66.90941860936516,
           "26": 73.34104856626918,
           "27": 80.3332951369568,
           "28": 87.93689382102687,
           "29": 96.1990824830769,
           "3": 8.058071195525647,
           "30": 105.16360135270295,
           "31": 114.8706930244997,
           "32": 125.35710245806041,
           "33": 136.6560769779769,
           "34": 148.79736627383966,
           "35": 161.80722240023766,
           "36": 175.7083997767586,
           "37": 190.52015518798862,
           "38": 206.25824778351264,
           "39": 222.93500430646128,
           "4": 8.889142827391659,
           "40": 240.5605283531874,
           "41": 259.12106664365865,
           "42": 278.58663624710096,
           "43": 298.9180205433015,
           "44": 320.0667692226084,
           "45": 341.9751982859308,
           "46": 364.5763900447387,
           "47": 387.79419312106336,
           "48": 411.543222447497,
           "49": 435.7288592671927,
           "5": 9.804866719733958,
           "50": 460.2472511338647,
           "51": 484.98531191178824,
           "52": 509.8207217757997,
           "53": 534.6219272112962,
           "54": 559.2481410142362,
           "55": 583.5493422911387,
           "56": 607.3877766192516,
           "57": 630.7006983287808,
           "58": 653.4087568213904,
           "59": 675.4382555033881,
           "6": 10.813763523153462,
           "60": 696.7245143282955,
           "61": 717.2118697968476,
           "62": 736.8536749569928,
           "63": 755.6122994038927,
           "64": 773.4591292799226,
           "65": 790.3745672746713,
           "66": 806.3480326249405,
           "67": 821.3779611147459,
           "68": 835.4718050753162,
           "69": 848.6460333850939,
           "7": 11.925263922756782,
           "70": 860.9261314697349,
           "71": 872.3466013021081,
           "72": 882.9509614022961,
           "73": 892.7916036903811,
           "74": 901.911720165085,
           "75": 910.3432499544205,
           "76": 918.122057151389,
           "77": 925.2840767382286,
           "78": 931.8653145864143,
           "79": 937.9018474566582,
           "8": 13.149708638156206,
           "80": 943.429822998909,
           "81": 948.4854597523524,
           "82": 953.1050471454112,
           "83": 957.3249454957446,
           "84": 961.181586010249,
           "85": 964.7109027604606,
           "86": 967.9396271046475,
           "87": 970.8872961142007,
           "88": 973.5730304602698,
           "89": 976.0156547014087,
           "9": 14.498348423469707,
           "90": 978.2336972835753,
           "91": 980.2453905401319,
           "92": 982.0686706918449,
           "93": 983.7211778468849,
           "94": 985.2202560008268,
           "95": 986.5829530366498,
           "96": 987.826020724737,
           "97": 988.9606303846031,
           "98": 989.9906552711664,
           "99": 990.9254505196151,
           "bdata": "AAAAAAAAGECcaY4iFXsaQCWvFJRWNx1Amz77gbsdIECEPYq6PcchQNTKnX0XnCNAZD7NnKWgJUBv0WAxvNknQISeUZymTCpAkKFJhif/LEDTt6PfePcvQPjPNfAlnjFAa6HQ8GNqM0Dgyr2IS2Q1QCkVguZBkDdArPsYICLzOUD0wI3CLpI8QK5u+9ERcz9A0mrGZO5NQUDkRr5NhAlDQBV7iti670RAfRpY9TUER0DGG9xPzUpJQCxZU0+Mx0tAepCCFrJ+TkA4ZhzqM7pQQFOeXb3TVVJATUkgtVQVVECiSIAR9vtVQGSBdMS9DFhAMtzOcXhKWkA4RTxvubdcQDSsRMTaVl9AOIIllf4UYUBkokYGhJliQNIzEsTUOWRAgDUCNqv2ZUAwKH4cpdBnQHEO25BDyGlA2rsmjuvda0B2LSjZ7xFuQGiyk+PvMXBAJn+w3GJpcUCUKE82sK5yQLi3mnwRAXRAApOEaZpfdUBIfsTkOMl2QM6a2AO1PHhAPmcFCrG4eUCrv1VoqTt7QJHdmr30w3xA1lds1sNPfkDMIiitId1/QBRI+bT5tIBAhydbMfx5gUABNpINZTyCQLbOoCoa+4JAzrO5B5u1g0Ac30siRWuEQMDyGYyBG4VAGgwrzsvFhUDEw8rosWmGQJYtiVPUBodAo9g6/eWch0A7z/hLrCuIQOyWIB3/sohAfDBUxcgyiUDyF3oQBquJQI9EvUHGG4pA0iiNEyuFikB2sp23aOeKQHFK59bFQotA9tSmkZuXi0CjzFA0VeaLQCYh8TNLL4xAtwTV+b5yjECrixn5+bCMQPhhBspF6oxANssNKuwejUCfosz7Nk+NQBBbCkdwe41ABv+4OOKjjUCiMPUi18iNQKUpBn2Z6o1Acrtd43MJjkCEVsntryWOQCsnN1uEP45A4YK0LhlXjkDEc/6QlWyOQKJ0kg8ggI5A9nCunN6RjkDqxFCP9qGOQFc9OKOMsI5Awxfk+MS9jkBkApQVw8mOQB4cSOOp1I5AgvTAsJvejkBQq/ter+eOQCi6q9zs745AgR6aUmf3jkA=",
           "dtype": "f8",
           "shape": "100"
          },
          "bdata": "AAAAAAAAGECcaY4iFXsaQCWvFJRWNx1Amz77gbsdIECEPYq6PcchQNTKnX0XnCNAZD7NnKWgJUBv0WAxvNknQISeUZymTCpAkKFJhif/LEDTt6PfePcvQPjPNfAlnjFAa6HQ8GNqM0Dgyr2IS2Q1QCkVguZBkDdArPsYICLzOUD0wI3CLpI8QK5u+9ERcz9A0mrGZO5NQUDkRr5NhAlDQBV7iti670RAfRpY9TUER0DGG9xPzUpJQCxZU0+Mx0tAepCCFrJ+TkA4ZhzqM7pQQFOeXb3TVVJATUkgtVQVVECiSIAR9vtVQGSBdMS9DFhAMtzOcXhKWkA4RTxvubdcQDSsRMTaVl9AOIIllf4UYUBkokYGhJliQNIzEsTUOWRAgDUCNqv2ZUAwKH4cpdBnQHEO25BDyGlA2rsmjuvda0B2LSjZ7xFuQGiyk+PvMXBAJn+w3GJpcUCUKE82sK5yQLi3mnwRAXRAApOEaZpfdUBIfsTkOMl2QM6a2AO1PHhAPmcFCrG4eUCrv1VoqTt7QJHdmr30w3xA1lds1sNPfkDMIiitId1/QBRI+bT5tIBAhydbMfx5gUABNpINZTyCQLbOoCoa+4JAzrO5B5u1g0Ac30siRWuEQMDyGYyBG4VAGgwrzsvFhUDEw8rosWmGQJYtiVPUBodAo9g6/eWch0A7z/hLrCuIQOyWIB3/sohAfDBUxcgyiUDyF3oQBquJQI9EvUHGG4pA0iiNEyuFikB2sp23aOeKQHFK59bFQotA9tSmkZuXi0CjzFA0VeaLQCYh8TNLL4xAtwTV+b5yjECrixn5+bCMQPhhBspF6oxANssNKuwejUCfosz7Nk+NQBBbCkdwe41ABv+4OOKjjUCiMPUi18iNQKUpBn2Z6o1Acrtd43MJjkCEVsntryWOQCsnN1uEP45A4YK0LhlXjkDEc/6QlWyOQKJ0kg8ggI5A9nCunN6RjkDqxFCP9qGOQFc9OKOMsI5Awxfk+MS9jkBkApQVw8mOQB4cSOOp1I5AgvTAsJvejkBQq/ter+eOQCi6q9zs745AgR6aUmf3jkA=",
          "dtype": "f8"
         }
        },
        {
         "type": "scatter",
         "x": {
          "_inputArray": {
           "0": 0,
           "1": 0.98989898989899,
           "10": 9.8989898989899,
           "11": 10.88888888888889,
           "12": 11.878787878787879,
           "13": 12.868686868686869,
           "14": 13.85858585858586,
           "15": 14.84848484848485,
           "16": 15.83838383838384,
           "17": 16.82828282828283,
           "18": 17.81818181818182,
           "19": 18.80808080808081,
           "2": 1.97979797979798,
           "20": 19.7979797979798,
           "21": 20.78787878787879,
           "22": 21.77777777777778,
           "23": 22.767676767676768,
           "24": 23.757575757575758,
           "25": 24.747474747474747,
           "26": 25.737373737373737,
           "27": 26.72727272727273,
           "28": 27.71717171717172,
           "29": 28.70707070707071,
           "3": 2.9696969696969697,
           "30": 29.6969696969697,
           "31": 30.68686868686869,
           "32": 31.67676767676768,
           "33": 32.66666666666667,
           "34": 33.65656565656566,
           "35": 34.64646464646465,
           "36": 35.63636363636364,
           "37": 36.62626262626263,
           "38": 37.61616161616162,
           "39": 38.60606060606061,
           "4": 3.95959595959596,
           "40": 39.5959595959596,
           "41": 40.58585858585859,
           "42": 41.57575757575758,
           "43": 42.56565656565657,
           "44": 43.55555555555556,
           "45": 44.54545454545455,
           "46": 45.535353535353536,
           "47": 46.525252525252526,
           "48": 47.515151515151516,
           "49": 48.505050505050505,
           "5": 4.94949494949495,
           "50": 49.494949494949495,
           "51": 50.484848484848484,
           "52": 51.474747474747474,
           "53": 52.464646464646464,
           "54": 53.45454545454546,
           "55": 54.44444444444445,
           "56": 55.43434343434344,
           "57": 56.42424242424243,
           "58": 57.41414141414142,
           "59": 58.40404040404041,
           "6": 5.9393939393939394,
           "60": 59.3939393939394,
           "61": 60.38383838383839,
           "62": 61.37373737373738,
           "63": 62.36363636363637,
           "64": 63.35353535353536,
           "65": 64.34343434343435,
           "66": 65.33333333333334,
           "67": 66.32323232323233,
           "68": 67.31313131313132,
           "69": 68.30303030303031,
           "7": 6.92929292929293,
           "70": 69.2929292929293,
           "71": 70.28282828282829,
           "72": 71.27272727272728,
           "73": 72.26262626262627,
           "74": 73.25252525252526,
           "75": 74.24242424242425,
           "76": 75.23232323232324,
           "77": 76.22222222222223,
           "78": 77.21212121212122,
           "79": 78.20202020202021,
           "8": 7.91919191919192,
           "80": 79.1919191919192,
           "81": 80.18181818181819,
           "82": 81.17171717171718,
           "83": 82.16161616161617,
           "84": 83.15151515151516,
           "85": 84.14141414141415,
           "86": 85.13131313131314,
           "87": 86.12121212121212,
           "88": 87.11111111111111,
           "89": 88.1010101010101,
           "9": 8.90909090909091,
           "90": 89.0909090909091,
           "91": 90.08080808080808,
           "92": 91.07070707070707,
           "93": 92.06060606060606,
           "94": 93.05050505050505,
           "95": 94.04040404040404,
           "96": 95.03030303030303,
           "97": 96.02020202020202,
           "98": 97.01010101010101,
           "99": 98,
           "bdata": "AAAAAAAAAAADtX6lQK3vPwO1fqVArf8/wgcffPDBB0ADtX6lQK0PQCIxb2dIzBNAwgcffPDBF0Bj3s6QmLcbQAO1fqVArR9A0kUXXXTRIUAiMW9nSMwjQHIcx3EcxyVAwgcffPDBJ0AS83aGxLwpQGPezpCYtytAs8kmm2yyLUADtX6lQK0vQCpQ61cK1DBA0kUXXXTRMUB6O0Ni3s4yQCIxb2dIzDNAyiabbLLJNEByHMdxHMc1QBoS83aGxDZAwgcffPDBN0Bq/UqBWr84QBLzdobEvDlAu+iiiy66OkBj3s6QmLc7QAvU+pUCtTxAs8kmm2yyPUBbv1Kg1q8+QAO1fqVArT9AVlVVVVVVQEAqUOtXCtRAQP5KgVq/UkFA0kUXXXTRQUCmQK1fKVBCQHo7Q2LezkJATjbZZJNNQ0AiMW9nSMxDQPYrBWr9SkRAyiabbLLJRECeITFvZ0hFQHIcx3Ecx0VARhdddNFFRkAaEvN2hsRGQO4MiXk7Q0dAwgcffPDBR0CWArV+pUBIQGr9SoFav0hAPvjggw8+SUAS83aGxLxJQObtDIl5O0pAu+iiiy66SkCP4ziO4zhLQGPezpCYt0tAN9lkk002TEAL1PqVArVMQN/OkJi3M01As8kmm2yyTUCHxLydITFOQFu/UqDWr05AL7rooosuT0ADtX6lQK1PQOxXCtT6FVBAVlVVVVVVUEDAUqDWr5RQQCpQ61cK1FBAlE022WQTUUD+SoFav1JRQGhIzNsZklFA0kUXXXTRUUA8Q2LezhBSQKZArV8pUFJAED744IOPUkB6O0Ni3s5SQOQ4juM4DlNATjbZZJNNU0C4MyTm7YxTQCIxb2dIzFNAjC666KILVED2KwVq/UpUQGApUOtXilRAyiabbLLJVEA0JObtDAlVQJ4hMW9nSFVACB988MGHVUByHMdxHMdVQNwZEvN2BlZARhdddNFFVkCwFKj1K4VWQBoS83aGxFZAhA8++OADV0DuDIl5O0NXQFgK1PqVgldAwgcffPDBV0AsBWr9SgFYQJYCtX6lQFhAAAAAAACAWEA=",
           "dtype": "f8",
           "shape": "100"
          },
          "bdata": "AAAAAAAAAAADtX6lQK3vPwO1fqVArf8/wgcffPDBB0ADtX6lQK0PQCIxb2dIzBNAwgcffPDBF0Bj3s6QmLcbQAO1fqVArR9A0kUXXXTRIUAiMW9nSMwjQHIcx3EcxyVAwgcffPDBJ0AS83aGxLwpQGPezpCYtytAs8kmm2yyLUADtX6lQK0vQCpQ61cK1DBA0kUXXXTRMUB6O0Ni3s4yQCIxb2dIzDNAyiabbLLJNEByHMdxHMc1QBoS83aGxDZAwgcffPDBN0Bq/UqBWr84QBLzdobEvDlAu+iiiy66OkBj3s6QmLc7QAvU+pUCtTxAs8kmm2yyPUBbv1Kg1q8+QAO1fqVArT9AVlVVVVVVQEAqUOtXCtRAQP5KgVq/UkFA0kUXXXTRQUCmQK1fKVBCQHo7Q2LezkJATjbZZJNNQ0AiMW9nSMxDQPYrBWr9SkRAyiabbLLJRECeITFvZ0hFQHIcx3Ecx0VARhdddNFFRkAaEvN2hsRGQO4MiXk7Q0dAwgcffPDBR0CWArV+pUBIQGr9SoFav0hAPvjggw8+SUAS83aGxLxJQObtDIl5O0pAu+iiiy66SkCP4ziO4zhLQGPezpCYt0tAN9lkk002TEAL1PqVArVMQN/OkJi3M01As8kmm2yyTUCHxLydITFOQFu/UqDWr05AL7rooosuT0ADtX6lQK1PQOxXCtT6FVBAVlVVVVVVUEDAUqDWr5RQQCpQ61cK1FBAlE022WQTUUD+SoFav1JRQGhIzNsZklFA0kUXXXTRUUA8Q2LezhBSQKZArV8pUFJAED744IOPUkB6O0Ni3s5SQOQ4juM4DlNATjbZZJNNU0C4MyTm7YxTQCIxb2dIzFNAjC666KILVED2KwVq/UpUQGApUOtXilRAyiabbLLJVEA0JObtDAlVQJ4hMW9nSFVACB988MGHVUByHMdxHMdVQNwZEvN2BlZARhdddNFFVkCwFKj1K4VWQBoS83aGxFZAhA8++OADV0DuDIl5O0NXQFgK1PqVgldAwgcffPDBV0AsBWr9SgFYQJYCtX6lQFhAAAAAAACAWEA=",
          "dtype": "f8"
         },
         "y": {
          "_inputArray": {
           "0": 7,
           "1": 7.722761020017725,
           "10": 18.616120039098924,
           "11": 20.514133986172432,
           "12": 22.60070766984908,
           "13": 24.892518181000234,
           "14": 27.409214126143645,
           "15": 30.172577588400536,
           "16": 33.20594446623316,
           "17": 36.53420447344479,
           "18": 40.18380113917967,
           "19": 44.18273180792309,
           "2": 8.519517187691545,
           "20": 48.56054763950134,
           "21": 53.348353609081684,
           "22": 58.57880850717247,
           "23": 64.28612493962297,
           "24": 70.50606932762352,
           "25": 77.27383447398701,
           "26": 84.61098581274129,
           "27": 92.56849665251262,
           "28": 101.20063703256895,
           "29": 110.5564767284194,
           "3": 9.397814725485576,
           "30": 120.67988525181427,
           "31": 131.609531850745,
           "32": 143.37888550944407,
           "33": 156.01621494838537,
           "34": 169.54458862428368,
           "35": 183.981874730095,
           "36": 199.34074119501656,
           "37": 215.62865568448657,
           "38": 232.8478856001847,
           "39": 250.99549808003144,
           "4": 10.365594412884185,
           "40": 270.0769919712877,
           "41": 290.0699709403908,
           "42": 310.9125710874757,
           "43": 332.5371197150252,
           "44": 354.8702427998304,
           "45": 377.83286499299084,
           "46": 401.3402096199145,
           "47": 425.30179868031775,
           "48": 449.6214528482253,
           "49": 474.1972914719704,
           "5": 11.431660932962295,
           "50": 498.92173257419455,
           "51": 523.6814928518477,
           "52": 548.3575876761881,
           "53": 572.8253310927828,
           "54": 596.9543358215069,
           "55": 620.6085132565438,
           "56": 643.647997841309,
           "57": 666.000809909923,
           "58": 687.6224140077488,
           "59": 708.4598286213572,
           "6": 12.605842684622418,
           "60": 728.467870391016,
           "61": 747.6091541106903,
           "62": 765.8540927280421,
           "63": 783.180897344431,
           "64": 799.5755772149132,
           "65": 815.0319397482428,
           "66": 829.5515905068705,
           "67": 843.1439332069444,
           "68": 855.8261697183098,
           "69": 867.6233000645092,
           "7": 13.898991782594658,
           "70": 878.568122422782,
           "71": 888.7012331240653,
           "72": 898.0710266529928,
           "73": 906.733695647896,
           "74": 914.7532076093393,
           "75": 922.1709376845946,
           "76": 929.0061307820739,
           "77": 935.2912221213428,
           "78": 941.0585307669252,
           "79": 946.3402596283036,
           "8": 15.322984057436702,
           "80": 951.1684954599189,
           "81": 955.5752088611705,
           "82": 959.5922542764163,
           "83": 963.2513699949727,
           "84": 966.5841781511147,
           "85": 969.6221847240755,
           "86": 972.396779538047,
           "87": 974.9362677017285,
           "88": 977.2562887497764,
           "89": 979.3707081133851,
           "9": 16.890719055533836,
           "90": 981.2933850360381,
           "91": 983.0380823367578,
           "92": 984.6184664101065,
           "93": 986.0481072261856,
           "94": 987.3404783306363,
           "95": 988.5089568446391,
           "96": 989.5668234649139,
           "97": 990.5272624637203,
           "98": 991.403361688857,
           "99": 992.2060671123357,
           "bdata": "AAAAAAAAHEDsMv92G+QeQK6wJSj+CSFA0acnX67LIkA04N0wL7skQFwRbKkC3SZAwfIpAzE2KUDNO6OmSMwrQNqjlypepS5AHHH9KQbkMEASV/oKup0yQGpf8EiegzRASnVU+seZNkA+e04SfOQ4QCLZyEHCaDtA7jN6Cy4sPkC+oWVjXJpAQEBp689gREJAQ9+0y4YXRED8e4HBYxdGQA7BaQbAR0hAhjnf2ZasSkDmeaxlFkpNQAqQ+t5PElBAtumacGOgUUCpkgeBhlFTQM4CPWQaJ1VAV5vIP2IkV0ACULU810xZQPhikVCdo1tAzWRuPYMrXkA+mvBIgXNgQLP/gNQf7GFAsCA21YSAY0BOYh9FbTFlQNzQjYRr/2ZA4B8UWufqaEAPqobyHfRqQF1x++AhG21A6B7KHttfb0DE6+5bO+FwQGJK2ZkeIXJAvP8j5Jluc0AfodcKmMh0QJ7NtoPsLXZAEC4+alOdd0AUdaR/cRV5QA1f2irUlHpAJLKKePEZfEBIPhobKKN9QC3dp2q/Ln9AJjmGsnNdgEByde1W3CKBQP4eMEea5oFAMLbReqKngkBOwDI83mSDQGgCfhkvHYRADkWgqAHQhEDU/jG0+nyFQPTToLqtI4ZAcuHUMr7DhkAcvTCM31yHQIp1kS7V7odAHZJOenJ5iEAAEzrImvyIQCpxoGlBeIlAWJ5IqGnsiUAUBXTGJlmKQLCI3v6bvopAS4W+hPwci0DJz8SDi3SLQNy1HCCcxYtA/f1rdpEQjEBy59Kb3lWMQK8JtpEGloxA56eTFF7RjEANpEuODAiNQFB4Q2xUOo1AB4763ndojUC0PQrauJKNQALPJRRZuY1AxngaB5rcjUD+YM/vvPyNQNScRc4CGo5AmjCYZaw0jkDND/w7+kyOQBIdwJosY45AzbnreX13jkD7tB3hDIqOQM+60DX3mo5AW/dA2liqjkBxtxz+TbiOQKhohJ7yxI5AWZkKhmLQjkCj+LNMudqOQGdW91cS5I5ASaO92ojsjkCy8GHVN/SOQM1wsRU6+45AG6KDBqYBj0A=",
           "dtype": "f8",
           "shape": "100"
          },
          "bdata": "AAAAAAAAHEDsMv92G+QeQK6wJSj+CSFA0acnX67LIkA04N0wL7skQFwRbKkC3SZAwfIpAzE2KUDNO6OmSMwrQNqjlypepS5AHHH9KQbkMEASV/oKup0yQGpf8EiegzRASnVU+seZNkA+e04SfOQ4QCLZyEHCaDtA7jN6Cy4sPkC+oWVjXJpAQEBp689gREJAQ9+0y4YXRED8e4HBYxdGQA7BaQbAR0hAhjnf2ZasSkDmeaxlFkpNQAqQ+t5PElBAtumacGOgUUCpkgeBhlFTQM4CPWQaJ1VAV5vIP2IkV0ACULU810xZQPhikVCdo1tAzWRuPYMrXkA+mvBIgXNgQLP/gNQf7GFAsCA21YSAY0BOYh9FbTFlQNzQjYRr/2ZA4B8UWufqaEAPqobyHfRqQF1x++AhG21A6B7KHttfb0DE6+5bO+FwQGJK2ZkeIXJAvP8j5Jluc0AfodcKmMh0QJ7NtoPsLXZAEC4+alOdd0AUdaR/cRV5QA1f2irUlHpAJLKKePEZfEBIPhobKKN9QC3dp2q/Ln9AJjmGsnNdgEByde1W3CKBQP4eMEea5oFAMLbReqKngkBOwDI83mSDQGgCfhkvHYRADkWgqAHQhEDU/jG0+nyFQPTToLqtI4ZAcuHUMr7DhkAcvTCM31yHQIp1kS7V7odAHZJOenJ5iEAAEzrImvyIQCpxoGlBeIlAWJ5IqGnsiUAUBXTGJlmKQLCI3v6bvopAS4W+hPwci0DJz8SDi3SLQNy1HCCcxYtA/f1rdpEQjEBy59Kb3lWMQK8JtpEGloxA56eTFF7RjEANpEuODAiNQFB4Q2xUOo1AB4763ndojUC0PQrauJKNQALPJRRZuY1AxngaB5rcjUD+YM/vvPyNQNScRc4CGo5AmjCYZaw0jkDND/w7+kyOQBIdwJosY45AzbnreX13jkD7tB3hDIqOQM+60DX3mo5AW/dA2liqjkBxtxz+TbiOQKhohJ7yxI5AWZkKhmLQjkCj+LNMudqOQGdW91cS5I5ASaO92ojsjkCy8GHVN/SOQM1wsRU6+45AG6KDBqYBj0A=",
          "dtype": "f8"
         }
        },
        {
         "type": "scatter",
         "x": {
          "_inputArray": {
           "0": 0,
           "1": 0.98989898989899,
           "10": 9.8989898989899,
           "11": 10.88888888888889,
           "12": 11.878787878787879,
           "13": 12.868686868686869,
           "14": 13.85858585858586,
           "15": 14.84848484848485,
           "16": 15.83838383838384,
           "17": 16.82828282828283,
           "18": 17.81818181818182,
           "19": 18.80808080808081,
           "2": 1.97979797979798,
           "20": 19.7979797979798,
           "21": 20.78787878787879,
           "22": 21.77777777777778,
           "23": 22.767676767676768,
           "24": 23.757575757575758,
           "25": 24.747474747474747,
           "26": 25.737373737373737,
           "27": 26.72727272727273,
           "28": 27.71717171717172,
           "29": 28.70707070707071,
           "3": 2.9696969696969697,
           "30": 29.6969696969697,
           "31": 30.68686868686869,
           "32": 31.67676767676768,
           "33": 32.66666666666667,
           "34": 33.65656565656566,
           "35": 34.64646464646465,
           "36": 35.63636363636364,
           "37": 36.62626262626263,
           "38": 37.61616161616162,
           "39": 38.60606060606061,
           "4": 3.95959595959596,
           "40": 39.5959595959596,
           "41": 40.58585858585859,
           "42": 41.57575757575758,
           "43": 42.56565656565657,
           "44": 43.55555555555556,
           "45": 44.54545454545455,
           "46": 45.535353535353536,
           "47": 46.525252525252526,
           "48": 47.515151515151516,
           "49": 48.505050505050505,
           "5": 4.94949494949495,
           "50": 49.494949494949495,
           "51": 50.484848484848484,
           "52": 51.474747474747474,
           "53": 52.464646464646464,
           "54": 53.45454545454546,
           "55": 54.44444444444445,
           "56": 55.43434343434344,
           "57": 56.42424242424243,
           "58": 57.41414141414142,
           "59": 58.40404040404041,
           "6": 5.9393939393939394,
           "60": 59.3939393939394,
           "61": 60.38383838383839,
           "62": 61.37373737373738,
           "63": 62.36363636363637,
           "64": 63.35353535353536,
           "65": 64.34343434343435,
           "66": 65.33333333333334,
           "67": 66.32323232323233,
           "68": 67.31313131313132,
           "69": 68.30303030303031,
           "7": 6.92929292929293,
           "70": 69.2929292929293,
           "71": 70.28282828282829,
           "72": 71.27272727272728,
           "73": 72.26262626262627,
           "74": 73.25252525252526,
           "75": 74.24242424242425,
           "76": 75.23232323232324,
           "77": 76.22222222222223,
           "78": 77.21212121212122,
           "79": 78.20202020202021,
           "8": 7.91919191919192,
           "80": 79.1919191919192,
           "81": 80.18181818181819,
           "82": 81.17171717171718,
           "83": 82.16161616161617,
           "84": 83.15151515151516,
           "85": 84.14141414141415,
           "86": 85.13131313131314,
           "87": 86.12121212121212,
           "88": 87.11111111111111,
           "89": 88.1010101010101,
           "9": 8.90909090909091,
           "90": 89.0909090909091,
           "91": 90.08080808080808,
           "92": 91.07070707070707,
           "93": 92.06060606060606,
           "94": 93.05050505050505,
           "95": 94.04040404040404,
           "96": 95.03030303030303,
           "97": 96.02020202020202,
           "98": 97.01010101010101,
           "99": 98,
           "bdata": "AAAAAAAAAAADtX6lQK3vPwO1fqVArf8/wgcffPDBB0ADtX6lQK0PQCIxb2dIzBNAwgcffPDBF0Bj3s6QmLcbQAO1fqVArR9A0kUXXXTRIUAiMW9nSMwjQHIcx3EcxyVAwgcffPDBJ0AS83aGxLwpQGPezpCYtytAs8kmm2yyLUADtX6lQK0vQCpQ61cK1DBA0kUXXXTRMUB6O0Ni3s4yQCIxb2dIzDNAyiabbLLJNEByHMdxHMc1QBoS83aGxDZAwgcffPDBN0Bq/UqBWr84QBLzdobEvDlAu+iiiy66OkBj3s6QmLc7QAvU+pUCtTxAs8kmm2yyPUBbv1Kg1q8+QAO1fqVArT9AVlVVVVVVQEAqUOtXCtRAQP5KgVq/UkFA0kUXXXTRQUCmQK1fKVBCQHo7Q2LezkJATjbZZJNNQ0AiMW9nSMxDQPYrBWr9SkRAyiabbLLJRECeITFvZ0hFQHIcx3Ecx0VARhdddNFFRkAaEvN2hsRGQO4MiXk7Q0dAwgcffPDBR0CWArV+pUBIQGr9SoFav0hAPvjggw8+SUAS83aGxLxJQObtDIl5O0pAu+iiiy66SkCP4ziO4zhLQGPezpCYt0tAN9lkk002TEAL1PqVArVMQN/OkJi3M01As8kmm2yyTUCHxLydITFOQFu/UqDWr05AL7rooosuT0ADtX6lQK1PQOxXCtT6FVBAVlVVVVVVUEDAUqDWr5RQQCpQ61cK1FBAlE022WQTUUD+SoFav1JRQGhIzNsZklFA0kUXXXTRUUA8Q2LezhBSQKZArV8pUFJAED744IOPUkB6O0Ni3s5SQOQ4juM4DlNATjbZZJNNU0C4MyTm7YxTQCIxb2dIzFNAjC666KILVED2KwVq/UpUQGApUOtXilRAyiabbLLJVEA0JObtDAlVQJ4hMW9nSFVACB988MGHVUByHMdxHMdVQNwZEvN2BlZARhdddNFFVkCwFKj1K4VWQBoS83aGxFZAhA8++OADV0DuDIl5O0NXQFgK1PqVgldAwgcffPDBV0AsBWr9SgFYQJYCtX6lQFhAAAAAAACAWEA=",
           "dtype": "f8",
           "shape": "100"
          },
          "bdata": "AAAAAAAAAAADtX6lQK3vPwO1fqVArf8/wgcffPDBB0ADtX6lQK0PQCIxb2dIzBNAwgcffPDBF0Bj3s6QmLcbQAO1fqVArR9A0kUXXXTRIUAiMW9nSMwjQHIcx3EcxyVAwgcffPDBJ0AS83aGxLwpQGPezpCYtytAs8kmm2yyLUADtX6lQK0vQCpQ61cK1DBA0kUXXXTRMUB6O0Ni3s4yQCIxb2dIzDNAyiabbLLJNEByHMdxHMc1QBoS83aGxDZAwgcffPDBN0Bq/UqBWr84QBLzdobEvDlAu+iiiy66OkBj3s6QmLc7QAvU+pUCtTxAs8kmm2yyPUBbv1Kg1q8+QAO1fqVArT9AVlVVVVVVQEAqUOtXCtRAQP5KgVq/UkFA0kUXXXTRQUCmQK1fKVBCQHo7Q2LezkJATjbZZJNNQ0AiMW9nSMxDQPYrBWr9SkRAyiabbLLJRECeITFvZ0hFQHIcx3Ecx0VARhdddNFFRkAaEvN2hsRGQO4MiXk7Q0dAwgcffPDBR0CWArV+pUBIQGr9SoFav0hAPvjggw8+SUAS83aGxLxJQObtDIl5O0pAu+iiiy66SkCP4ziO4zhLQGPezpCYt0tAN9lkk002TEAL1PqVArVMQN/OkJi3M01As8kmm2yyTUCHxLydITFOQFu/UqDWr05AL7rooosuT0ADtX6lQK1PQOxXCtT6FVBAVlVVVVVVUEDAUqDWr5RQQCpQ61cK1FBAlE022WQTUUD+SoFav1JRQGhIzNsZklFA0kUXXXTRUUA8Q2LezhBSQKZArV8pUFJAED744IOPUkB6O0Ni3s5SQOQ4juM4DlNATjbZZJNNU0C4MyTm7YxTQCIxb2dIzFNAjC666KILVED2KwVq/UpUQGApUOtXilRAyiabbLLJVEA0JObtDAlVQJ4hMW9nSFVACB988MGHVUByHMdxHMdVQNwZEvN2BlZARhdddNFFVkCwFKj1K4VWQBoS83aGxFZAhA8++OADV0DuDIl5O0NXQFgK1PqVgldAwgcffPDBV0AsBWr9SgFYQJYCtX6lQFhAAAAAAACAWEA=",
          "dtype": "f8"
         },
         "y": {
          "_inputArray": {
           "0": 8,
           "1": 8.8250949647071,
           "10": 21.240124996985124,
           "11": 23.39927191797929,
           "12": 25.771576509295752,
           "13": 28.375238444390714,
           "14": 31.232247458133912,
           "15": 34.367099343618335,
           "16": 37.80575446622001,
           "17": 41.57563776359797,
           "18": 45.705638745694216,
           "19": 50.22611149473383,
           "2": 9.734461494484345,
           "20": 55.168874665224834,
           "21": 60.56721148395832,
           "22": 66.45586975000835,
           "23": 72.871061834732,
           "24": 79.85046468176937,
           "25": 87.43142552828226,
           "26": 95.63359624977019,
           "27": 104.50837614432263,
           "28": 114.11219283137252,
           "29": 124.49463287187297,
           "3": 10.736627401229159,
           "30": 135.698441768297,
           "31": 147.75952396463765,
           "32": 160.70694284640803,
           "33": 174.5629207406412,
           "34": 189.34283891589018,
           "35": 205.05523758222813,
           "36": 221.7018158912481,
           "37": 239.27743193606315,
           "38": 257.77010275130647,
           "39": 277.1610043131311,
           "4": 11.840603001604983,
           "40": 297.44075817811677,
           "41": 318.58888174054266,
           "42": 340.51747748589787,
           "43": 363.13413857386234,
           "44": 386.34429882259985,
           "45": 410.0512327087573,
           "46": 434.1560553674655,
           "47": 458.55772259233856,
           "48": 483.1530308354742,
           "49": 507.83661720745374,
           "5": 13.056366176343838,
           "50": 532.500959477342,
           "51": 557.0363760726871,
           "52": 581.3310260795212,
           "53": 605.2709092423593,
           "54": 628.7398659642008,
           "55": 651.6195773065278,
           "56": 673.7895649893064,
           "57": 695.1641938252006,
           "58": 715.7366114985554,
           "59": 735.4687404638953,
           "6": 14.395021999118892,
           "60": 754.3278546984129,
           "61": 772.2881261979018,
           "62": 789.3306249767568,
           "63": 805.4433190679742,
           "64": 820.6210745231515,
           "65": 834.8656554124874,
           "66": 848.1857238247818,
           "67": 860.5968398674361,
           "68": 872.1214616664528,
           "69": 882.7889453664358,
           "7": 15.868802736544485,
           "70": 892.6355451305901,
           "71": 901.7044131407223,
           "72": 910.04559959724,
           "73": 917.7160527191519,
           "74": 924.7796187440684,
           "75": 931.307041928201,
           "76": 937.3680967863762,
           "77": 942.9698339537721,
           "78": 948.1256593549716,
           "79": 952.856510311492,
           "8": 17.491067848176097,
           "80": 957.184065334014,
           "81": 961.1307441223822,
           "82": 964.7197075656045,
           "83": 967.9748577418522,
           "84": 970.9208379184606,
           "85": 973.5830325519282,
           "86": 975.9875672879173,
           "87": 978.1613089612534,
           "88": 980.1318655959259,
           "89": 981.9275864050877,
           "9": 19.276303986510374,
           "90": 983.5775617910551,
           "91": 985.1010532660863,
           "92": 986.4879684083031,
           "93": 987.7476326774445,
           "94": 988.8906598252373,
           "95": 989.9271767080818,
           "96": 990.8668232870508,
           "97": 991.7187526278902,
           "98": 992.4916309010189,
           "99": 993.1936373815286,
           "bdata": "AAAAAAAAIEDFBePYcqYhQI32RVYLeCNAwTsLOid5JUAsoEGEY64nQKX+BwfcHCpAFtXOUkDKLECKRFi207wvQI8IXJ+2fTFABdGp27tGM0DSAPHUeD01QKjuNa82ZjdAf8nBCYbFOUAr3G6gD2A8QKhDxZF0Oz9Appx9HP0uQUCsglz2IudCQHh/jH+uyURACMbTXlLaRkDUkLE48RxJQL4hXq+dlUtAIMLKYppITkBh4VD4LJ1QQO89I3q/N1JAj6ZqA272U0BwqNF5nNtVQGboSNeM6FdAqnsYPIkgWkDNZdcqLodcQCQOohCoH19A3x+Noln2YEC0lDMFTnhiQNaumkafFmRAaWlbcgPSZUBscVGJ+KpnQMIlm4HEoWlAKJeZRnW2a0A7iPC44OhtQLw2Q1dSHHBAnDZCeZNScUBMh3JYDZdyQHqNQg9s6XNAkOV4lkdIdUDvPX1uJbJ2QOJxez+CJXhAkolj2dGgeUATuukzfyJ7QFplhm7sqHxAQxp20HIyfkCOlLnIYr1/QHHeCvcBpIBAYtSJf0pogUBVTQDxpSqCQPAAd9Iq6oJAVL3YPuulg0AMZ/Lk9FyEQBr5cgdRDoVAiSvaRFC5hUA5wZGU5F2GQPAVAPu/+4ZAMLxIcp+Sh0DfqBsVTiKIQEoztR6lqohAJBXe6osriUCEauv196SJQOmxvtzsFopANczFXHyBikCy/PpTxuSKQA/p5MD4QItAYZmWwk+Wi0AieK+YFeWLQDNSW6OiLYxA2lZSY11wjEDBF9l5uq2MQPuIwKg85oxA/gBm0nQajUD9Wbrc8UqNQAPQTTjCd41AUSCxWQGhjUBcBBQi2saNQFfvPvd46Y1ANQ6TwwsJjkCkRwr2wSWOQBA8N4LMP45ApEVF4F1XjkBIePgMqmyOQKKhrYnmf45AFUlaXEqRjkDBr4wPDqGOQIfQa7Jrr45AAmC32J68jkD1xwP1zsiOQCUZ+1vn045AXFjXJvvdjkALKkISIOeOQJg2n9tq745AWyoMQe/2jkCftWABwP2OQKKMLtzuA49AlmfBkYwJj0A=",
           "dtype": "f8",
           "shape": "100"
          },
          "bdata": "AAAAAAAAIEDFBePYcqYhQI32RVYLeCNAwTsLOid5JUAsoEGEY64nQKX+BwfcHCpAFtXOUkDKLECKRFi207wvQI8IXJ+2fTFABdGp27tGM0DSAPHUeD01QKjuNa82ZjdAf8nBCYbFOUAr3G6gD2A8QKhDxZF0Oz9Appx9HP0uQUCsglz2IudCQHh/jH+uyURACMbTXlLaRkDUkLE48RxJQL4hXq+dlUtAIMLKYppITkBh4VD4LJ1QQO89I3q/N1JAj6ZqA272U0BwqNF5nNtVQGboSNeM6FdAqnsYPIkgWkDNZdcqLodcQCQOohCoH19A3x+Noln2YEC0lDMFTnhiQNaumkafFmRAaWlbcgPSZUBscVGJ+KpnQMIlm4HEoWlAKJeZRnW2a0A7iPC44OhtQLw2Q1dSHHBAnDZCeZNScUBMh3JYDZdyQHqNQg9s6XNAkOV4lkdIdUDvPX1uJbJ2QOJxez+CJXhAkolj2dGgeUATuukzfyJ7QFplhm7sqHxAQxp20HIyfkCOlLnIYr1/QHHeCvcBpIBAYtSJf0pogUBVTQDxpSqCQPAAd9Iq6oJAVL3YPuulg0AMZ/Lk9FyEQBr5cgdRDoVAiSvaRFC5hUA5wZGU5F2GQPAVAPu/+4ZAMLxIcp+Sh0DfqBsVTiKIQEoztR6lqohAJBXe6osriUCEauv196SJQOmxvtzsFopANczFXHyBikCy/PpTxuSKQA/p5MD4QItAYZmWwk+Wi0AieK+YFeWLQDNSW6OiLYxA2lZSY11wjEDBF9l5uq2MQPuIwKg85oxA/gBm0nQajUD9Wbrc8UqNQAPQTTjCd41AUSCxWQGhjUBcBBQi2saNQFfvPvd46Y1ANQ6TwwsJjkCkRwr2wSWOQBA8N4LMP45ApEVF4F1XjkBIePgMqmyOQKKhrYnmf45AFUlaXEqRjkDBr4wPDqGOQIfQa7Jrr45AAmC32J68jkD1xwP1zsiOQCUZ+1vn045AXFjXJvvdjkALKkISIOeOQJg2n9tq745AWyoMQe/2jkCftWABwP2OQKKMLtzuA49AlmfBkYwJj0A=",
          "dtype": "f8"
         }
        },
        {
         "type": "scatter",
         "x": {
          "_inputArray": {
           "0": 0,
           "1": 0.98989898989899,
           "10": 9.8989898989899,
           "11": 10.88888888888889,
           "12": 11.878787878787879,
           "13": 12.868686868686869,
           "14": 13.85858585858586,
           "15": 14.84848484848485,
           "16": 15.83838383838384,
           "17": 16.82828282828283,
           "18": 17.81818181818182,
           "19": 18.80808080808081,
           "2": 1.97979797979798,
           "20": 19.7979797979798,
           "21": 20.78787878787879,
           "22": 21.77777777777778,
           "23": 22.767676767676768,
           "24": 23.757575757575758,
           "25": 24.747474747474747,
           "26": 25.737373737373737,
           "27": 26.72727272727273,
           "28": 27.71717171717172,
           "29": 28.70707070707071,
           "3": 2.9696969696969697,
           "30": 29.6969696969697,
           "31": 30.68686868686869,
           "32": 31.67676767676768,
           "33": 32.66666666666667,
           "34": 33.65656565656566,
           "35": 34.64646464646465,
           "36": 35.63636363636364,
           "37": 36.62626262626263,
           "38": 37.61616161616162,
           "39": 38.60606060606061,
           "4": 3.95959595959596,
           "40": 39.5959595959596,
           "41": 40.58585858585859,
           "42": 41.57575757575758,
           "43": 42.56565656565657,
           "44": 43.55555555555556,
           "45": 44.54545454545455,
           "46": 45.535353535353536,
           "47": 46.525252525252526,
           "48": 47.515151515151516,
           "49": 48.505050505050505,
           "5": 4.94949494949495,
           "50": 49.494949494949495,
           "51": 50.484848484848484,
           "52": 51.474747474747474,
           "53": 52.464646464646464,
           "54": 53.45454545454546,
           "55": 54.44444444444445,
           "56": 55.43434343434344,
           "57": 56.42424242424243,
           "58": 57.41414141414142,
           "59": 58.40404040404041,
           "6": 5.9393939393939394,
           "60": 59.3939393939394,
           "61": 60.38383838383839,
           "62": 61.37373737373738,
           "63": 62.36363636363637,
           "64": 63.35353535353536,
           "65": 64.34343434343435,
           "66": 65.33333333333334,
           "67": 66.32323232323233,
           "68": 67.31313131313132,
           "69": 68.30303030303031,
           "7": 6.92929292929293,
           "70": 69.2929292929293,
           "71": 70.28282828282829,
           "72": 71.27272727272728,
           "73": 72.26262626262627,
           "74": 73.25252525252526,
           "75": 74.24242424242425,
           "76": 75.23232323232324,
           "77": 76.22222222222223,
           "78": 77.21212121212122,
           "79": 78.20202020202021,
           "8": 7.91919191919192,
           "80": 79.1919191919192,
           "81": 80.18181818181819,
           "82": 81.17171717171718,
           "83": 82.16161616161617,
           "84": 83.15151515151516,
           "85": 84.14141414141415,
           "86": 85.13131313131314,
           "87": 86.12121212121212,
           "88": 87.11111111111111,
           "89": 88.1010101010101,
           "9": 8.90909090909091,
           "90": 89.0909090909091,
           "91": 90.08080808080808,
           "92": 91.07070707070707,
           "93": 92.06060606060606,
           "94": 93.05050505050505,
           "95": 94.04040404040404,
           "96": 95.03030303030303,
           "97": 96.02020202020202,
           "98": 97.01010101010101,
           "99": 98,
           "bdata": "AAAAAAAAAAADtX6lQK3vPwO1fqVArf8/wgcffPDBB0ADtX6lQK0PQCIxb2dIzBNAwgcffPDBF0Bj3s6QmLcbQAO1fqVArR9A0kUXXXTRIUAiMW9nSMwjQHIcx3EcxyVAwgcffPDBJ0AS83aGxLwpQGPezpCYtytAs8kmm2yyLUADtX6lQK0vQCpQ61cK1DBA0kUXXXTRMUB6O0Ni3s4yQCIxb2dIzDNAyiabbLLJNEByHMdxHMc1QBoS83aGxDZAwgcffPDBN0Bq/UqBWr84QBLzdobEvDlAu+iiiy66OkBj3s6QmLc7QAvU+pUCtTxAs8kmm2yyPUBbv1Kg1q8+QAO1fqVArT9AVlVVVVVVQEAqUOtXCtRAQP5KgVq/UkFA0kUXXXTRQUCmQK1fKVBCQHo7Q2LezkJATjbZZJNNQ0AiMW9nSMxDQPYrBWr9SkRAyiabbLLJRECeITFvZ0hFQHIcx3Ecx0VARhdddNFFRkAaEvN2hsRGQO4MiXk7Q0dAwgcffPDBR0CWArV+pUBIQGr9SoFav0hAPvjggw8+SUAS83aGxLxJQObtDIl5O0pAu+iiiy66SkCP4ziO4zhLQGPezpCYt0tAN9lkk002TEAL1PqVArVMQN/OkJi3M01As8kmm2yyTUCHxLydITFOQFu/UqDWr05AL7rooosuT0ADtX6lQK1PQOxXCtT6FVBAVlVVVVVVUEDAUqDWr5RQQCpQ61cK1FBAlE022WQTUUD+SoFav1JRQGhIzNsZklFA0kUXXXTRUUA8Q2LezhBSQKZArV8pUFJAED744IOPUkB6O0Ni3s5SQOQ4juM4DlNATjbZZJNNU0C4MyTm7YxTQCIxb2dIzFNAjC666KILVED2KwVq/UpUQGApUOtXilRAyiabbLLJVEA0JObtDAlVQJ4hMW9nSFVACB988MGHVUByHMdxHMdVQNwZEvN2BlZARhdddNFFVkCwFKj1K4VWQBoS83aGxFZAhA8++OADV0DuDIl5O0NXQFgK1PqVgldAwgcffPDBV0AsBWr9SgFYQJYCtX6lQFhAAAAAAACAWEA=",
           "dtype": "f8",
           "shape": "100"
          },
          "bdata": "AAAAAAAAAAADtX6lQK3vPwO1fqVArf8/wgcffPDBB0ADtX6lQK0PQCIxb2dIzBNAwgcffPDBF0Bj3s6QmLcbQAO1fqVArR9A0kUXXXTRIUAiMW9nSMwjQHIcx3EcxyVAwgcffPDBJ0AS83aGxLwpQGPezpCYtytAs8kmm2yyLUADtX6lQK0vQCpQ61cK1DBA0kUXXXTRMUB6O0Ni3s4yQCIxb2dIzDNAyiabbLLJNEByHMdxHMc1QBoS83aGxDZAwgcffPDBN0Bq/UqBWr84QBLzdobEvDlAu+iiiy66OkBj3s6QmLc7QAvU+pUCtTxAs8kmm2yyPUBbv1Kg1q8+QAO1fqVArT9AVlVVVVVVQEAqUOtXCtRAQP5KgVq/UkFA0kUXXXTRQUCmQK1fKVBCQHo7Q2LezkJATjbZZJNNQ0AiMW9nSMxDQPYrBWr9SkRAyiabbLLJRECeITFvZ0hFQHIcx3Ecx0VARhdddNFFRkAaEvN2hsRGQO4MiXk7Q0dAwgcffPDBR0CWArV+pUBIQGr9SoFav0hAPvjggw8+SUAS83aGxLxJQObtDIl5O0pAu+iiiy66SkCP4ziO4zhLQGPezpCYt0tAN9lkk002TEAL1PqVArVMQN/OkJi3M01As8kmm2yyTUCHxLydITFOQFu/UqDWr05AL7rooosuT0ADtX6lQK1PQOxXCtT6FVBAVlVVVVVVUEDAUqDWr5RQQCpQ61cK1FBAlE022WQTUUD+SoFav1JRQGhIzNsZklFA0kUXXXTRUUA8Q2LezhBSQKZArV8pUFJAED744IOPUkB6O0Ni3s5SQOQ4juM4DlNATjbZZJNNU0C4MyTm7YxTQCIxb2dIzFNAjC666KILVED2KwVq/UpUQGApUOtXilRAyiabbLLJVEA0JObtDAlVQJ4hMW9nSFVACB988MGHVUByHMdxHMdVQNwZEvN2BlZARhdddNFFVkCwFKj1K4VWQBoS83aGxFZAhA8++OADV0DuDIl5O0NXQFgK1PqVgldAwgcffPDBV0AsBWr9SgFYQJYCtX6lQFhAAAAAAACAWEA=",
          "dtype": "f8"
         },
         "y": {
          "_inputArray": {
           "0": 9,
           "1": 9.927199716643708,
           "10": 23.855402834247535,
           "11": 26.273245765722283,
           "12": 28.928290525870793,
           "13": 31.840090968434072,
           "14": 35.032830055134504,
           "15": 38.53361630214267,
           "16": 42.37087523216796,
           "17": 46.57434937445859,
           "18": 51.175098264801534,
           "19": 56.205498445522565,
           "2": 10.948874488252187,
           "20": 61.69924346548628,
           "21": 67.69134388009607,
           "22": 74.21812725129405,
           "23": 81.31723814756127,
           "24": 89.02763814391744,
           "25": 97.3882660089431,
           "26": 106.41703121306277,
           "27": 116.1639096535736,
           "28": 126.68614369453114,
           "29": 138.03262489759481,
           "3": 12.074510326952417,
           "30": 150.24389402202783,
           "31": 163.3521410246972,
           "32": 177.38120506007374,
           "33": 192.34657448023205,
           "34": 208.2553868348504,
           "35": 225.1064288712111,
           "36": 242.8901365342001,
           "37": 261.5885949663072,
           "38": 281.17553850762596,
           "39": 301.61635069585367,
           "4": 13.314170913273017,
           "40": 322.88081341426897,
           "41": 344.95144780555364,
           "42": 367.7242096382233,
           "43": 391.08700700330047,
           "44": 414.9287210113583,
           "45": 439.13920579251976,
           "46": 463.60928849645825,
           "47": 488.23076929239755,
           "48": 512.8964213691113,
           "49": 537.4999909349237,
           "5": 14.678986595464401,
           "50": 561.9361972177092,
           "51": 586.1007324648918,
           "52": 609.8902619434468,
           "53": 633.2024239398991,
           "54": 655.9358297603239,
           "55": 677.9900637303464,
           "56": 699.2656831951426,
           "57": 719.6727280982192,
           "58": 739.1982495051511,
           "59": 757.8258760466268,
           "6": 16.181308424648407,
           "60": 775.5373766320477,
           "61": 792.3211099842251,
           "62": 808.1720246393809,
           "63": 823.0916589471469,
           "64": 837.088141070565,
           "65": 850.1761889860876,
           "66": 862.3771104835766,
           "67": 873.7188031663046,
           "68": 884.2357544509541,
           "69": 893.9690415676178,
           "7": 17.83470815481832,
           "70": 902.9663315597986,
           "71": 911.2818812844093,
           "72": 918.9762165804588,
           "73": 926.0929757991634,
           "74": 932.6574218246132,
           "75": 938.6951820094959,
           "76": 944.232695722605,
           "77": 949.2972143488403,
           "78": 953.9168012892078,
           "79": 958.1203319608195,
           "8": 19.653978242838818,
           "80": 961.9374937968937,
           "81": 965.3987862467548,
           "82": 968.5355207758331,
           "83": 971.3798208656655,
           "84": 973.9646220138947,
           "85": 976.3236717342695,
           "86": 978.4915261427931,
           "87": 980.4852062394192,
           "88": 982.3060054633689,
           "89": 983.9642824068821,
           "9": 21.65513184844604,
           "90": 985.4704724334065,
           "91": 986.8350876775977,
           "92": 988.0687170453195,
           "93": 989.1820262136436,
           "94": 990.1857576308495,
           "95": 991.0907305164249,
           "96": 991.9078408610652,
           "97": 992.648061426674,
           "98": 993.3224417463626,
           "99": 993.9421081244507,
           "bdata": "AAAAAAAAIkC9sNfrudojQJAafuDS5SVAJvOyNyYmKEBguYsC26AqQEziiyGkWy1ArFqaOmouMEAxpgJvr9UxQMxJPR5rpzNAzqSHuLanNUC2/x2u+9o3QDWMO2/zRTpAPM2pcqTtPEDdFqMzENc/QHWQdsYzhEFAWSj7iU1EQ0Bmh/DWeC9FQIzjwUeESUdAWHS0nmmWSUD6cufFTRpMQEcaVM+A2U5AWtNm+j7sUEAoqwDM9Y1SQG80O6FNVFRA2A/H0sRBVkDIo6xZ2VhYQANhr6OwmlpAOmbqfn0KXUCLFz7H6atfQJCGXkMLQWFAlQnW+s3HYkDxFEG9RGtkQMRC9NQyLGZAMkddIxcLaEBe8AIhLAhqQHYmhd1nI2xAqOuc/3tcbkATLo7iallwQBNXdwHPknFA7xiMktzZckCdgs7PFy50QEOLVSE5j3VA33nYXJb7dkAtm3RhZHF4QEUukArc7nlAlGTaLzpye0DgYUulv/l8QEw8JDuxg35AJn733isHgEBaTj/7/8uAQFaF91R9j4FA2ZLSTM5QgkDSX6dBHw+DQFpOcZCeyYNAuDlQlHx/hEBZdoim6y+FQODRgh4g2oVAnedEv2F9hkCUKNYDlhmHQH+W5mSbrodAPKIejEw8iEBUhRyikcKIQPpBdE5gQYlADqOvt7u4iUAXPE6DtCiKQEtpxdVokYpAhk+AUgTzikBR3N8bwE2LQODFOtPioYtAEIvdmMDvi0BscwoMuzeMQCSP+UpBeoxAEXejSs+3jEDPhRhqvvCMQB+jX2ZCJY1Aa9yVu49VjUAPNJOP3IGNQF6h6rFgqo1AoBDqm1XPjUARY5pw9vCNQORuv/x/D45AQP/XtjArjkBB1B2/SESOQPmihd8JW45AbxW/i7dvjkCeyjThloKOQGcjQqXuk45A9xDPs+GjjkCJDP6ycrKOQFbNsdm2v45ANBkNh8PLjkCZxHJCrtaOQJqyhbuM4I5A6dQoynTpjkDZK39ufPGOQFrG69C5+I5A+8ERQkP/jkDpStQ6LwWPQPGbVlyUCo9Afv77b4kPj0A=",
           "dtype": "f8",
           "shape": "100"
          },
          "bdata": "AAAAAAAAIkC9sNfrudojQJAafuDS5SVAJvOyNyYmKEBguYsC26AqQEziiyGkWy1ArFqaOmouMEAxpgJvr9UxQMxJPR5rpzNAzqSHuLanNUC2/x2u+9o3QDWMO2/zRTpAPM2pcqTtPEDdFqMzENc/QHWQdsYzhEFAWSj7iU1EQ0Bmh/DWeC9FQIzjwUeESUdAWHS0nmmWSUD6cufFTRpMQEcaVM+A2U5AWtNm+j7sUEAoqwDM9Y1SQG80O6FNVFRA2A/H0sRBVkDIo6xZ2VhYQANhr6OwmlpAOmbqfn0KXUCLFz7H6atfQJCGXkMLQWFAlQnW+s3HYkDxFEG9RGtkQMRC9NQyLGZAMkddIxcLaEBe8AIhLAhqQHYmhd1nI2xAqOuc/3tcbkATLo7iallwQBNXdwHPknFA7xiMktzZckCdgs7PFy50QEOLVSE5j3VA33nYXJb7dkAtm3RhZHF4QEUukArc7nlAlGTaLzpye0DgYUulv/l8QEw8JDuxg35AJn733isHgEBaTj/7/8uAQFaF91R9j4FA2ZLSTM5QgkDSX6dBHw+DQFpOcZCeyYNAuDlQlHx/hEBZdoim6y+FQODRgh4g2oVAnedEv2F9hkCUKNYDlhmHQH+W5mSbrodAPKIejEw8iEBUhRyikcKIQPpBdE5gQYlADqOvt7u4iUAXPE6DtCiKQEtpxdVokYpAhk+AUgTzikBR3N8bwE2LQODFOtPioYtAEIvdmMDvi0BscwoMuzeMQCSP+UpBeoxAEXejSs+3jEDPhRhqvvCMQB+jX2ZCJY1Aa9yVu49VjUAPNJOP3IGNQF6h6rFgqo1AoBDqm1XPjUARY5pw9vCNQORuv/x/D45AQP/XtjArjkBB1B2/SESOQPmihd8JW45AbxW/i7dvjkCeyjThloKOQGcjQqXuk45A9xDPs+GjjkCJDP6ycrKOQFbNsdm2v45ANBkNh8PLjkCZxHJCrtaOQJqyhbuM4I5A6dQoynTpjkDZK39ufPGOQFrG69C5+I5A+8ERQkP/jkDpStQ6LwWPQPGbVlyUCo9Afv77b4kPj0A=",
          "dtype": "f8"
         }
        }
       ],
       "layout": {
        "autosize": true,
        "template": {
         "data": {
          "bar": [
           {
            "error_x": {
             "color": "#f2f5fa"
            },
            "error_y": {
             "color": "#f2f5fa"
            },
            "marker": {
             "line": {
              "color": "rgb(17,17,17)",
              "width": 0.5
             },
             "pattern": {
              "fillmode": "overlay",
              "size": 10,
              "solidity": 0.2
             }
            },
            "type": "bar"
           }
          ],
          "barpolar": [
           {
            "marker": {
             "line": {
              "color": "rgb(17,17,17)",
              "width": 0.5
             },
             "pattern": {
              "fillmode": "overlay",
              "size": 10,
              "solidity": 0.2
             }
            },
            "type": "barpolar"
           }
          ],
          "carpet": [
           {
            "aaxis": {
             "endlinecolor": "#A2B1C6",
             "gridcolor": "#506784",
             "linecolor": "#506784",
             "minorgridcolor": "#506784",
             "startlinecolor": "#A2B1C6"
            },
            "baxis": {
             "endlinecolor": "#A2B1C6",
             "gridcolor": "#506784",
             "linecolor": "#506784",
             "minorgridcolor": "#506784",
             "startlinecolor": "#A2B1C6"
            },
            "type": "carpet"
           }
          ],
          "choropleth": [
           {
            "colorbar": {
             "outlinewidth": 0,
             "ticks": ""
            },
            "type": "choropleth"
           }
          ],
          "contour": [
           {
            "colorbar": {
             "outlinewidth": 0,
             "ticks": ""
            },
            "colorscale": [
             [
              0,
              "#0d0887"
             ],
             [
              0.1111111111111111,
              "#46039f"
             ],
             [
              0.2222222222222222,
              "#7201a8"
             ],
             [
              0.3333333333333333,
              "#9c179e"
             ],
             [
              0.4444444444444444,
              "#bd3786"
             ],
             [
              0.5555555555555556,
              "#d8576b"
             ],
             [
              0.6666666666666666,
              "#ed7953"
             ],
             [
              0.7777777777777778,
              "#fb9f3a"
             ],
             [
              0.8888888888888888,
              "#fdca26"
             ],
             [
              1,
              "#f0f921"
             ]
            ],
            "type": "contour"
           }
          ],
          "contourcarpet": [
           {
            "colorbar": {
             "outlinewidth": 0,
             "ticks": ""
            },
            "type": "contourcarpet"
           }
          ],
          "heatmap": [
           {
            "colorbar": {
             "outlinewidth": 0,
             "ticks": ""
            },
            "colorscale": [
             [
              0,
              "#0d0887"
             ],
             [
              0.1111111111111111,
              "#46039f"
             ],
             [
              0.2222222222222222,
              "#7201a8"
             ],
             [
              0.3333333333333333,
              "#9c179e"
             ],
             [
              0.4444444444444444,
              "#bd3786"
             ],
             [
              0.5555555555555556,
              "#d8576b"
             ],
             [
              0.6666666666666666,
              "#ed7953"
             ],
             [
              0.7777777777777778,
              "#fb9f3a"
             ],
             [
              0.8888888888888888,
              "#fdca26"
             ],
             [
              1,
              "#f0f921"
             ]
            ],
            "type": "heatmap"
           }
          ],
          "histogram": [
           {
            "marker": {
             "pattern": {
              "fillmode": "overlay",
              "size": 10,
              "solidity": 0.2
             }
            },
            "type": "histogram"
           }
          ],
          "histogram2d": [
           {
            "colorbar": {
             "outlinewidth": 0,
             "ticks": ""
            },
            "colorscale": [
             [
              0,
              "#0d0887"
             ],
             [
              0.1111111111111111,
              "#46039f"
             ],
             [
              0.2222222222222222,
              "#7201a8"
             ],
             [
              0.3333333333333333,
              "#9c179e"
             ],
             [
              0.4444444444444444,
              "#bd3786"
             ],
             [
              0.5555555555555556,
              "#d8576b"
             ],
             [
              0.6666666666666666,
              "#ed7953"
             ],
             [
              0.7777777777777778,
              "#fb9f3a"
             ],
             [
              0.8888888888888888,
              "#fdca26"
             ],
             [
              1,
              "#f0f921"
             ]
            ],
            "type": "histogram2d"
           }
          ],
          "histogram2dcontour": [
           {
            "colorbar": {
             "outlinewidth": 0,
             "ticks": ""
            },
            "colorscale": [
             [
              0,
              "#0d0887"
             ],
             [
              0.1111111111111111,
              "#46039f"
             ],
             [
              0.2222222222222222,
              "#7201a8"
             ],
             [
              0.3333333333333333,
              "#9c179e"
             ],
             [
              0.4444444444444444,
              "#bd3786"
             ],
             [
              0.5555555555555556,
              "#d8576b"
             ],
             [
              0.6666666666666666,
              "#ed7953"
             ],
             [
              0.7777777777777778,
              "#fb9f3a"
             ],
             [
              0.8888888888888888,
              "#fdca26"
             ],
             [
              1,
              "#f0f921"
             ]
            ],
            "type": "histogram2dcontour"
           }
          ],
          "mesh3d": [
           {
            "colorbar": {
             "outlinewidth": 0,
             "ticks": ""
            },
            "type": "mesh3d"
           }
          ],
          "parcoords": [
           {
            "line": {
             "colorbar": {
              "outlinewidth": 0,
              "ticks": ""
             }
            },
            "type": "parcoords"
           }
          ],
          "pie": [
           {
            "automargin": true,
            "type": "pie"
           }
          ],
          "scatter": [
           {
            "marker": {
             "line": {
              "color": "#283442"
             }
            },
            "type": "scatter"
           }
          ],
          "scatter3d": [
           {
            "line": {
             "colorbar": {
              "outlinewidth": 0,
              "ticks": ""
             }
            },
            "marker": {
             "colorbar": {
              "outlinewidth": 0,
              "ticks": ""
             }
            },
            "type": "scatter3d"
           }
          ],
          "scattercarpet": [
           {
            "marker": {
             "colorbar": {
              "outlinewidth": 0,
              "ticks": ""
             }
            },
            "type": "scattercarpet"
           }
          ],
          "scattergeo": [
           {
            "marker": {
             "colorbar": {
              "outlinewidth": 0,
              "ticks": ""
             }
            },
            "type": "scattergeo"
           }
          ],
          "scattergl": [
           {
            "marker": {
             "line": {
              "color": "#283442"
             }
            },
            "type": "scattergl"
           }
          ],
          "scattermap": [
           {
            "marker": {
             "colorbar": {
              "outlinewidth": 0,
              "ticks": ""
             }
            },
            "type": "scattermap"
           }
          ],
          "scattermapbox": [
           {
            "marker": {
             "colorbar": {
              "outlinewidth": 0,
              "ticks": ""
             }
            },
            "type": "scattermapbox"
           }
          ],
          "scatterpolar": [
           {
            "marker": {
             "colorbar": {
              "outlinewidth": 0,
              "ticks": ""
             }
            },
            "type": "scatterpolar"
           }
          ],
          "scatterpolargl": [
           {
            "marker": {
             "colorbar": {
              "outlinewidth": 0,
              "ticks": ""
             }
            },
            "type": "scatterpolargl"
           }
          ],
          "scatterternary": [
           {
            "marker": {
             "colorbar": {
              "outlinewidth": 0,
              "ticks": ""
             }
            },
            "type": "scatterternary"
           }
          ],
          "surface": [
           {
            "colorbar": {
             "outlinewidth": 0,
             "ticks": ""
            },
            "colorscale": [
             [
              0,
              "#0d0887"
             ],
             [
              0.1111111111111111,
              "#46039f"
             ],
             [
              0.2222222222222222,
              "#7201a8"
             ],
             [
              0.3333333333333333,
              "#9c179e"
             ],
             [
              0.4444444444444444,
              "#bd3786"
             ],
             [
              0.5555555555555556,
              "#d8576b"
             ],
             [
              0.6666666666666666,
              "#ed7953"
             ],
             [
              0.7777777777777778,
              "#fb9f3a"
             ],
             [
              0.8888888888888888,
              "#fdca26"
             ],
             [
              1,
              "#f0f921"
             ]
            ],
            "type": "surface"
           }
          ],
          "table": [
           {
            "cells": {
             "fill": {
              "color": "#506784"
             },
             "line": {
              "color": "rgb(17,17,17)"
             }
            },
            "header": {
             "fill": {
              "color": "#2a3f5f"
             },
             "line": {
              "color": "rgb(17,17,17)"
             }
            },
            "type": "table"
           }
          ]
         },
         "layout": {
          "annotationdefaults": {
           "arrowcolor": "#f2f5fa",
           "arrowhead": 0,
           "arrowwidth": 1
          },
          "autotypenumbers": "strict",
          "coloraxis": {
           "colorbar": {
            "outlinewidth": 0,
            "ticks": ""
           }
          },
          "colorscale": {
           "diverging": [
            [
             0,
             "#8e0152"
            ],
            [
             0.1,
             "#c51b7d"
            ],
            [
             0.2,
             "#de77ae"
            ],
            [
             0.3,
             "#f1b6da"
            ],
            [
             0.4,
             "#fde0ef"
            ],
            [
             0.5,
             "#f7f7f7"
            ],
            [
             0.6,
             "#e6f5d0"
            ],
            [
             0.7,
             "#b8e186"
            ],
            [
             0.8,
             "#7fbc41"
            ],
            [
             0.9,
             "#4d9221"
            ],
            [
             1,
             "#276419"
            ]
           ],
           "sequential": [
            [
             0,
             "#0d0887"
            ],
            [
             0.1111111111111111,
             "#46039f"
            ],
            [
             0.2222222222222222,
             "#7201a8"
            ],
            [
             0.3333333333333333,
             "#9c179e"
            ],
            [
             0.4444444444444444,
             "#bd3786"
            ],
            [
             0.5555555555555556,
             "#d8576b"
            ],
            [
             0.6666666666666666,
             "#ed7953"
            ],
            [
             0.7777777777777778,
             "#fb9f3a"
            ],
            [
             0.8888888888888888,
             "#fdca26"
            ],
            [
             1,
             "#f0f921"
            ]
           ],
           "sequentialminus": [
            [
             0,
             "#0d0887"
            ],
            [
             0.1111111111111111,
             "#46039f"
            ],
            [
             0.2222222222222222,
             "#7201a8"
            ],
            [
             0.3333333333333333,
             "#9c179e"
            ],
            [
             0.4444444444444444,
             "#bd3786"
            ],
            [
             0.5555555555555556,
             "#d8576b"
            ],
            [
             0.6666666666666666,
             "#ed7953"
            ],
            [
             0.7777777777777778,
             "#fb9f3a"
            ],
            [
             0.8888888888888888,
             "#fdca26"
            ],
            [
             1,
             "#f0f921"
            ]
           ]
          },
          "colorway": [
           "#636efa",
           "#EF553B",
           "#00cc96",
           "#ab63fa",
           "#FFA15A",
           "#19d3f3",
           "#FF6692",
           "#B6E880",
           "#FF97FF",
           "#FECB52"
          ],
          "font": {
           "color": "#f2f5fa"
          },
          "geo": {
           "bgcolor": "rgb(17,17,17)",
           "lakecolor": "rgb(17,17,17)",
           "landcolor": "rgb(17,17,17)",
           "showlakes": true,
           "showland": true,
           "subunitcolor": "#506784"
          },
          "hoverlabel": {
           "align": "left"
          },
          "hovermode": "closest",
          "mapbox": {
           "style": "dark"
          },
          "paper_bgcolor": "rgb(17,17,17)",
          "plot_bgcolor": "rgb(17,17,17)",
          "polar": {
           "angularaxis": {
            "gridcolor": "#506784",
            "linecolor": "#506784",
            "ticks": ""
           },
           "bgcolor": "rgb(17,17,17)",
           "radialaxis": {
            "gridcolor": "#506784",
            "linecolor": "#506784",
            "ticks": ""
           }
          },
          "scene": {
           "xaxis": {
            "backgroundcolor": "rgb(17,17,17)",
            "gridcolor": "#506784",
            "gridwidth": 2,
            "linecolor": "#506784",
            "showbackground": true,
            "ticks": "",
            "zerolinecolor": "#C8D4E3"
           },
           "yaxis": {
            "backgroundcolor": "rgb(17,17,17)",
            "gridcolor": "#506784",
            "gridwidth": 2,
            "linecolor": "#506784",
            "showbackground": true,
            "ticks": "",
            "zerolinecolor": "#C8D4E3"
           },
           "zaxis": {
            "backgroundcolor": "rgb(17,17,17)",
            "gridcolor": "#506784",
            "gridwidth": 2,
            "linecolor": "#506784",
            "showbackground": true,
            "ticks": "",
            "zerolinecolor": "#C8D4E3"
           }
          },
          "shapedefaults": {
           "line": {
            "color": "#f2f5fa"
           }
          },
          "sliderdefaults": {
           "bgcolor": "#C8D4E3",
           "bordercolor": "rgb(17,17,17)",
           "borderwidth": 1,
           "tickwidth": 0
          },
          "ternary": {
           "aaxis": {
            "gridcolor": "#506784",
            "linecolor": "#506784",
            "ticks": ""
           },
           "baxis": {
            "gridcolor": "#506784",
            "linecolor": "#506784",
            "ticks": ""
           },
           "bgcolor": "rgb(17,17,17)",
           "caxis": {
            "gridcolor": "#506784",
            "linecolor": "#506784",
            "ticks": ""
           }
          },
          "title": {
           "x": 0.05
          },
          "updatemenudefaults": {
           "bgcolor": "#506784",
           "borderwidth": 0
          },
          "xaxis": {
           "automargin": true,
           "gridcolor": "#283442",
           "linecolor": "#506784",
           "ticks": "",
           "title": {
            "standoff": 15
           },
           "zerolinecolor": "#283442",
           "zerolinewidth": 2
          },
          "yaxis": {
           "automargin": true,
           "gridcolor": "#283442",
           "linecolor": "#506784",
           "ticks": "",
           "title": {
            "standoff": 15
           },
           "zerolinecolor": "#283442",
           "zerolinewidth": 2
          }
         }
        },
        "title": {
         "text": "Logística"
        },
        "xaxis": {
         "autorange": true,
         "range": [
          0,
          98
         ],
         "type": "linear"
        },
        "yaxis": {
         "autorange": true,
         "range": [
          -54.163450451358365,
          1049.105558575809
         ],
         "type": "linear"
        }
       }
      },
      "image/png": "[encoded data removed]"
     },
     "metadata": {},
     "output_type": "display_data"
    }
   ],
   "source": [
    "# Resolvendo para varias condições iniciais\n",
    "\n",
    "fig = go.Figure()\n",
    "\n",
    "for yi in range(1,10):\n",
    "    sol = solve_ivp(Model, [0,98], [yi], t_eval=t)\n",
    "    fig.add_trace(go.Scatter(\n",
    "        x=sol.t,\n",
    "        y=sol.y[0]\n",
    "    ))\n",
    "fig.update_layout(\n",
    "    title=\"Logística\",\n",
    "    height=500,\n",
    "    template=\"plotly_dark\")\n",
    "\n",
    "fig.show()"
   ]
  },
  {
   "cell_type": "code",
   "execution_count": null,
   "id": "270cd93c-8769-411f-a4f1-4a4ae970af84",
   "metadata": {},
   "outputs": [],
   "source": []
  }
 ],
 "metadata": {
  "kernelspec": {
   "display_name": "Python 3 (ipykernel)",
   "language": "python",
   "name": "python3"
  },
  "language_info": {
   "codemirror_mode": {
    "name": "ipython",
    "version": 3
   },
   "file_extension": ".py",
   "mimetype": "text/x-python",
   "name": "python",
   "nbconvert_exporter": "python",
   "pygments_lexer": "ipython3",
   "version": "3.12.2"
  }
 },
 "nbformat": 4,
 "nbformat_minor": 5
}
